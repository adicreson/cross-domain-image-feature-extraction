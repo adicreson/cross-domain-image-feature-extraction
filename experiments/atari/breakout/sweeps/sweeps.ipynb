{
 "cells": [
  {
   "cell_type": "markdown",
   "id": "3aa10e55ac7f097b",
   "metadata": {
    "collapsed": false
   },
   "source": [
    "    # Importing Libraries"
   ]
  },
  {
   "cell_type": "code",
   "id": "990905f50fea55f1",
   "metadata": {
    "collapsed": false,
    "ExecuteTime": {
     "end_time": "2024-04-29T11:43:07.369280Z",
     "start_time": "2024-04-29T11:43:05.038264Z"
    }
   },
   "source": [
    "import datetime\n",
    "import multiprocessing\n",
    "import random\n",
    "import time\n",
    "\n",
    "import torch\n",
    "import wandb\n",
    "from stable_baselines3 import PPO\n",
    "from stable_baselines3.common.callbacks import CallbackList, EvalCallback\n",
    "from stable_baselines3.common.env_util import make_atari_env\n",
    "from stable_baselines3.common.vec_env import VecFrameStack, VecTransposeImage\n",
    "from wandb.integration.sb3 import WandbCallback\n",
    "from feature_extraction.callbacks.wandb_on_training_end_callback import WandbOnTrainingEndCallback\n",
    "from feature_extraction.feature_extractors.resnet.block_feature_extractor import BlockFeatureExtractor\n",
    "from feature_extraction.wrappers.vec_feature_extractor import VecFeatureExtractor\n",
    "from utils import linear_schedule, make_resnet_atari_env\n",
    "from collections import OrderedDict\n",
    "\n",
    "from torchvision.models import ResNet50_Weights, resnet50"
   ],
   "outputs": [
    {
     "name": "stderr",
     "output_type": "stream",
     "text": [
      "2024-04-29 13:43:05.944765: I tensorflow/core/util/port.cc:113] oneDNN custom operations are on. You may see slightly different numerical results due to floating-point round-off errors from different computation orders. To turn them off, set the environment variable `TF_ENABLE_ONEDNN_OPTS=0`.\n",
      "2024-04-29 13:43:05.964384: E external/local_xla/xla/stream_executor/cuda/cuda_dnn.cc:9261] Unable to register cuDNN factory: Attempting to register factory for plugin cuDNN when one has already been registered\n",
      "2024-04-29 13:43:05.964404: E external/local_xla/xla/stream_executor/cuda/cuda_fft.cc:607] Unable to register cuFFT factory: Attempting to register factory for plugin cuFFT when one has already been registered\n",
      "2024-04-29 13:43:05.964901: E external/local_xla/xla/stream_executor/cuda/cuda_blas.cc:1515] Unable to register cuBLAS factory: Attempting to register factory for plugin cuBLAS when one has already been registered\n",
      "2024-04-29 13:43:05.968199: I tensorflow/core/platform/cpu_feature_guard.cc:182] This TensorFlow binary is optimized to use available CPU instructions in performance-critical operations.\n",
      "To enable the following instructions: AVX2 AVX_VNNI FMA, in other operations, rebuild TensorFlow with the appropriate compiler flags.\n",
      "2024-04-29 13:43:06.347225: W tensorflow/compiler/tf2tensorrt/utils/py_utils.cc:38] TF-TRT Warning: Could not find TensorRT\n",
      "/home/mamdi/PycharmProjects/Global-Feature-Extraction/venv/lib/python3.10/site-packages/transformers/utils/generic.py:441: UserWarning: torch.utils._pytree._register_pytree_node is deprecated. Please use torch.utils._pytree.register_pytree_node instead.\n",
      "  _torch_pytree._register_pytree_node(\n"
     ]
    }
   ],
   "execution_count": 1
  },
  {
   "cell_type": "markdown",
   "id": "1c8dfb31a922ebdc",
   "metadata": {
    "collapsed": false
   },
   "source": [
    "# Method for running a single experiment with a configuration"
   ]
  },
  {
   "cell_type": "code",
   "source": [
    "def run_experiment(config):\n",
    "    wandb.login()\n",
    "\n",
    "    # Initialize the wandb run\n",
    "    wandb.init(project=\"ablation_study\",\n",
    "                     name=\"sweep\",\n",
    "                     config=config, save_code=True,\n",
    "                     sync_tensorboard=True)\n",
    "    \n",
    "    config = wandb.config\n",
    "    \n",
    "    log_dir = f\"logs/sweep\"\n",
    "    #feature_extractor = StageFeatureExtractor()\n",
    "    \n",
    "    model = resnet50(weights=ResNet50_Weights.IMAGENET1K_V2)\n",
    "    device = torch.device(\"cuda\" if torch.cuda.is_available() else \"cpu\")\n",
    "    print(\"Device: \", device)\n",
    "    model.to(device)\n",
    "    feature_extractor = BlockFeatureExtractor(model, 16, log_dir, log_to_wandb=True)\n",
    "    \n",
    "    # Create Evaluation Environment\n",
    "    vec_eval_env = make_resnet_atari_env(\n",
    "        \"BreakoutNoFrameskip-v4\",\n",
    "        n_envs=8,\n",
    "        seed=14,\n",
    "    )\n",
    "    \n",
    "    print(\"------- PRINTING WRAPPER OBSERVATION SPACES ------\")\n",
    "    print(\"original_observation_space\", vec_eval_env.observation_space.shape)\n",
    "    vec_eval_env = VecTransposeImage(vec_eval_env)\n",
    "    print(\"vec_transpose_obs_space\", vec_eval_env.observation_space.shape)\n",
    "\n",
    "    vec_eval_env = VecFrameStack(vec_eval_env, n_stack=4)\n",
    "    print(\"vec_frame_stack_obs_space\", vec_eval_env.observation_space.shape)\n",
    "\n",
    "    vec_eval_env = VecFeatureExtractor(vec_eval_env, feature_extractor, n_stacks=4)\n",
    "    print(\"vec_feature_extractor_obs_space\", vec_eval_env.observation_space.shape)\n",
    "    print(\"------- FINISHED PRINTING WRAPPER OBSERVATION SPACES ------\")\n",
    "\n",
    "    \n",
    "    # Create Training Environment    \n",
    "    vec_train_env = make_resnet_atari_env(\"BreakoutNoFrameskip-v4\", n_envs=8, seed=12)\n",
    "    vec_train_env = VecTransposeImage(vec_train_env)\n",
    "    vec_train_env = VecFrameStack(vec_train_env, n_stack=4)\n",
    "    vec_train_env = VecFeatureExtractor(vec_train_env, feature_extractor, n_stacks=4)\n",
    "\n",
    "    # Define the keys for PPO-specific hyperparameters\n",
    "    ppo_params_keys = [\n",
    "        'batch_size',\n",
    "        'ent_coef',\n",
    "        'n_epochs',\n",
    "        'n_steps',\n",
    "        'vf_coef',\n",
    "        'normalize_advantage',\n",
    "    ]\n",
    "\n",
    "    # Filter the config dictionary to extract only the PPO hyperparameters\n",
    "    ppo_hyperparams = {key: config[key] for key in ppo_params_keys if key in config}\n",
    "\n",
    "    # Additional hyperparameters not in the initial filter that require custom handling\n",
    "    learning_rate_schedule = linear_schedule(2.5e-4)\n",
    "    clip_range_schedule = linear_schedule(0.1)\n",
    "\n",
    "    # Instantiate the PPO model with the specified hyperparameters and environment\n",
    "    model = PPO(\n",
    "        policy=\"MlpPolicy\",\n",
    "        **ppo_hyperparams,\n",
    "        learning_rate=learning_rate_schedule,\n",
    "        clip_range=clip_range_schedule,\n",
    "        env=vec_train_env,\n",
    "        verbose=1,\n",
    "        tensorboard_log=f\"{log_dir}\",\n",
    "    )\n",
    "\n",
    "\n",
    "    wandb.agent(sweep_id, model.learn(total_timesteps=10_000, callback=WandbCallback), count=3)\n",
    "\n",
    "    wandb.finish()"
   ],
   "metadata": {
    "collapsed": false,
    "ExecuteTime": {
     "end_time": "2024-04-29T11:43:07.373532Z",
     "start_time": "2024-04-29T11:43:07.369944Z"
    }
   },
   "id": "703ef7863fdada08",
   "outputs": [],
   "execution_count": 2
  },
  {
   "cell_type": "markdown",
   "id": "98fd40b133aa74c6",
   "metadata": {
    "collapsed": false
   },
   "source": [
    "# Method for running multiple experiments with a configuration"
   ]
  },
  {
   "cell_type": "markdown",
   "id": "d21476eb484eed70",
   "metadata": {
    "collapsed": false
   },
   "source": [
    "# Run experiments"
   ]
  },
  {
   "cell_type": "code",
   "id": "97d8d2eb7eba7780",
   "metadata": {
    "collapsed": false,
    "is_executing": true,
    "ExecuteTime": {
     "end_time": "2024-04-29T11:43:14.857292Z",
     "start_time": "2024-04-29T11:43:07.374021Z"
    }
   },
   "source": [
    "sweep_config = {\n",
    "    'method': 'bayes',  # Bayesian optimization\n",
    "    'metric': {\n",
    "        'name': 'ep_rew_mean',  # Metric to optimize\n",
    "        'goal': 'maximize'  # Goal: maximize mean reward\n",
    "    },\n",
    "    'parameters': {\n",
    "        'learning_rate': {\n",
    "            'distribution': 'uniform',\n",
    "            'min': 0.0001,\n",
    "            'max': 0.001\n",
    "        },\n",
    "        'batch_size': {\n",
    "            'distribution': 'q_log_uniform_values',\n",
    "            'q': 1,\n",
    "            'min': 64,\n",
    "            'max': 512\n",
    "        },\n",
    "        'clip_range': {\n",
    "            'distribution': 'uniform',\n",
    "            'min': 0.1,\n",
    "            'max': 0.2\n",
    "        },\n",
    "        'n_steps': {\n",
    "            'distribution': 'q_log_uniform_values',\n",
    "            'q': 1,\n",
    "            'min': 64,\n",
    "            'max': 2048\n",
    "        },\n",
    "        'n_epochs': {\n",
    "            'values': [3, 4, 5, 6]\n",
    "        },\n",
    "        'ent_coef': {\n",
    "            'distribution': 'log_uniform_values',\n",
    "            'min': 0.0001,\n",
    "            'max': 0.1\n",
    "        },\n",
    "        'vf_coef': {\n",
    "            'distribution': 'uniform',\n",
    "            'min': 0.1,\n",
    "            'max': 1.0\n",
    "        }\n",
    "    }\n",
    "}\n",
    "\n",
    "sweep_id = wandb.sweep(sweep_config, project=\"ablation_study\")\n",
    "\n",
    "run_experiment(sweep_config);"
   ],
   "outputs": [
    {
     "name": "stdout",
     "output_type": "stream",
     "text": [
      "Create sweep with ID: ecrx1yhp\n",
      "Sweep URL: https://wandb.ai/feature_extraction/ablation_study/sweeps/ecrx1yhp\n"
     ]
    },
    {
     "name": "stderr",
     "output_type": "stream",
     "text": [
      "\u001B[34m\u001B[1mwandb\u001B[0m: Currently logged in as: \u001B[33madicreson\u001B[0m (\u001B[33mfeature_extraction\u001B[0m). Use \u001B[1m`wandb login --relogin`\u001B[0m to force relogin\n"
     ]
    },
    {
     "data": {
      "text/plain": [
       "<IPython.core.display.HTML object>"
      ],
      "text/html": [
       "Changes to your `wandb` environment variables will be ignored because your `wandb` session has already started. For more information on how to modify your settings with `wandb.init()` arguments, please refer to <a href='https://wandb.me/wandb-init' target=\"_blank\">the W&B docs</a>."
      ]
     },
     "metadata": {},
     "output_type": "display_data"
    },
    {
     "data": {
      "text/plain": [
       "<IPython.core.display.HTML object>"
      ],
      "text/html": [
       "Tracking run with wandb version 0.16.6"
      ]
     },
     "metadata": {},
     "output_type": "display_data"
    },
    {
     "data": {
      "text/plain": [
       "<IPython.core.display.HTML object>"
      ],
      "text/html": [
       "Run data is saved locally in <code>/home/mamdi/PycharmProjects/Global-Feature-Extraction/experiments/atari/breakout/sweep/wandb/run-20240429_134311-4zjoaza5</code>"
      ]
     },
     "metadata": {},
     "output_type": "display_data"
    },
    {
     "data": {
      "text/plain": [
       "<IPython.core.display.HTML object>"
      ],
      "text/html": [
       "Syncing run <strong><a href='https://wandb.ai/feature_extraction/ablation_study/runs/4zjoaza5' target=\"_blank\">sweep</a></strong> to <a href='https://wandb.ai/feature_extraction/ablation_study' target=\"_blank\">Weights & Biases</a> (<a href='https://wandb.me/run' target=\"_blank\">docs</a>)<br/>"
      ]
     },
     "metadata": {},
     "output_type": "display_data"
    },
    {
     "data": {
      "text/plain": [
       "<IPython.core.display.HTML object>"
      ],
      "text/html": [
       " View project at <a href='https://wandb.ai/feature_extraction/ablation_study' target=\"_blank\">https://wandb.ai/feature_extraction/ablation_study</a>"
      ]
     },
     "metadata": {},
     "output_type": "display_data"
    },
    {
     "data": {
      "text/plain": [
       "<IPython.core.display.HTML object>"
      ],
      "text/html": [
       " View run at <a href='https://wandb.ai/feature_extraction/ablation_study/runs/4zjoaza5' target=\"_blank\">https://wandb.ai/feature_extraction/ablation_study/runs/4zjoaza5</a>"
      ]
     },
     "metadata": {},
     "output_type": "display_data"
    },
    {
     "name": "stdout",
     "output_type": "stream",
     "text": [
      "Device:  cuda\n",
      "Resnet Device is: cuda\n"
     ]
    },
    {
     "name": "stderr",
     "output_type": "stream",
     "text": [
      "A.L.E: Arcade Learning Environment (version 0.8.1+53f58b7)\n",
      "[Powered by Stella]\n"
     ]
    },
    {
     "name": "stdout",
     "output_type": "stream",
     "text": [
      "------- PRINTING WRAPPER OBSERVATION SPACES ------\n",
      "original_observation_space (224, 224, 3)\n",
      "vec_transpose_obs_space (3, 224, 224)\n",
      "vec_frame_stack_obs_space (12, 224, 224)\n",
      "vec_feature_extractor_obs_space (1, 8192)\n",
      "------- FINISHED PRINTING WRAPPER OBSERVATION SPACES ------\n",
      "Using cuda device\n",
      "Logging to logs/sweep/PPO_1\n"
     ]
    },
    {
     "name": "stderr",
     "output_type": "stream",
     "text": [
      "2024-04-29 13:43:14.610002: I tensorflow/core/util/port.cc:113] oneDNN custom operations are on. You may see slightly different numerical results due to floating-point round-off errors from different computation orders. To turn them off, set the environment variable `TF_ENABLE_ONEDNN_OPTS=0`.\n",
      "2024-04-29 13:43:14.632513: E external/local_xla/xla/stream_executor/cuda/cuda_dnn.cc:9261] Unable to register cuDNN factory: Attempting to register factory for plugin cuDNN when one has already been registered\n",
      "2024-04-29 13:43:14.632539: E external/local_xla/xla/stream_executor/cuda/cuda_fft.cc:607] Unable to register cuFFT factory: Attempting to register factory for plugin cuFFT when one has already been registered\n",
      "2024-04-29 13:43:14.633100: E external/local_xla/xla/stream_executor/cuda/cuda_blas.cc:1515] Unable to register cuBLAS factory: Attempting to register factory for plugin cuBLAS when one has already been registered\n",
      "2024-04-29 13:43:14.636634: I tensorflow/core/platform/cpu_feature_guard.cc:182] This TensorFlow binary is optimized to use available CPU instructions in performance-critical operations.\n",
      "To enable the following instructions: AVX2 AVX_VNNI FMA, in other operations, rebuild TensorFlow with the appropriate compiler flags.\n"
     ]
    },
    {
     "ename": "TypeError",
     "evalue": "expected str, bytes or os.PathLike object, not dict",
     "output_type": "error",
     "traceback": [
      "\u001B[0;31m---------------------------------------------------------------------------\u001B[0m",
      "\u001B[0;31mTypeError\u001B[0m                                 Traceback (most recent call last)",
      "Cell \u001B[0;32mIn[3], line 48\u001B[0m\n\u001B[1;32m      1\u001B[0m sweep_config \u001B[38;5;241m=\u001B[39m {\n\u001B[1;32m      2\u001B[0m     \u001B[38;5;124m'\u001B[39m\u001B[38;5;124mmethod\u001B[39m\u001B[38;5;124m'\u001B[39m: \u001B[38;5;124m'\u001B[39m\u001B[38;5;124mbayes\u001B[39m\u001B[38;5;124m'\u001B[39m,  \u001B[38;5;66;03m# Bayesian optimization\u001B[39;00m\n\u001B[1;32m      3\u001B[0m     \u001B[38;5;124m'\u001B[39m\u001B[38;5;124mmetric\u001B[39m\u001B[38;5;124m'\u001B[39m: {\n\u001B[0;32m   (...)\u001B[0m\n\u001B[1;32m     43\u001B[0m     }\n\u001B[1;32m     44\u001B[0m }\n\u001B[1;32m     46\u001B[0m sweep_id \u001B[38;5;241m=\u001B[39m wandb\u001B[38;5;241m.\u001B[39msweep(sweep_config, project\u001B[38;5;241m=\u001B[39m\u001B[38;5;124m\"\u001B[39m\u001B[38;5;124mablation_study\u001B[39m\u001B[38;5;124m\"\u001B[39m)\n\u001B[0;32m---> 48\u001B[0m \u001B[43mrun_experiment\u001B[49m\u001B[43m(\u001B[49m\u001B[43msweep_config\u001B[49m\u001B[43m)\u001B[49m;\n",
      "Cell \u001B[0;32mIn[2], line 76\u001B[0m, in \u001B[0;36mrun_experiment\u001B[0;34m(config)\u001B[0m\n\u001B[1;32m     64\u001B[0m \u001B[38;5;66;03m# Instantiate the PPO model with the specified hyperparameters and environment\u001B[39;00m\n\u001B[1;32m     65\u001B[0m model \u001B[38;5;241m=\u001B[39m PPO(\n\u001B[1;32m     66\u001B[0m     policy\u001B[38;5;241m=\u001B[39m\u001B[38;5;124m\"\u001B[39m\u001B[38;5;124mMlpPolicy\u001B[39m\u001B[38;5;124m\"\u001B[39m,\n\u001B[1;32m     67\u001B[0m     \u001B[38;5;241m*\u001B[39m\u001B[38;5;241m*\u001B[39mppo_hyperparams,\n\u001B[0;32m   (...)\u001B[0m\n\u001B[1;32m     72\u001B[0m     tensorboard_log\u001B[38;5;241m=\u001B[39m\u001B[38;5;124mf\u001B[39m\u001B[38;5;124m\"\u001B[39m\u001B[38;5;132;01m{\u001B[39;00mlog_dir\u001B[38;5;132;01m}\u001B[39;00m\u001B[38;5;124m\"\u001B[39m,\n\u001B[1;32m     73\u001B[0m )\n\u001B[0;32m---> 76\u001B[0m wandb\u001B[38;5;241m.\u001B[39magent(sweep_id, \u001B[43mmodel\u001B[49m\u001B[38;5;241;43m.\u001B[39;49m\u001B[43mlearn\u001B[49m\u001B[43m(\u001B[49m\u001B[43mtotal_timesteps\u001B[49m\u001B[38;5;241;43m=\u001B[39;49m\u001B[38;5;241;43m10_000\u001B[39;49m\u001B[43m,\u001B[49m\u001B[43m \u001B[49m\u001B[43mcallback\u001B[49m\u001B[38;5;241;43m=\u001B[39;49m\u001B[43mWandbCallback\u001B[49m\u001B[43m)\u001B[49m, count\u001B[38;5;241m=\u001B[39m\u001B[38;5;241m3\u001B[39m)\n\u001B[1;32m     78\u001B[0m wandb\u001B[38;5;241m.\u001B[39mfinish()\n",
      "File \u001B[0;32m~/PycharmProjects/Global-Feature-Extraction/venv/lib/python3.10/site-packages/stable_baselines3/ppo/ppo.py:315\u001B[0m, in \u001B[0;36mPPO.learn\u001B[0;34m(self, total_timesteps, callback, log_interval, tb_log_name, reset_num_timesteps, progress_bar)\u001B[0m\n\u001B[1;32m    306\u001B[0m \u001B[38;5;28;01mdef\u001B[39;00m \u001B[38;5;21mlearn\u001B[39m(\n\u001B[1;32m    307\u001B[0m     \u001B[38;5;28mself\u001B[39m: SelfPPO,\n\u001B[1;32m    308\u001B[0m     total_timesteps: \u001B[38;5;28mint\u001B[39m,\n\u001B[0;32m   (...)\u001B[0m\n\u001B[1;32m    313\u001B[0m     progress_bar: \u001B[38;5;28mbool\u001B[39m \u001B[38;5;241m=\u001B[39m \u001B[38;5;28;01mFalse\u001B[39;00m,\n\u001B[1;32m    314\u001B[0m ) \u001B[38;5;241m-\u001B[39m\u001B[38;5;241m>\u001B[39m SelfPPO:\n\u001B[0;32m--> 315\u001B[0m     \u001B[38;5;28;01mreturn\u001B[39;00m \u001B[38;5;28;43msuper\u001B[39;49m\u001B[43m(\u001B[49m\u001B[43m)\u001B[49m\u001B[38;5;241;43m.\u001B[39;49m\u001B[43mlearn\u001B[49m\u001B[43m(\u001B[49m\n\u001B[1;32m    316\u001B[0m \u001B[43m        \u001B[49m\u001B[43mtotal_timesteps\u001B[49m\u001B[38;5;241;43m=\u001B[39;49m\u001B[43mtotal_timesteps\u001B[49m\u001B[43m,\u001B[49m\n\u001B[1;32m    317\u001B[0m \u001B[43m        \u001B[49m\u001B[43mcallback\u001B[49m\u001B[38;5;241;43m=\u001B[39;49m\u001B[43mcallback\u001B[49m\u001B[43m,\u001B[49m\n\u001B[1;32m    318\u001B[0m \u001B[43m        \u001B[49m\u001B[43mlog_interval\u001B[49m\u001B[38;5;241;43m=\u001B[39;49m\u001B[43mlog_interval\u001B[49m\u001B[43m,\u001B[49m\n\u001B[1;32m    319\u001B[0m \u001B[43m        \u001B[49m\u001B[43mtb_log_name\u001B[49m\u001B[38;5;241;43m=\u001B[39;49m\u001B[43mtb_log_name\u001B[49m\u001B[43m,\u001B[49m\n\u001B[1;32m    320\u001B[0m \u001B[43m        \u001B[49m\u001B[43mreset_num_timesteps\u001B[49m\u001B[38;5;241;43m=\u001B[39;49m\u001B[43mreset_num_timesteps\u001B[49m\u001B[43m,\u001B[49m\n\u001B[1;32m    321\u001B[0m \u001B[43m        \u001B[49m\u001B[43mprogress_bar\u001B[49m\u001B[38;5;241;43m=\u001B[39;49m\u001B[43mprogress_bar\u001B[49m\u001B[43m,\u001B[49m\n\u001B[1;32m    322\u001B[0m \u001B[43m    \u001B[49m\u001B[43m)\u001B[49m\n",
      "File \u001B[0;32m~/PycharmProjects/Global-Feature-Extraction/venv/lib/python3.10/site-packages/stable_baselines3/common/on_policy_algorithm.py:277\u001B[0m, in \u001B[0;36mOnPolicyAlgorithm.learn\u001B[0;34m(self, total_timesteps, callback, log_interval, tb_log_name, reset_num_timesteps, progress_bar)\u001B[0m\n\u001B[1;32m    274\u001B[0m \u001B[38;5;28;01massert\u001B[39;00m \u001B[38;5;28mself\u001B[39m\u001B[38;5;241m.\u001B[39menv \u001B[38;5;129;01mis\u001B[39;00m \u001B[38;5;129;01mnot\u001B[39;00m \u001B[38;5;28;01mNone\u001B[39;00m\n\u001B[1;32m    276\u001B[0m \u001B[38;5;28;01mwhile\u001B[39;00m \u001B[38;5;28mself\u001B[39m\u001B[38;5;241m.\u001B[39mnum_timesteps \u001B[38;5;241m<\u001B[39m total_timesteps:\n\u001B[0;32m--> 277\u001B[0m     continue_training \u001B[38;5;241m=\u001B[39m \u001B[38;5;28;43mself\u001B[39;49m\u001B[38;5;241;43m.\u001B[39;49m\u001B[43mcollect_rollouts\u001B[49m\u001B[43m(\u001B[49m\u001B[38;5;28;43mself\u001B[39;49m\u001B[38;5;241;43m.\u001B[39;49m\u001B[43menv\u001B[49m\u001B[43m,\u001B[49m\u001B[43m \u001B[49m\u001B[43mcallback\u001B[49m\u001B[43m,\u001B[49m\u001B[43m \u001B[49m\u001B[38;5;28;43mself\u001B[39;49m\u001B[38;5;241;43m.\u001B[39;49m\u001B[43mrollout_buffer\u001B[49m\u001B[43m,\u001B[49m\u001B[43m \u001B[49m\u001B[43mn_rollout_steps\u001B[49m\u001B[38;5;241;43m=\u001B[39;49m\u001B[38;5;28;43mself\u001B[39;49m\u001B[38;5;241;43m.\u001B[39;49m\u001B[43mn_steps\u001B[49m\u001B[43m)\u001B[49m\n\u001B[1;32m    279\u001B[0m     \u001B[38;5;28;01mif\u001B[39;00m \u001B[38;5;129;01mnot\u001B[39;00m continue_training:\n\u001B[1;32m    280\u001B[0m         \u001B[38;5;28;01mbreak\u001B[39;00m\n",
      "File \u001B[0;32m~/PycharmProjects/Global-Feature-Extraction/venv/lib/python3.10/site-packages/stable_baselines3/common/on_policy_algorithm.py:200\u001B[0m, in \u001B[0;36mOnPolicyAlgorithm.collect_rollouts\u001B[0;34m(self, env, callback, rollout_buffer, n_rollout_steps)\u001B[0m\n\u001B[1;32m    198\u001B[0m \u001B[38;5;66;03m# Give access to local variables\u001B[39;00m\n\u001B[1;32m    199\u001B[0m callback\u001B[38;5;241m.\u001B[39mupdate_locals(\u001B[38;5;28mlocals\u001B[39m())\n\u001B[0;32m--> 200\u001B[0m \u001B[38;5;28;01mif\u001B[39;00m \u001B[38;5;129;01mnot\u001B[39;00m \u001B[43mcallback\u001B[49m\u001B[38;5;241;43m.\u001B[39;49m\u001B[43mon_step\u001B[49m\u001B[43m(\u001B[49m\u001B[43m)\u001B[49m:\n\u001B[1;32m    201\u001B[0m     \u001B[38;5;28;01mreturn\u001B[39;00m \u001B[38;5;28;01mFalse\u001B[39;00m\n\u001B[1;32m    203\u001B[0m \u001B[38;5;28mself\u001B[39m\u001B[38;5;241m.\u001B[39m_update_info_buffer(infos)\n",
      "File \u001B[0;32m~/PycharmProjects/Global-Feature-Extraction/venv/lib/python3.10/site-packages/stable_baselines3/common/callbacks.py:114\u001B[0m, in \u001B[0;36mBaseCallback.on_step\u001B[0;34m(self)\u001B[0m\n\u001B[1;32m    111\u001B[0m \u001B[38;5;28mself\u001B[39m\u001B[38;5;241m.\u001B[39mn_calls \u001B[38;5;241m+\u001B[39m\u001B[38;5;241m=\u001B[39m \u001B[38;5;241m1\u001B[39m\n\u001B[1;32m    112\u001B[0m \u001B[38;5;28mself\u001B[39m\u001B[38;5;241m.\u001B[39mnum_timesteps \u001B[38;5;241m=\u001B[39m \u001B[38;5;28mself\u001B[39m\u001B[38;5;241m.\u001B[39mmodel\u001B[38;5;241m.\u001B[39mnum_timesteps\n\u001B[0;32m--> 114\u001B[0m \u001B[38;5;28;01mreturn\u001B[39;00m \u001B[38;5;28;43mself\u001B[39;49m\u001B[38;5;241;43m.\u001B[39;49m\u001B[43m_on_step\u001B[49m\u001B[43m(\u001B[49m\u001B[43m)\u001B[49m\n",
      "File \u001B[0;32m~/PycharmProjects/Global-Feature-Extraction/venv/lib/python3.10/site-packages/stable_baselines3/common/callbacks.py:333\u001B[0m, in \u001B[0;36mConvertCallback._on_step\u001B[0;34m(self)\u001B[0m\n\u001B[1;32m    331\u001B[0m \u001B[38;5;28;01mdef\u001B[39;00m \u001B[38;5;21m_on_step\u001B[39m(\u001B[38;5;28mself\u001B[39m) \u001B[38;5;241m-\u001B[39m\u001B[38;5;241m>\u001B[39m \u001B[38;5;28mbool\u001B[39m:\n\u001B[1;32m    332\u001B[0m     \u001B[38;5;28;01mif\u001B[39;00m \u001B[38;5;28mself\u001B[39m\u001B[38;5;241m.\u001B[39mcallback \u001B[38;5;129;01mis\u001B[39;00m \u001B[38;5;129;01mnot\u001B[39;00m \u001B[38;5;28;01mNone\u001B[39;00m:\n\u001B[0;32m--> 333\u001B[0m         \u001B[38;5;28;01mreturn\u001B[39;00m \u001B[38;5;28;43mself\u001B[39;49m\u001B[38;5;241;43m.\u001B[39;49m\u001B[43mcallback\u001B[49m\u001B[43m(\u001B[49m\u001B[38;5;28;43mself\u001B[39;49m\u001B[38;5;241;43m.\u001B[39;49m\u001B[43mlocals\u001B[49m\u001B[43m,\u001B[49m\u001B[43m \u001B[49m\u001B[38;5;28;43mself\u001B[39;49m\u001B[38;5;241;43m.\u001B[39;49m\u001B[43mglobals\u001B[49m\u001B[43m)\u001B[49m\n\u001B[1;32m    334\u001B[0m     \u001B[38;5;28;01mreturn\u001B[39;00m \u001B[38;5;28;01mTrue\u001B[39;00m\n",
      "File \u001B[0;32m~/PycharmProjects/Global-Feature-Extraction/venv/lib/python3.10/site-packages/wandb/integration/sb3/sb3.py:112\u001B[0m, in \u001B[0;36mWandbCallback.__init__\u001B[0;34m(self, verbose, model_save_path, model_save_freq, gradient_save_freq, log)\u001B[0m\n\u001B[1;32m    110\u001B[0m \u001B[38;5;66;03m# Create folder if needed\u001B[39;00m\n\u001B[1;32m    111\u001B[0m \u001B[38;5;28;01mif\u001B[39;00m \u001B[38;5;28mself\u001B[39m\u001B[38;5;241m.\u001B[39mmodel_save_path \u001B[38;5;129;01mis\u001B[39;00m \u001B[38;5;129;01mnot\u001B[39;00m \u001B[38;5;28;01mNone\u001B[39;00m:\n\u001B[0;32m--> 112\u001B[0m     \u001B[43mos\u001B[49m\u001B[38;5;241;43m.\u001B[39;49m\u001B[43mmakedirs\u001B[49m\u001B[43m(\u001B[49m\u001B[38;5;28;43mself\u001B[39;49m\u001B[38;5;241;43m.\u001B[39;49m\u001B[43mmodel_save_path\u001B[49m\u001B[43m,\u001B[49m\u001B[43m \u001B[49m\u001B[43mexist_ok\u001B[49m\u001B[38;5;241;43m=\u001B[39;49m\u001B[38;5;28;43;01mTrue\u001B[39;49;00m\u001B[43m)\u001B[49m\n\u001B[1;32m    113\u001B[0m     \u001B[38;5;28mself\u001B[39m\u001B[38;5;241m.\u001B[39mpath \u001B[38;5;241m=\u001B[39m os\u001B[38;5;241m.\u001B[39mpath\u001B[38;5;241m.\u001B[39mjoin(\u001B[38;5;28mself\u001B[39m\u001B[38;5;241m.\u001B[39mmodel_save_path, \u001B[38;5;124m\"\u001B[39m\u001B[38;5;124mmodel.zip\u001B[39m\u001B[38;5;124m\"\u001B[39m)\n\u001B[1;32m    114\u001B[0m \u001B[38;5;28;01melse\u001B[39;00m:\n",
      "File \u001B[0;32m/usr/lib/python3.10/os.py:210\u001B[0m, in \u001B[0;36mmakedirs\u001B[0;34m(name, mode, exist_ok)\u001B[0m\n\u001B[1;32m    200\u001B[0m \u001B[38;5;28;01mdef\u001B[39;00m \u001B[38;5;21mmakedirs\u001B[39m(name, mode\u001B[38;5;241m=\u001B[39m\u001B[38;5;241m0o777\u001B[39m, exist_ok\u001B[38;5;241m=\u001B[39m\u001B[38;5;28;01mFalse\u001B[39;00m):\n\u001B[1;32m    201\u001B[0m \u001B[38;5;250m    \u001B[39m\u001B[38;5;124;03m\"\"\"makedirs(name [, mode=0o777][, exist_ok=False])\u001B[39;00m\n\u001B[1;32m    202\u001B[0m \n\u001B[1;32m    203\u001B[0m \u001B[38;5;124;03m    Super-mkdir; create a leaf directory and all intermediate ones.  Works like\u001B[39;00m\n\u001B[0;32m   (...)\u001B[0m\n\u001B[1;32m    208\u001B[0m \n\u001B[1;32m    209\u001B[0m \u001B[38;5;124;03m    \"\"\"\u001B[39;00m\n\u001B[0;32m--> 210\u001B[0m     head, tail \u001B[38;5;241m=\u001B[39m \u001B[43mpath\u001B[49m\u001B[38;5;241;43m.\u001B[39;49m\u001B[43msplit\u001B[49m\u001B[43m(\u001B[49m\u001B[43mname\u001B[49m\u001B[43m)\u001B[49m\n\u001B[1;32m    211\u001B[0m     \u001B[38;5;28;01mif\u001B[39;00m \u001B[38;5;129;01mnot\u001B[39;00m tail:\n\u001B[1;32m    212\u001B[0m         head, tail \u001B[38;5;241m=\u001B[39m path\u001B[38;5;241m.\u001B[39msplit(head)\n",
      "File \u001B[0;32m/usr/lib/python3.10/posixpath.py:103\u001B[0m, in \u001B[0;36msplit\u001B[0;34m(p)\u001B[0m\n\u001B[1;32m    100\u001B[0m \u001B[38;5;28;01mdef\u001B[39;00m \u001B[38;5;21msplit\u001B[39m(p):\n\u001B[1;32m    101\u001B[0m \u001B[38;5;250m    \u001B[39m\u001B[38;5;124;03m\"\"\"Split a pathname.  Returns tuple \"(head, tail)\" where \"tail\" is\u001B[39;00m\n\u001B[1;32m    102\u001B[0m \u001B[38;5;124;03m    everything after the final slash.  Either part may be empty.\"\"\"\u001B[39;00m\n\u001B[0;32m--> 103\u001B[0m     p \u001B[38;5;241m=\u001B[39m \u001B[43mos\u001B[49m\u001B[38;5;241;43m.\u001B[39;49m\u001B[43mfspath\u001B[49m\u001B[43m(\u001B[49m\u001B[43mp\u001B[49m\u001B[43m)\u001B[49m\n\u001B[1;32m    104\u001B[0m     sep \u001B[38;5;241m=\u001B[39m _get_sep(p)\n\u001B[1;32m    105\u001B[0m     i \u001B[38;5;241m=\u001B[39m p\u001B[38;5;241m.\u001B[39mrfind(sep) \u001B[38;5;241m+\u001B[39m \u001B[38;5;241m1\u001B[39m\n",
      "\u001B[0;31mTypeError\u001B[0m: expected str, bytes or os.PathLike object, not dict"
     ]
    }
   ],
   "execution_count": 3
  }
 ],
 "metadata": {
  "kernelspec": {
   "display_name": "Python 3 (ipykernel)",
   "language": "python",
   "name": "python3"
  },
  "language_info": {
   "codemirror_mode": {
    "name": "ipython",
    "version": 3
   },
   "file_extension": ".py",
   "mimetype": "text/x-python",
   "name": "python",
   "nbconvert_exporter": "python",
   "pygments_lexer": "ipython3",
   "version": "3.10.12"
  }
 },
 "nbformat": 4,
 "nbformat_minor": 5
}
