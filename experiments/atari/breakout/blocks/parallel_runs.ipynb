{
 "cells": [
  {
   "cell_type": "markdown",
   "source": [
    "# Importing Libraries"
   ],
   "metadata": {
    "collapsed": false
   },
   "id": "3aa10e55ac7f097b"
  },
  {
   "cell_type": "code",
   "outputs": [
    {
     "name": "stderr",
     "output_type": "stream",
     "text": [
      "2024-03-28 00:43:44.922222: E external/local_xla/xla/stream_executor/cuda/cuda_dnn.cc:9261] Unable to register cuDNN factory: Attempting to register factory for plugin cuDNN when one has already been registered\n",
      "2024-03-28 00:43:44.922271: E external/local_xla/xla/stream_executor/cuda/cuda_fft.cc:607] Unable to register cuFFT factory: Attempting to register factory for plugin cuFFT when one has already been registered\n",
      "2024-03-28 00:43:44.923814: E external/local_xla/xla/stream_executor/cuda/cuda_blas.cc:1515] Unable to register cuBLAS factory: Attempting to register factory for plugin cuBLAS when one has already been registered\n",
      "2024-03-28 00:43:44.933290: I tensorflow/core/platform/cpu_feature_guard.cc:182] This TensorFlow binary is optimized to use available CPU instructions in performance-critical operations.\n",
      "To enable the following instructions: AVX2 FMA, in other operations, rebuild TensorFlow with the appropriate compiler flags.\n",
      "2024-03-28 00:43:46.035027: W tensorflow/compiler/tf2tensorrt/utils/py_utils.cc:38] TF-TRT Warning: Could not find TensorRT\n",
      "/home/maliti/Prog/Global-Feature-Extraction/venv/lib/python3.10/site-packages/transformers/utils/generic.py:441: UserWarning: torch.utils._pytree._register_pytree_node is deprecated. Please use torch.utils._pytree.register_pytree_node instead.\n",
      "  _torch_pytree._register_pytree_node(\n"
     ]
    }
   ],
   "source": [
    "import datetime\n",
    "import multiprocessing\n",
    "import random\n",
    "import time\n",
    "\n",
    "import wandb\n",
    "from stable_baselines3 import PPO\n",
    "from stable_baselines3.common.callbacks import CallbackList, EvalCallback\n",
    "from stable_baselines3.common.env_util import make_atari_env\n",
    "from stable_baselines3.common.vec_env import VecFrameStack, VecTransposeImage\n",
    "from wandb.integration.sb3 import WandbCallback\n",
    "from feature_extraction.callbacks.wandb_on_training_end_callback import WandbOnTrainingEndCallback\n",
    "from feature_extraction.feature_extractors.resnet.block_feature_extractor import BlockFeatureExtractor\n",
    "from feature_extraction.wrappers.vec_feature_extractor import VecFeatureExtractor\n",
    "from utils import linear_schedule\n",
    "from collections import OrderedDict"
   ],
   "metadata": {
    "collapsed": false,
    "ExecuteTime": {
     "end_time": "2024-03-27T23:43:48.649291610Z",
     "start_time": "2024-03-27T23:43:41.997794048Z"
    }
   },
   "id": "990905f50fea55f1",
   "execution_count": 1
  },
  {
   "cell_type": "markdown",
   "source": [
    "# Method for creating a new configuration"
   ],
   "metadata": {
    "collapsed": false
   },
   "id": "f0ddbbcf6a2b1455"
  },
  {
   "cell_type": "code",
   "outputs": [],
   "source": [
    "def create_config(project_name, run_name):\n",
    "    \"\"\"\n",
    "    Creates a new configuration as an OrderedDict with a specified project and run name,\n",
    "    and sets the training_seed and evaluation_seed to random integers,\n",
    "    while using a predefined set of default settings for the rest.\n",
    "\n",
    "    Parameters:\n",
    "    - project_name (str): Name of the project.\n",
    "    - run_name (str): Name of the run.\n",
    "\n",
    "    Returns:\n",
    "    - OrderedDict: A new configuration dictionary with the specified project and run names,\n",
    "                   random seeds, and default settings for other parameters.\n",
    "    \"\"\"\n",
    "    training_seed = random.randint(0, 9999) # Should later on be same for all experiments to ensure comparability\n",
    "    evaluation_seed = random.randint(0, 9999) # Should later on be same for all experiments to ensure comparability\n",
    "\n",
    "    default_config = OrderedDict([\n",
    "        # Environment settings\n",
    "        ('project_name', project_name),\n",
    "        ('run_name', run_name),\n",
    "        ('env_id', \"ALE/Breakout-v5\"),\n",
    "        ('n_envs', 8),\n",
    "        ('env_wrapper', ['stable_baselines3.common.atari_wrappers.AtariWrapper']),\n",
    "        ('frame_stack', 4),\n",
    "        ('training_seed', training_seed),\n",
    "        ('evaluation_seed', evaluation_seed),\n",
    "        \n",
    "        # Algorithm and policy settings\n",
    "        ('algo', 'PPO'),\n",
    "        ('policy', 'CnnPolicy'),\n",
    "        \n",
    "        # Training hyperparameters\n",
    "        ('batch_size', 256),\n",
    "        ('n_steps', 128),\n",
    "        ('n_epochs', 4),\n",
    "        ('n_timesteps', 3_000),\n",
    "        ('learning_rate', 0.00025),\n",
    "        ('learning_rate_schedule', 'linear'),\n",
    "        ('clip_range', 0.1),\n",
    "        ('clip_range_schedule', 'linear'),\n",
    "        ('ent_coef', 0.01),\n",
    "        ('vf_coef', 0.5),\n",
    "        ('normalize_advantage', False),\n",
    "        \n",
    "        # Evaluation and logging settings\n",
    "        ('n_eval_episodes', 5),\n",
    "        ('record_n_episodes', 10),\n",
    "        ('log_frequency', 1024),\n",
    "        \n",
    "        # Other settings\n",
    "        ('verbose', 1)\n",
    "    ])\n",
    "    \n",
    "\n",
    "    return default_config"
   ],
   "metadata": {
    "collapsed": false,
    "ExecuteTime": {
     "end_time": "2024-03-27T23:43:48.661550782Z",
     "start_time": "2024-03-27T23:43:48.654132649Z"
    }
   },
   "id": "e91f377ae09d36e5",
   "execution_count": 2
  },
  {
   "cell_type": "markdown",
   "source": [
    "# Method for running a single experiment with a configuration"
   ],
   "metadata": {
    "collapsed": false
   },
   "id": "1c8dfb31a922ebdc"
  },
  {
   "cell_type": "code",
   "outputs": [],
   "source": [
    "from torchvision.models import ResNet50_Weights\n",
    "from torchvision import models\n",
    "\n",
    "\n",
    "def run_experiment(config):\n",
    "    wandb.login()\n",
    "\n",
    "\n",
    "\n",
    "    # Initialize the wandb run\n",
    "    wandb.init(project=config['project_name'],\n",
    "                     name=config['run_name'],\n",
    "                     config=config, save_code=True,\n",
    "                     sync_tensorboard=True)\n",
    "    \n",
    "    \n",
    "\n",
    "    config = wandb.config\n",
    "    \n",
    "    log_dir = f\"logs/{config.run_name}\"\n",
    "    #feature_extractor = StageFeatureExtractor()\n",
    "    model = models.resnet50(ResNet50_Weights.DEFAULT)\n",
    "    feature_extractor = BlockFeatureExtractor(model, 1)\n",
    "\n",
    "    # Create Evaluation Environment\n",
    "    vec_eval_env = make_atari_env(config.env_id, n_envs=config.n_envs, seed=config.evaluation_seed)\n",
    "    vec_eval_env = VecFrameStack(vec_eval_env, n_stack=config.frame_stack)\n",
    "    vec_eval_env = VecTransposeImage(vec_eval_env)\n",
    "    vec_eval_env = VecFeatureExtractor(vec_eval_env, feature_extractor)\n",
    "\n",
    "    # Create Training Environment\n",
    "    vec_train_env = make_atari_env(config.env_id, n_envs=config.n_envs, seed=config.training_seed)\n",
    "    vec_train_env = VecFrameStack(vec_train_env, n_stack=config.frame_stack)\n",
    "    vec_train_env = VecTransposeImage(vec_train_env)\n",
    "\n",
    "    #\n",
    "\n",
    "    # Define the keys for PPO-specific hyperparameters\n",
    "    ppo_params_keys = [\n",
    "        'batch_size',\n",
    "        'ent_coef',\n",
    "        'n_epochs',\n",
    "        'n_steps',\n",
    "        'policy',\n",
    "        'vf_coef',\n",
    "        'normalize_advantage',\n",
    "    ]\n",
    "\n",
    "    # Filter the config dictionary to extract only the PPO hyperparameters\n",
    "    ppo_hyperparams = {key: config[key] for key in ppo_params_keys if key in config}\n",
    "\n",
    "    # Additional hyperparameters not in the initial filter that require custom handling\n",
    "    learning_rate_schedule = linear_schedule(2.5e-4)\n",
    "    clip_range_schedule = linear_schedule(0.1)\n",
    "\n",
    "    # Instantiate the PPO model with the specified hyperparameters and environment\n",
    "    model = PPO(\n",
    "        **ppo_hyperparams,\n",
    "        learning_rate=learning_rate_schedule,\n",
    "        clip_range=clip_range_schedule,\n",
    "        env=vec_train_env,\n",
    "        verbose=1,\n",
    "        tensorboard_log=f\"{log_dir}\",\n",
    "    )\n",
    "\n",
    "    # Create Callbacks\n",
    "\n",
    "    # Save best model\n",
    "    eval_callback = EvalCallback(\n",
    "        eval_env=vec_eval_env,\n",
    "        eval_freq=max(config.log_frequency // config.n_envs, 1),\n",
    "        n_eval_episodes=config.n_eval_episodes,\n",
    "        best_model_save_path=log_dir,\n",
    "        log_path=log_dir,\n",
    "        deterministic=True,\n",
    "        render=False,\n",
    "        verbose=0\n",
    "    )\n",
    "\n",
    "    # Needs to be changed, so it uses run instead of wandb\n",
    "    wandb_callback = WandbCallback(\n",
    "        verbose=1,\n",
    "        gradient_save_freq=256,\n",
    "    )\n",
    "\n",
    "    wandb_on_training_end_callback = WandbOnTrainingEndCallback(\n",
    "        model=model,\n",
    "        eval_env=vec_eval_env,\n",
    "        log_dir=log_dir,\n",
    "        n_eval_episodes=config.n_eval_episodes,\n",
    "        record_n_episodes=config.record_n_episodes,\n",
    "    )\n",
    "    callbacks = CallbackList([wandb_callback, eval_callback, wandb_on_training_end_callback])\n",
    "\n",
    "    model.learn(\n",
    "        total_timesteps=config.n_timesteps,\n",
    "        callback=callbacks,\n",
    "    )\n",
    "\n",
    "    wandb.finish()"
   ],
   "metadata": {
    "collapsed": false,
    "ExecuteTime": {
     "end_time": "2024-03-27T23:43:48.669090633Z",
     "start_time": "2024-03-27T23:43:48.662494876Z"
    }
   },
   "id": "703ef7863fdada08",
   "execution_count": 3
  },
  {
   "cell_type": "markdown",
   "source": [
    "# Method for running multiple experiments with a configuration"
   ],
   "metadata": {
    "collapsed": false
   },
   "id": "98fd40b133aa74c6"
  },
  {
   "cell_type": "code",
   "outputs": [],
   "source": [
    "def run_experiments_in_parallel(config_list):\n",
    "    processes = []\n",
    "    for config in config_list:\n",
    "        p = multiprocessing.Process(target=run_experiment, args=(config,))\n",
    "        p.start()\n",
    "        processes.append(p)\n",
    "        time.sleep(60) # Sleep to avoid file write conflicts\n",
    "\n",
    "    for p in processes:\n",
    "        p.join()"
   ],
   "metadata": {
    "collapsed": false,
    "ExecuteTime": {
     "end_time": "2024-03-27T23:43:48.713152568Z",
     "start_time": "2024-03-27T23:43:48.670068271Z"
    }
   },
   "id": "5b972917656c5e9",
   "execution_count": 4
  },
  {
   "cell_type": "markdown",
   "source": [
    "# Run experiments"
   ],
   "metadata": {
    "collapsed": false
   },
   "id": "d21476eb484eed70"
  },
  {
   "cell_type": "code",
   "outputs": [
    {
     "name": "stderr",
     "output_type": "stream",
     "text": [
      "\u001B[34m\u001B[1mwandb\u001B[0m: Currently logged in as: \u001B[33madicreson\u001B[0m (\u001B[33mfeature_extraction\u001B[0m). Use \u001B[1m`wandb login --relogin`\u001B[0m to force relogin\n"
     ]
    },
    {
     "data": {
      "text/plain": "<IPython.core.display.HTML object>",
      "text/html": "wandb version 0.16.5 is available!  To upgrade, please run:\n $ pip install wandb --upgrade"
     },
     "metadata": {},
     "output_type": "display_data"
    },
    {
     "data": {
      "text/plain": "<IPython.core.display.HTML object>",
      "text/html": "Tracking run with wandb version 0.16.4"
     },
     "metadata": {},
     "output_type": "display_data"
    },
    {
     "data": {
      "text/plain": "<IPython.core.display.HTML object>",
      "text/html": "Run data is saved locally in <code>/home/maliti/Prog/Global-Feature-Extraction/experiments/atari/breakout/blocks/wandb/run-20240328_004350-w1yxeodh</code>"
     },
     "metadata": {},
     "output_type": "display_data"
    },
    {
     "data": {
      "text/plain": "<IPython.core.display.HTML object>",
      "text/html": "Syncing run <strong><a href='https://wandb.ai/feature_extraction/parallel_experiments/runs/w1yxeodh' target=\"_blank\">breakout_vec_feat2024-03-28_00-43-48</a></strong> to <a href='https://wandb.ai/feature_extraction/parallel_experiments' target=\"_blank\">Weights & Biases</a> (<a href='https://wandb.me/run' target=\"_blank\">docs</a>)<br/>"
     },
     "metadata": {},
     "output_type": "display_data"
    },
    {
     "data": {
      "text/plain": "<IPython.core.display.HTML object>",
      "text/html": " View project at <a href='https://wandb.ai/feature_extraction/parallel_experiments' target=\"_blank\">https://wandb.ai/feature_extraction/parallel_experiments</a>"
     },
     "metadata": {},
     "output_type": "display_data"
    },
    {
     "data": {
      "text/plain": "<IPython.core.display.HTML object>",
      "text/html": " View run at <a href='https://wandb.ai/feature_extraction/parallel_experiments/runs/w1yxeodh' target=\"_blank\">https://wandb.ai/feature_extraction/parallel_experiments/runs/w1yxeodh</a>"
     },
     "metadata": {},
     "output_type": "display_data"
    },
    {
     "name": "stderr",
     "output_type": "stream",
     "text": [
      "/home/maliti/Prog/Global-Feature-Extraction/venv/lib/python3.10/site-packages/torchvision/models/_utils.py:208: UserWarning: The parameter 'pretrained' is deprecated since 0.13 and may be removed in the future, please use 'weights' instead.\n",
      "  warnings.warn(\n",
      "/home/maliti/Prog/Global-Feature-Extraction/venv/lib/python3.10/site-packages/torchvision/models/_utils.py:223: UserWarning: Arguments other than a weight enum or `None` for 'weights' are deprecated since 0.13 and may be removed in the future. The current behavior is equivalent to passing `weights=ResNet50_Weights.IMAGENET1K_V1`. You can also use `weights=ResNet50_Weights.DEFAULT` to get the most up-to-date weights.\n",
      "  warnings.warn(msg)\n",
      "A.L.E: Arcade Learning Environment (version 0.8.1+53f58b7)\n",
      "[Powered by Stella]\n"
     ]
    },
    {
     "name": "stdout",
     "output_type": "stream",
     "text": [
      "Using cpu device\n",
      "Logging to logs/breakout_vec_feat2024-03-28_00-43-48/PPO_1\n"
     ]
    },
    {
     "name": "stderr",
     "output_type": "stream",
     "text": [
      "/home/maliti/Prog/Global-Feature-Extraction/venv/lib/python3.10/site-packages/stable_baselines3/common/callbacks.py:414: UserWarning: Training and eval env are not of the same type<stable_baselines3.common.vec_env.vec_transpose.VecTransposeImage object at 0x7fa13ad8d180> != <feature_extraction.wrappers.vec_feature_extractor.VecFeatureExtractor object at 0x7fa13ad8d690>\n",
      "  warnings.warn(\"Training and eval env are not of the same type\" f\"{self.training_env} != {self.eval_env}\")\n",
      "2024-03-28 00:43:56.856055: E external/local_xla/xla/stream_executor/cuda/cuda_dnn.cc:9261] Unable to register cuDNN factory: Attempting to register factory for plugin cuDNN when one has already been registered\n",
      "2024-03-28 00:43:56.856103: E external/local_xla/xla/stream_executor/cuda/cuda_fft.cc:607] Unable to register cuFFT factory: Attempting to register factory for plugin cuFFT when one has already been registered\n",
      "2024-03-28 00:43:56.857188: E external/local_xla/xla/stream_executor/cuda/cuda_blas.cc:1515] Unable to register cuBLAS factory: Attempting to register factory for plugin cuBLAS when one has already been registered\n",
      "2024-03-28 00:43:56.867559: I tensorflow/core/platform/cpu_feature_guard.cc:182] This TensorFlow binary is optimized to use available CPU instructions in performance-critical operations.\n",
      "To enable the following instructions: AVX2 FMA, in other operations, rebuild TensorFlow with the appropriate compiler flags.\n",
      "2024-03-28 00:43:57.683016: W tensorflow/compiler/tf2tensorrt/utils/py_utils.cc:38] TF-TRT Warning: Could not find TensorRT\n",
      "Process Process-1:\n",
      "Traceback (most recent call last):\n",
      "  File \"/usr/lib/python3.10/multiprocessing/process.py\", line 314, in _bootstrap\n",
      "    self.run()\n",
      "  File \"/usr/lib/python3.10/multiprocessing/process.py\", line 108, in run\n",
      "    self._target(*self._args, **self._kwargs)\n",
      "  File \"/tmp/ipykernel_36632/2304302662.py\", line 94, in run_experiment\n",
      "    model.learn(\n",
      "  File \"/home/maliti/Prog/Global-Feature-Extraction/venv/lib/python3.10/site-packages/stable_baselines3/ppo/ppo.py\", line 315, in learn\n",
      "    return super().learn(\n",
      "  File \"/home/maliti/Prog/Global-Feature-Extraction/venv/lib/python3.10/site-packages/stable_baselines3/common/on_policy_algorithm.py\", line 277, in learn\n",
      "    continue_training = self.collect_rollouts(self.env, callback, self.rollout_buffer, n_rollout_steps=self.n_steps)\n",
      "  File \"/home/maliti/Prog/Global-Feature-Extraction/venv/lib/python3.10/site-packages/stable_baselines3/common/on_policy_algorithm.py\", line 200, in collect_rollouts\n",
      "    if not callback.on_step():\n",
      "  File \"/home/maliti/Prog/Global-Feature-Extraction/venv/lib/python3.10/site-packages/stable_baselines3/common/callbacks.py\", line 114, in on_step\n",
      "    return self._on_step()\n",
      "  File \"/home/maliti/Prog/Global-Feature-Extraction/venv/lib/python3.10/site-packages/stable_baselines3/common/callbacks.py\", line 219, in _on_step\n",
      "    continue_training = callback.on_step() and continue_training\n",
      "  File \"/home/maliti/Prog/Global-Feature-Extraction/venv/lib/python3.10/site-packages/stable_baselines3/common/callbacks.py\", line 114, in on_step\n",
      "    return self._on_step()\n",
      "  File \"/home/maliti/Prog/Global-Feature-Extraction/venv/lib/python3.10/site-packages/stable_baselines3/common/callbacks.py\", line 460, in _on_step\n",
      "    episode_rewards, episode_lengths = evaluate_policy(\n",
      "  File \"/home/maliti/Prog/Global-Feature-Extraction/venv/lib/python3.10/site-packages/stable_baselines3/common/evaluation.py\", line 84, in evaluate_policy\n",
      "    observations = env.reset()\n",
      "  File \"/home/maliti/Prog/Global-Feature-Extraction/feature_extraction/wrappers/vec_feature_extractor.py\", line 35, in reset\n",
      "    return self.observation(obs)\n",
      "  File \"/home/maliti/Prog/Global-Feature-Extraction/feature_extraction/wrappers/vec_feature_extractor.py\", line 58, in observation\n",
      "    return np.array([self.feature_extractor.extract_features(o) for o in obs])\n",
      "  File \"/home/maliti/Prog/Global-Feature-Extraction/feature_extraction/wrappers/vec_feature_extractor.py\", line 58, in <listcomp>\n",
      "    return np.array([self.feature_extractor.extract_features(o) for o in obs])\n",
      "  File \"/home/maliti/Prog/Global-Feature-Extraction/feature_extraction/feature_extractors/resnet/base_resnet_feature_extractor.py\", line 58, in extract_features\n",
      "    processed_image = self.process_image(image)\n",
      "  File \"/home/maliti/Prog/Global-Feature-Extraction/feature_extraction/feature_extractors/resnet/base_resnet_feature_extractor.py\", line 38, in process_image\n",
      "    return image_processor(image)\n",
      "  File \"/home/maliti/Prog/Global-Feature-Extraction/venv/lib/python3.10/site-packages/torchvision/transforms/transforms.py\", line 95, in __call__\n",
      "    img = t(img)\n",
      "  File \"/home/maliti/Prog/Global-Feature-Extraction/venv/lib/python3.10/site-packages/torch/nn/modules/module.py\", line 1511, in _wrapped_call_impl\n",
      "    return self._call_impl(*args, **kwargs)\n",
      "  File \"/home/maliti/Prog/Global-Feature-Extraction/venv/lib/python3.10/site-packages/torch/nn/modules/module.py\", line 1520, in _call_impl\n",
      "    return forward_call(*args, **kwargs)\n",
      "  File \"/home/maliti/Prog/Global-Feature-Extraction/venv/lib/python3.10/site-packages/torchvision/transforms/transforms.py\", line 354, in forward\n",
      "    return F.resize(img, self.size, self.interpolation, self.max_size, self.antialias)\n",
      "  File \"/home/maliti/Prog/Global-Feature-Extraction/venv/lib/python3.10/site-packages/torchvision/transforms/functional.py\", line 455, in resize\n",
      "    _, image_height, image_width = get_dimensions(img)\n",
      "  File \"/home/maliti/Prog/Global-Feature-Extraction/venv/lib/python3.10/site-packages/torchvision/transforms/functional.py\", line 79, in get_dimensions\n",
      "    return F_pil.get_dimensions(img)\n",
      "  File \"/home/maliti/Prog/Global-Feature-Extraction/venv/lib/python3.10/site-packages/torchvision/transforms/_functional_pil.py\", line 31, in get_dimensions\n",
      "    raise TypeError(f\"Unexpected type {type(img)}\")\n",
      "TypeError: Unexpected type <class 'numpy.ndarray'>\n"
     ]
    },
    {
     "ename": "KeyboardInterrupt",
     "evalue": "",
     "output_type": "error",
     "traceback": [
      "\u001B[0;31m---------------------------------------------------------------------------\u001B[0m",
      "\u001B[0;31mKeyboardInterrupt\u001B[0m                         Traceback (most recent call last)",
      "Cell \u001B[0;32mIn[5], line 14\u001B[0m\n\u001B[1;32m     11\u001B[0m     configs\u001B[38;5;241m.\u001B[39mappend(new_config)\n\u001B[1;32m     13\u001B[0m \u001B[38;5;66;03m# Run experiments in parallel\u001B[39;00m\n\u001B[0;32m---> 14\u001B[0m \u001B[43mrun_experiments_in_parallel\u001B[49m\u001B[43m(\u001B[49m\u001B[43mconfigs\u001B[49m\u001B[43m)\u001B[49m\n",
      "Cell \u001B[0;32mIn[4], line 7\u001B[0m, in \u001B[0;36mrun_experiments_in_parallel\u001B[0;34m(config_list)\u001B[0m\n\u001B[1;32m      5\u001B[0m     p\u001B[38;5;241m.\u001B[39mstart()\n\u001B[1;32m      6\u001B[0m     processes\u001B[38;5;241m.\u001B[39mappend(p)\n\u001B[0;32m----> 7\u001B[0m     \u001B[43mtime\u001B[49m\u001B[38;5;241;43m.\u001B[39;49m\u001B[43msleep\u001B[49m\u001B[43m(\u001B[49m\u001B[38;5;241;43m60\u001B[39;49m\u001B[43m)\u001B[49m \u001B[38;5;66;03m# Sleep to avoid file write conflicts\u001B[39;00m\n\u001B[1;32m      9\u001B[0m \u001B[38;5;28;01mfor\u001B[39;00m p \u001B[38;5;129;01min\u001B[39;00m processes:\n\u001B[1;32m     10\u001B[0m     p\u001B[38;5;241m.\u001B[39mjoin()\n",
      "\u001B[0;31mKeyboardInterrupt\u001B[0m: "
     ]
    }
   ],
   "source": [
    "configs = []\n",
    "runs = [\"breakout_vec_feat\"]\n",
    "\n",
    "for run in runs:\n",
    "    timestamp = datetime.datetime.now().strftime('%Y-%m-%d_%H-%M-%S')\n",
    "    \n",
    "    project_name = \"parallel_experiments\"\n",
    "    run_name = run + timestamp\n",
    "    \n",
    "    new_config = create_config(project_name, run_name)\n",
    "    configs.append(new_config)\n",
    "\n",
    "# Run experiments in parallel\n",
    "run_experiments_in_parallel(configs)"
   ],
   "metadata": {
    "collapsed": false,
    "ExecuteTime": {
     "end_time": "2024-03-27T23:44:23.594609484Z",
     "start_time": "2024-03-27T23:43:48.713157448Z"
    }
   },
   "id": "97d8d2eb7eba7780",
   "execution_count": 5
  }
 ],
 "metadata": {
  "kernelspec": {
   "display_name": "Python 3",
   "language": "python",
   "name": "python3"
  },
  "language_info": {
   "codemirror_mode": {
    "name": "ipython",
    "version": 2
   },
   "file_extension": ".py",
   "mimetype": "text/x-python",
   "name": "python",
   "nbconvert_exporter": "python",
   "pygments_lexer": "ipython2",
   "version": "2.7.6"
  }
 },
 "nbformat": 4,
 "nbformat_minor": 5
}
