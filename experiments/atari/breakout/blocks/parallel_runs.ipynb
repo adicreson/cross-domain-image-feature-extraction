{
 "cells": [
  {
   "cell_type": "markdown",
   "id": "3aa10e55ac7f097b",
   "metadata": {
    "collapsed": false
   },
   "source": [
    "    # Importing Libraries"
   ]
  },
  {
   "cell_type": "code",
   "execution_count": 1,
   "id": "990905f50fea55f1",
   "metadata": {
    "collapsed": false,
    "ExecuteTime": {
     "end_time": "2024-04-02T14:15:54.373861905Z",
     "start_time": "2024-04-02T14:15:49.470013782Z"
    }
   },
   "outputs": [
    {
     "name": "stderr",
     "output_type": "stream",
     "text": [
      "2024-04-02 16:15:51.361391: E external/local_xla/xla/stream_executor/cuda/cuda_dnn.cc:9261] Unable to register cuDNN factory: Attempting to register factory for plugin cuDNN when one has already been registered\n",
      "2024-04-02 16:15:51.361432: E external/local_xla/xla/stream_executor/cuda/cuda_fft.cc:607] Unable to register cuFFT factory: Attempting to register factory for plugin cuFFT when one has already been registered\n",
      "2024-04-02 16:15:51.362693: E external/local_xla/xla/stream_executor/cuda/cuda_blas.cc:1515] Unable to register cuBLAS factory: Attempting to register factory for plugin cuBLAS when one has already been registered\n",
      "2024-04-02 16:15:51.370072: I tensorflow/core/platform/cpu_feature_guard.cc:182] This TensorFlow binary is optimized to use available CPU instructions in performance-critical operations.\n",
      "To enable the following instructions: AVX2 FMA, in other operations, rebuild TensorFlow with the appropriate compiler flags.\n",
      "2024-04-02 16:15:52.199975: W tensorflow/compiler/tf2tensorrt/utils/py_utils.cc:38] TF-TRT Warning: Could not find TensorRT\n",
      "/home/maliti/Prog/Global-Feature-Extraction/venv/lib/python3.10/site-packages/transformers/utils/generic.py:441: UserWarning: torch.utils._pytree._register_pytree_node is deprecated. Please use torch.utils._pytree.register_pytree_node instead.\n",
      "  _torch_pytree._register_pytree_node(\n"
     ]
    }
   ],
   "source": [
    "import datetime\n",
    "import multiprocessing\n",
    "import random\n",
    "import time\n",
    "\n",
    "import torch\n",
    "import wandb\n",
    "from stable_baselines3 import PPO\n",
    "from stable_baselines3.common.callbacks import CallbackList, EvalCallback\n",
    "from stable_baselines3.common.env_util import make_atari_env\n",
    "from stable_baselines3.common.vec_env import VecFrameStack, VecTransposeImage\n",
    "from wandb.integration.sb3 import WandbCallback\n",
    "from feature_extraction.callbacks.wandb_on_training_end_callback import WandbOnTrainingEndCallback\n",
    "from feature_extraction.feature_extractors.resnet.block_feature_extractor import BlockFeatureExtractor\n",
    "from feature_extraction.wrappers.vec_feature_extractor import VecFeatureExtractor\n",
    "from utils import linear_schedule\n",
    "from collections import OrderedDict\n",
    "\n",
    "from torchvision.models import ResNet50_Weights, resnet50"
   ]
  },
  {
   "cell_type": "markdown",
   "id": "f0ddbbcf6a2b1455",
   "metadata": {
    "collapsed": false
   },
   "source": [
    "# Method for creating a new configuration"
   ]
  },
  {
   "cell_type": "code",
   "execution_count": 2,
   "id": "e91f377ae09d36e5",
   "metadata": {
    "collapsed": false,
    "ExecuteTime": {
     "end_time": "2024-04-02T14:15:54.380227197Z",
     "start_time": "2024-04-02T14:15:54.377468614Z"
    }
   },
   "outputs": [],
   "source": [
    "def create_config(project_name, run_name):\n",
    "    \"\"\"\n",
    "    Creates a new configuration as an OrderedDict with a specified project and run name,\n",
    "    and sets the training_seed and evaluation_seed to random integers,\n",
    "    while using a predefined set of default settings for the rest.\n",
    "\n",
    "    Parameters:\n",
    "    - project_name (str): Name of the project.\n",
    "    - run_name (str): Name of the run.\n",
    "\n",
    "    Returns:\n",
    "    - OrderedDict: A new configuration dictionary with the specified project and run names,\n",
    "                   random seeds, and default settings for other parameters.\n",
    "    \"\"\"\n",
    "    training_seed = random.randint(0, 9999) # Should later on be same for all experiments to ensure comparability\n",
    "    evaluation_seed = random.randint(0, 9999) # Should later on be same for all experiments to ensure comparability\n",
    "\n",
    "    default_config = OrderedDict([\n",
    "        # Environment settings\n",
    "        ('project_name', project_name),\n",
    "        ('run_name', run_name),\n",
    "        ('env_id', \"BreakoutNoFrameskip-v4\"),\n",
    "        ('n_envs', 8),\n",
    "        ('env_wrapper', ['stable_baselines3.common.atari_wrappers.AtariWrapper']),\n",
    "        ('frame_stack', 4),\n",
    "        ('training_seed', 12),\n",
    "        ('evaluation_seed', 14),\n",
    "        \n",
    "        # Algorithm and policy settings\n",
    "        ('algo', 'PPO'),\n",
    "        ('policy', 'MlpPolicy'),\n",
    "        \n",
    "        # Training hyperparameters\n",
    "        ('batch_size', 256),\n",
    "        ('n_steps', 128),\n",
    "        ('n_epochs', 4),\n",
    "        ('n_timesteps', 1_000),\n",
    "        ('learning_rate', 0.00025),\n",
    "        ('learning_rate_schedule', 'linear'),\n",
    "        ('clip_range', 0.1),\n",
    "        ('clip_range_schedule', 'linear'),\n",
    "        ('ent_coef', 0.01),\n",
    "        ('vf_coef', 0.5),\n",
    "        ('normalize_advantage', False),\n",
    "        \n",
    "        # Evaluation and logging settings\n",
    "        ('n_eval_episodes', 5),\n",
    "        ('record_n_episodes', 10),\n",
    "        ('n_final_eval_episodes', 25),\n",
    "        ('log_frequency', 1024),\n",
    "        \n",
    "        # Other settings\n",
    "        ('verbose', 1)\n",
    "    ])\n",
    "    \n",
    "\n",
    "    return default_config"
   ]
  },
  {
   "cell_type": "markdown",
   "id": "1c8dfb31a922ebdc",
   "metadata": {
    "collapsed": false
   },
   "source": [
    "# Method for running a single experiment with a configuration"
   ]
  },
  {
   "cell_type": "code",
   "execution_count": 3,
   "id": "703ef7863fdada08",
   "metadata": {
    "collapsed": false,
    "ExecuteTime": {
     "end_time": "2024-04-02T14:15:54.409971519Z",
     "start_time": "2024-04-02T14:15:54.385747479Z"
    }
   },
   "outputs": [],
   "source": [
    "def run_experiment(config):\n",
    "    wandb.login()\n",
    "\n",
    "    # Initialize the wandb run\n",
    "    wandb.init(project=config['project_name'],\n",
    "                     name=config['run_name'],\n",
    "                     config=config, save_code=True,\n",
    "                     sync_tensorboard=True)\n",
    "    \n",
    "    config = wandb.config\n",
    "    \n",
    "    log_dir = f\"logs/{config.run_name}\"\n",
    "    #feature_extractor = StageFeatureExtractor()\n",
    "    \n",
    "    model = resnet50(weights=ResNet50_Weights.IMAGENET1K_V2)\n",
    "    device = torch.device(\"cuda\" if torch.cuda.is_available() else \"cpu\")\n",
    "    print(\"Device: \", device)\n",
    "    model.to(device)\n",
    "    feature_extractor = BlockFeatureExtractor(model, 1)\n",
    "\n",
    "    # Create Evaluation Environment\n",
    "    vec_eval_env = make_atari_env(config.env_id, n_envs=config.n_envs, seed=config.evaluation_seed)\n",
    "    vec_eval_env = VecFrameStack(vec_eval_env, n_stack=config.frame_stack)\n",
    "    vec_eval_env = VecTransposeImage(vec_eval_env)\n",
    "    vec_eval_env = VecFeatureExtractor(vec_eval_env, feature_extractor)\n",
    "\n",
    "    # Create Training Environment\n",
    "    vec_train_env = make_atari_env(config.env_id, n_envs=config.n_envs, seed=config.training_seed)\n",
    "    vec_train_env = VecFrameStack(vec_train_env, n_stack=config.frame_stack)\n",
    "    vec_train_env = VecTransposeImage(vec_train_env)\n",
    "    vec_train_env = VecFeatureExtractor(vec_train_env, feature_extractor)\n",
    "\n",
    "    # Define the keys for PPO-specific hyperparameters\n",
    "    ppo_params_keys = [\n",
    "        'batch_size',\n",
    "        'ent_coef',\n",
    "        'n_epochs',\n",
    "        'n_steps',\n",
    "        'policy',\n",
    "        'vf_coef',\n",
    "        'normalize_advantage',\n",
    "    ]\n",
    "\n",
    "    # Filter the config dictionary to extract only the PPO hyperparameters\n",
    "    ppo_hyperparams = {key: config[key] for key in ppo_params_keys if key in config}\n",
    "\n",
    "    # Additional hyperparameters not in the initial filter that require custom handling\n",
    "    learning_rate_schedule = linear_schedule(2.5e-4)\n",
    "    clip_range_schedule = linear_schedule(0.1)\n",
    "\n",
    "    # Instantiate the PPO model with the specified hyperparameters and environment\n",
    "    model = PPO(\n",
    "        **ppo_hyperparams,\n",
    "        learning_rate=learning_rate_schedule,\n",
    "        clip_range=clip_range_schedule,\n",
    "        env=vec_train_env,\n",
    "        verbose=1,\n",
    "        tensorboard_log=f\"{log_dir}\",\n",
    "    )\n",
    "\n",
    "    # Save best model\n",
    "    eval_callback = EvalCallback(\n",
    "        eval_env=vec_eval_env,\n",
    "        eval_freq=max(config.log_frequency // config.n_envs, 1),\n",
    "        n_eval_episodes=config.n_eval_episodes,\n",
    "        best_model_save_path=log_dir,\n",
    "        log_path=log_dir,\n",
    "        deterministic=True,\n",
    "        render=False,\n",
    "        verbose=0\n",
    "    )\n",
    "\n",
    "    # Needs to be changed, so it uses run instead of wandb\n",
    "    wandb_callback = WandbCallback(\n",
    "        verbose=1,\n",
    "        gradient_save_freq=256,\n",
    "    )\n",
    "\n",
    "    wandb_on_training_end_callback = WandbOnTrainingEndCallback(\n",
    "        model=model,\n",
    "        eval_env=vec_eval_env,\n",
    "        log_dir=log_dir,\n",
    "        n_eval_episodes=config.n_final_eval_episodes,\n",
    "        record_n_episodes=config.record_n_episodes,\n",
    "    )\n",
    "    callbacks = CallbackList([wandb_callback, eval_callback, wandb_on_training_end_callback])\n",
    "\n",
    "    model.learn(\n",
    "        total_timesteps=config.n_timesteps,\n",
    "        callback=callbacks,\n",
    "    )\n",
    "\n",
    "    wandb.finish()"
   ]
  },
  {
   "cell_type": "markdown",
   "id": "98fd40b133aa74c6",
   "metadata": {
    "collapsed": false
   },
   "source": [
    "# Method for running multiple experiments with a configuration"
   ]
  },
  {
   "cell_type": "code",
   "execution_count": 4,
   "id": "5b972917656c5e9",
   "metadata": {
    "collapsed": false,
    "ExecuteTime": {
     "end_time": "2024-04-02T14:15:54.410730317Z",
     "start_time": "2024-04-02T14:15:54.399506780Z"
    }
   },
   "outputs": [],
   "source": [
    "def run_experiments_in_parallel(config_list):\n",
    "    processes = []\n",
    "    for config in config_list:\n",
    "        p = multiprocessing.Process(target=run_experiment, args=(config,))\n",
    "        p.start()\n",
    "        processes.append(p)\n",
    "        time.sleep(60) # Sleep to avoid file write conflicts\n",
    "\n",
    "    for p in processes:\n",
    "        p.join()"
   ]
  },
  {
   "cell_type": "markdown",
   "id": "d21476eb484eed70",
   "metadata": {
    "collapsed": false
   },
   "source": [
    "# Run experiments"
   ]
  },
  {
   "cell_type": "code",
   "execution_count": 5,
   "id": "97d8d2eb7eba7780",
   "metadata": {
    "collapsed": false,
    "ExecuteTime": {
     "end_time": "2024-04-02T14:27:28.993568294Z",
     "start_time": "2024-04-02T14:15:54.411754716Z"
    }
   },
   "outputs": [
    {
     "name": "stderr",
     "output_type": "stream",
     "text": [
      "\u001B[34m\u001B[1mwandb\u001B[0m: Currently logged in as: \u001B[33madicreson\u001B[0m (\u001B[33mfeature_extraction\u001B[0m). Use \u001B[1m`wandb login --relogin`\u001B[0m to force relogin\n"
     ]
    },
    {
     "data": {
      "text/plain": "<IPython.core.display.HTML object>",
      "text/html": "Tracking run with wandb version 0.16.5"
     },
     "metadata": {},
     "output_type": "display_data"
    },
    {
     "data": {
      "text/plain": "<IPython.core.display.HTML object>",
      "text/html": "Run data is saved locally in <code>/home/maliti/Prog/Global-Feature-Extraction/experiments/atari/breakout/blocks/wandb/run-20240402_161555-7wsyq2wb</code>"
     },
     "metadata": {},
     "output_type": "display_data"
    },
    {
     "data": {
      "text/plain": "<IPython.core.display.HTML object>",
      "text/html": "Syncing run <strong><a href='https://wandb.ai/feature_extraction/experiments/runs/7wsyq2wb/workspace' target=\"_blank\">breakout_block1_2024-04-02_16-15-54</a></strong> to <a href='https://wandb.ai/feature_extraction/experiments' target=\"_blank\">Weights & Biases</a> (<a href='https://wandb.me/run' target=\"_blank\">docs</a>)<br/>"
     },
     "metadata": {},
     "output_type": "display_data"
    },
    {
     "data": {
      "text/plain": "<IPython.core.display.HTML object>",
      "text/html": " View project at <a href='https://wandb.ai/feature_extraction/experiments' target=\"_blank\">https://wandb.ai/feature_extraction/experiments</a>"
     },
     "metadata": {},
     "output_type": "display_data"
    },
    {
     "data": {
      "text/plain": "<IPython.core.display.HTML object>",
      "text/html": " View run at <a href='https://wandb.ai/feature_extraction/experiments/runs/7wsyq2wb/workspace' target=\"_blank\">https://wandb.ai/feature_extraction/experiments/runs/7wsyq2wb/workspace</a>"
     },
     "metadata": {},
     "output_type": "display_data"
    },
    {
     "name": "stdout",
     "output_type": "stream",
     "text": [
      "Device:  cpu\n"
     ]
    },
    {
     "name": "stderr",
     "output_type": "stream",
     "text": [
      "A.L.E: Arcade Learning Environment (version 0.8.1+53f58b7)\n",
      "[Powered by Stella]\n"
     ]
    },
    {
     "name": "stdout",
     "output_type": "stream",
     "text": [
      "Using cpu device\n",
      "Logging to logs/breakout_block1_2024-04-02_16-15-54/PPO_1\n",
      "Saving frame_100.png\n"
     ]
    },
    {
     "name": "stderr",
     "output_type": "stream",
     "text": [
      "2024-04-02 16:16:01.364770: E external/local_xla/xla/stream_executor/cuda/cuda_dnn.cc:9261] Unable to register cuDNN factory: Attempting to register factory for plugin cuDNN when one has already been registered\n",
      "2024-04-02 16:16:01.364817: E external/local_xla/xla/stream_executor/cuda/cuda_fft.cc:607] Unable to register cuFFT factory: Attempting to register factory for plugin cuFFT when one has already been registered\n",
      "2024-04-02 16:16:01.366133: E external/local_xla/xla/stream_executor/cuda/cuda_blas.cc:1515] Unable to register cuBLAS factory: Attempting to register factory for plugin cuBLAS when one has already been registered\n",
      "2024-04-02 16:16:01.374330: I tensorflow/core/platform/cpu_feature_guard.cc:182] This TensorFlow binary is optimized to use available CPU instructions in performance-critical operations.\n",
      "To enable the following instructions: AVX2 FMA, in other operations, rebuild TensorFlow with the appropriate compiler flags.\n",
      "2024-04-02 16:16:03.492361: W tensorflow/compiler/tf2tensorrt/utils/py_utils.cc:38] TF-TRT Warning: Could not find TensorRT\n"
     ]
    },
    {
     "name": "stdout",
     "output_type": "stream",
     "text": [
      "---------------------------------\n",
      "| eval/              |          |\n",
      "|    mean_ep_length  | 1.2e+03  |\n",
      "|    mean_reward     | 5.4      |\n",
      "| time/              |          |\n",
      "|    total_timesteps | 1024     |\n",
      "---------------------------------\n",
      "---------------------------------\n",
      "| rollout/           |          |\n",
      "|    ep_len_mean     | 522      |\n",
      "|    ep_rew_mean     | 0        |\n",
      "| time/              |          |\n",
      "|    fps             | 5        |\n",
      "|    iterations      | 1        |\n",
      "|    time_elapsed    | 195      |\n",
      "|    total_timesteps | 1024     |\n",
      "---------------------------------\n"
     ]
    },
    {
     "name": "stderr",
     "output_type": "stream",
     "text": [
      "/home/maliti/Prog/Global-Feature-Extraction/venv/lib/python3.10/site-packages/stable_baselines3/common/distributions.py:87: TracerWarning: Converting a tensor to a Python boolean might cause the trace to be incorrect. We can't record the data flow of Python values, so this value will be treated as a constant in the future. This means that the trace might not generalize to other inputs!\n",
      "  if deterministic:\n"
     ]
    },
    {
     "name": "stdout",
     "output_type": "stream",
     "text": [
      "Evaluating model...\n",
      "Mean reward: 3.24 +/- 4.32, n_eval_episodes: 25\n",
      "Model evaluation done.\n",
      "Logging model architecture...\n",
      "Model Summary: ==========================================================================================\n",
      "Layer (type:depth-idx)                   Output Shape              Param #\n",
      "==========================================================================================\n",
      "ActorCriticPolicy                        [1]                       --\n",
      "├─FlattenExtractor: 1-1                  [1, 1024]                 --\n",
      "│    └─Flatten: 2-1                      [1, 1024]                 --\n",
      "├─MlpExtractor: 1-2                      [1, 64]                   --\n",
      "│    └─Sequential: 2-2                   [1, 64]                   --\n",
      "│    │    └─Linear: 3-1                  [1, 64]                   65,600\n",
      "│    │    └─Tanh: 3-2                    [1, 64]                   --\n",
      "│    │    └─Linear: 3-3                  [1, 64]                   4,160\n",
      "│    │    └─Tanh: 3-4                    [1, 64]                   --\n",
      "│    └─Sequential: 2-3                   [1, 64]                   --\n",
      "│    │    └─Linear: 3-5                  [1, 64]                   65,600\n",
      "│    │    └─Tanh: 3-6                    [1, 64]                   --\n",
      "│    │    └─Linear: 3-7                  [1, 64]                   4,160\n",
      "│    │    └─Tanh: 3-8                    [1, 64]                   --\n",
      "├─Linear: 1-3                            [1, 1]                    65\n",
      "├─Linear: 1-4                            [1, 4]                    260\n",
      "==========================================================================================\n",
      "Total params: 139,845\n",
      "Trainable params: 139,845\n",
      "Non-trainable params: 0\n",
      "Total mult-adds (M): 0.14\n",
      "==========================================================================================\n",
      "Input size (MB): 0.00\n",
      "Forward/backward pass size (MB): 0.00\n",
      "Params size (MB): 0.56\n",
      "Estimated Total Size (MB): 0.57\n",
      "==========================================================================================\n",
      "Model architecture logged.\n",
      "Uploading files to W&B...\n",
      "Files uploaded to W&B.\n"
     ]
    },
    {
     "name": "stderr",
     "output_type": "stream",
     "text": [
      "wandb: ERROR Error while calling W&B API: run 7wsyq2wb was previously created and deleted; try a new run name (<Response [409]>)\n"
     ]
    },
    {
     "data": {
      "text/plain": "VBox(children=(Label(value='0.219 MB of 0.219 MB uploaded\\r'), FloatProgress(value=1.0, max=1.0)))",
      "application/vnd.jupyter.widget-view+json": {
       "version_major": 2,
       "version_minor": 0,
       "model_id": "c41507a096c64bedad76e00fab912445"
      }
     },
     "metadata": {},
     "output_type": "display_data"
    },
    {
     "name": "stderr",
     "output_type": "stream",
     "text": [
      "wandb: ERROR Error while calling W&B API: run 7wsyq2wb was previously created and deleted; try a new run name (<Response [409]>)\n",
      "wandb: ERROR Error while calling W&B API: run 7wsyq2wb was previously created and deleted; try a new run name (<Response [409]>)\n",
      "wandb: ERROR Error while calling W&B API: run 7wsyq2wb was previously created and deleted; try a new run name (<Response [409]>)\n",
      "wandb: ERROR Error while calling W&B API: run 7wsyq2wb was previously created and deleted; try a new run name (<Response [409]>)\n",
      "wandb: ERROR Dropped streaming file chunk (see wandb/debug-internal.log)\n",
      "wandb: ERROR Error while calling W&B API: run 7wsyq2wb was previously created and deleted; try a new run name (<Response [409]>)\n",
      "wandb: ERROR Error while calling W&B API: run 7wsyq2wb was previously created and deleted; try a new run name (<Response [409]>)\n",
      "wandb: ERROR Error while calling W&B API: run 7wsyq2wb was previously created and deleted; try a new run name (<Response [409]>)\n",
      "Thread SenderThread:\n",
      "Traceback (most recent call last):\n",
      "  File \"/home/maliti/Prog/Global-Feature-Extraction/venv/lib/python3.10/site-packages/wandb/apis/normalize.py\", line 41, in wrapper\n",
      "    return func(*args, **kwargs)\n",
      "  File \"/home/maliti/Prog/Global-Feature-Extraction/venv/lib/python3.10/site-packages/wandb/sdk/internal/internal_api.py\", line 2217, in upsert_run\n",
      "    response = self.gql(\n",
      "  File \"/home/maliti/Prog/Global-Feature-Extraction/venv/lib/python3.10/site-packages/wandb/sdk/internal/internal_api.py\", line 341, in gql\n",
      "    ret = self._retry_gql(\n",
      "  File \"/home/maliti/Prog/Global-Feature-Extraction/venv/lib/python3.10/site-packages/wandb/sdk/lib/retry.py\", line 131, in __call__\n",
      "    result = self._call_fn(*args, **kwargs)\n",
      "  File \"/home/maliti/Prog/Global-Feature-Extraction/venv/lib/python3.10/site-packages/wandb/sdk/internal/internal_api.py\", line 369, in execute\n",
      "    return self.client.execute(*args, **kwargs)  # type: ignore\n",
      "  File \"/home/maliti/Prog/Global-Feature-Extraction/venv/lib/python3.10/site-packages/wandb/vendor/gql-0.2.0/wandb_gql/client.py\", line 52, in execute\n",
      "    result = self._get_result(document, *args, **kwargs)\n",
      "  File \"/home/maliti/Prog/Global-Feature-Extraction/venv/lib/python3.10/site-packages/wandb/vendor/gql-0.2.0/wandb_gql/client.py\", line 60, in _get_result\n",
      "    return self.transport.execute(document, *args, **kwargs)\n",
      "  File \"/home/maliti/Prog/Global-Feature-Extraction/venv/lib/python3.10/site-packages/wandb/sdk/lib/gql_request.py\", line 59, in execute\n",
      "    request.raise_for_status()\n",
      "  File \"/home/maliti/Prog/Global-Feature-Extraction/venv/lib/python3.10/site-packages/requests/models.py\", line 1021, in raise_for_status\n",
      "    raise HTTPError(http_error_msg, response=self)\n",
      "requests.exceptions.HTTPError: 409 Client Error: Conflict for url: https://api.wandb.ai/graphql\n",
      "\n",
      "During handling of the above exception, another exception occurred:\n",
      "\n",
      "Traceback (most recent call last):\n",
      "  File \"/home/maliti/Prog/Global-Feature-Extraction/venv/lib/python3.10/site-packages/wandb/sdk/internal/internal_util.py\", line 49, in run\n",
      "    self._run()\n",
      "  File \"/home/maliti/Prog/Global-Feature-Extraction/venv/lib/python3.10/site-packages/wandb/sdk/internal/internal_util.py\", line 100, in _run\n",
      "    self._process(record)\n",
      "  File \"/home/maliti/Prog/Global-Feature-Extraction/venv/lib/python3.10/site-packages/wandb/sdk/internal/internal.py\", line 328, in _process\n",
      "    self._sm.send(record)\n",
      "  File \"/home/maliti/Prog/Global-Feature-Extraction/venv/lib/python3.10/site-packages/wandb/sdk/internal/sender.py\", line 386, in send\n",
      "    send_handler(record)\n",
      "  File \"/home/maliti/Prog/Global-Feature-Extraction/venv/lib/python3.10/site-packages/wandb/sdk/internal/sender.py\", line 408, in send_request\n",
      "    send_handler(record)\n",
      "  File \"/home/maliti/Prog/Global-Feature-Extraction/venv/lib/python3.10/site-packages/wandb/sdk/internal/sender.py\", line 636, in send_request_defer\n",
      "    self.debounce(final=True)\n",
      "  File \"/home/maliti/Prog/Global-Feature-Extraction/venv/lib/python3.10/site-packages/wandb/sdk/internal/sender.py\", line 537, in debounce\n",
      "    self._maybe_update_config(always=final)\n",
      "  File \"/home/maliti/Prog/Global-Feature-Extraction/venv/lib/python3.10/site-packages/wandb/sdk/internal/sender.py\", line 514, in _maybe_update_config\n",
      "    self._debounce_config()\n",
      "  File \"/home/maliti/Prog/Global-Feature-Extraction/venv/lib/python3.10/site-packages/wandb/sdk/internal/sender.py\", line 543, in _debounce_config\n",
      "    self._api.upsert_run(\n",
      "  File \"/home/maliti/Prog/Global-Feature-Extraction/venv/lib/python3.10/site-packages/wandb/apis/normalize.py\", line 51, in wrapper\n",
      "    raise CommError(message, error)\n",
      "wandb.errors.CommError: run 7wsyq2wb was previously created and deleted; try a new run name (Error 409: Conflict)\n",
      "wandb: ERROR Internal wandb error: file data was not synced\n",
      "Process Process-1:\n",
      "Traceback (most recent call last):\n",
      "  File \"/home/maliti/Prog/Global-Feature-Extraction/venv/lib/python3.10/site-packages/wandb/sdk/wandb_run.py\", line 2301, in _atexit_cleanup\n",
      "    self._on_finish()\n",
      "  File \"/home/maliti/Prog/Global-Feature-Extraction/venv/lib/python3.10/site-packages/wandb/sdk/wandb_run.py\", line 2548, in _on_finish\n",
      "    _ = exit_handle.wait(timeout=-1, on_progress=self._on_progress_exit)\n",
      "  File \"/home/maliti/Prog/Global-Feature-Extraction/venv/lib/python3.10/site-packages/wandb/sdk/lib/mailbox.py\", line 298, in wait\n",
      "    on_probe(probe_handle)\n",
      "  File \"/home/maliti/Prog/Global-Feature-Extraction/venv/lib/python3.10/site-packages/wandb/sdk/wandb_run.py\", line 2512, in _on_probe_exit\n",
      "    result = handle.wait(timeout=0, release=False)\n",
      "  File \"/home/maliti/Prog/Global-Feature-Extraction/venv/lib/python3.10/site-packages/wandb/sdk/lib/mailbox.py\", line 281, in wait\n",
      "    raise MailboxError(\"transport failed\")\n",
      "wandb.sdk.lib.mailbox.MailboxError: transport failed\n",
      "\n",
      "During handling of the above exception, another exception occurred:\n",
      "\n",
      "Traceback (most recent call last):\n",
      "  File \"/usr/lib/python3.10/multiprocessing/process.py\", line 314, in _bootstrap\n",
      "    self.run()\n",
      "  File \"/usr/lib/python3.10/multiprocessing/process.py\", line 108, in run\n",
      "    self._target(*self._args, **self._kwargs)\n",
      "  File \"/tmp/ipykernel_92909/3635101083.py\", line 93, in run_experiment\n",
      "    wandb.finish()\n",
      "  File \"/home/maliti/Prog/Global-Feature-Extraction/venv/lib/python3.10/site-packages/wandb/sdk/wandb_run.py\", line 4173, in finish\n",
      "    wandb.run.finish(exit_code=exit_code, quiet=quiet)\n",
      "  File \"/home/maliti/Prog/Global-Feature-Extraction/venv/lib/python3.10/site-packages/wandb/sdk/wandb_run.py\", line 420, in wrapper\n",
      "    return func(self, *args, **kwargs)\n",
      "  File \"/home/maliti/Prog/Global-Feature-Extraction/venv/lib/python3.10/site-packages/wandb/sdk/wandb_run.py\", line 361, in wrapper\n",
      "    return func(self, *args, **kwargs)\n",
      "  File \"/home/maliti/Prog/Global-Feature-Extraction/venv/lib/python3.10/site-packages/wandb/sdk/wandb_run.py\", line 2043, in finish\n",
      "    return self._finish(exit_code, quiet)\n",
      "  File \"/home/maliti/Prog/Global-Feature-Extraction/venv/lib/python3.10/site-packages/wandb/sdk/wandb_run.py\", line 2058, in _finish\n",
      "    self._atexit_cleanup(exit_code=exit_code)\n",
      "  File \"/home/maliti/Prog/Global-Feature-Extraction/venv/lib/python3.10/site-packages/wandb/sdk/wandb_run.py\", line 2312, in _atexit_cleanup\n",
      "    self._backend.cleanup()\n",
      "  File \"/home/maliti/Prog/Global-Feature-Extraction/venv/lib/python3.10/site-packages/wandb/sdk/backend/backend.py\", line 232, in cleanup\n",
      "    self.interface.join()\n",
      "  File \"/home/maliti/Prog/Global-Feature-Extraction/venv/lib/python3.10/site-packages/wandb/sdk/interface/interface_shared.py\", line 553, in join\n",
      "    super().join()\n",
      "  File \"/home/maliti/Prog/Global-Feature-Extraction/venv/lib/python3.10/site-packages/wandb/sdk/interface/interface.py\", line 724, in join\n",
      "    _ = self._communicate_shutdown()\n",
      "  File \"/home/maliti/Prog/Global-Feature-Extraction/venv/lib/python3.10/site-packages/wandb/sdk/interface/interface_shared.py\", line 450, in _communicate_shutdown\n",
      "    _ = self._communicate(record)\n",
      "  File \"/home/maliti/Prog/Global-Feature-Extraction/venv/lib/python3.10/site-packages/wandb/sdk/interface/interface_shared.py\", line 302, in _communicate\n",
      "    return self._communicate_async(rec, local=local).get(timeout=timeout)\n",
      "  File \"/home/maliti/Prog/Global-Feature-Extraction/venv/lib/python3.10/site-packages/wandb/sdk/interface/interface_sock.py\", line 60, in _communicate_async\n",
      "    future = self._router.send_and_receive(rec, local=local)\n",
      "  File \"/home/maliti/Prog/Global-Feature-Extraction/venv/lib/python3.10/site-packages/wandb/sdk/interface/router.py\", line 94, in send_and_receive\n",
      "    self._send_message(rec)\n",
      "  File \"/home/maliti/Prog/Global-Feature-Extraction/venv/lib/python3.10/site-packages/wandb/sdk/interface/router_sock.py\", line 36, in _send_message\n",
      "    self._sock_client.send_record_communicate(record)\n",
      "  File \"/home/maliti/Prog/Global-Feature-Extraction/venv/lib/python3.10/site-packages/wandb/sdk/lib/sock_client.py\", line 216, in send_record_communicate\n",
      "    self.send_server_request(server_req)\n",
      "  File \"/home/maliti/Prog/Global-Feature-Extraction/venv/lib/python3.10/site-packages/wandb/sdk/lib/sock_client.py\", line 155, in send_server_request\n",
      "    self._send_message(msg)\n",
      "  File \"/home/maliti/Prog/Global-Feature-Extraction/venv/lib/python3.10/site-packages/wandb/sdk/lib/sock_client.py\", line 152, in _send_message\n",
      "    self._sendall_with_error_handle(header + data)\n",
      "  File \"/home/maliti/Prog/Global-Feature-Extraction/venv/lib/python3.10/site-packages/wandb/sdk/lib/sock_client.py\", line 130, in _sendall_with_error_handle\n",
      "    sent = self._sock.send(data)\n",
      "BrokenPipeError: [Errno 32] Broken pipe\n"
     ]
    }
   ],
   "source": [
    "configs = []\n",
    "runs = [\"breakout_block1\"]\n",
    "\n",
    "for run in runs:\n",
    "    timestamp = datetime.datetime.now().strftime('_%Y-%m-%d_%H-%M-%S')\n",
    "    \n",
    "    project_name = \"experiments\"\n",
    "    run_name = run + timestamp\n",
    "    \n",
    "    new_config = create_config(project_name, run_name)\n",
    "    configs.append(new_config)\n",
    "\n",
    "# Run experiments in parallel\n",
    "run_experiments_in_parallel(configs)"
   ]
  }
 ],
 "metadata": {
  "kernelspec": {
   "display_name": "Python 3 (ipykernel)",
   "language": "python",
   "name": "python3"
  },
  "language_info": {
   "codemirror_mode": {
    "name": "ipython",
    "version": 3
   },
   "file_extension": ".py",
   "mimetype": "text/x-python",
   "name": "python",
   "nbconvert_exporter": "python",
   "pygments_lexer": "ipython3",
   "version": "3.10.12"
  }
 },
 "nbformat": 4,
 "nbformat_minor": 5
}
