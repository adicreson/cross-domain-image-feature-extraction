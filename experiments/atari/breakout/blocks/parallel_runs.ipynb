{
 "cells": [
  {
   "cell_type": "markdown",
   "source": [
    "# Importing Libraries"
   ],
   "metadata": {
    "collapsed": false
   },
   "id": "3aa10e55ac7f097b"
  },
  {
   "cell_type": "code",
   "outputs": [
    {
     "name": "stderr",
     "output_type": "stream",
     "text": [
      "2024-03-30 18:36:24.982200: E external/local_xla/xla/stream_executor/cuda/cuda_dnn.cc:9261] Unable to register cuDNN factory: Attempting to register factory for plugin cuDNN when one has already been registered\n",
      "2024-03-30 18:36:24.982246: E external/local_xla/xla/stream_executor/cuda/cuda_fft.cc:607] Unable to register cuFFT factory: Attempting to register factory for plugin cuFFT when one has already been registered\n",
      "2024-03-30 18:36:24.983834: E external/local_xla/xla/stream_executor/cuda/cuda_blas.cc:1515] Unable to register cuBLAS factory: Attempting to register factory for plugin cuBLAS when one has already been registered\n",
      "2024-03-30 18:36:24.993308: I tensorflow/core/platform/cpu_feature_guard.cc:182] This TensorFlow binary is optimized to use available CPU instructions in performance-critical operations.\n",
      "To enable the following instructions: AVX2 FMA, in other operations, rebuild TensorFlow with the appropriate compiler flags.\n",
      "2024-03-30 18:36:26.066424: W tensorflow/compiler/tf2tensorrt/utils/py_utils.cc:38] TF-TRT Warning: Could not find TensorRT\n",
      "/home/maliti/Prog/Global-Feature-Extraction/venv/lib/python3.10/site-packages/transformers/utils/generic.py:441: UserWarning: torch.utils._pytree._register_pytree_node is deprecated. Please use torch.utils._pytree.register_pytree_node instead.\n",
      "  _torch_pytree._register_pytree_node(\n"
     ]
    }
   ],
   "source": [
    "import datetime\n",
    "import multiprocessing\n",
    "import random\n",
    "import time\n",
    "\n",
    "import wandb\n",
    "from stable_baselines3 import PPO\n",
    "from stable_baselines3.common.callbacks import CallbackList, EvalCallback\n",
    "from stable_baselines3.common.env_util import make_atari_env\n",
    "from stable_baselines3.common.vec_env import VecFrameStack, VecTransposeImage\n",
    "from wandb.integration.sb3 import WandbCallback\n",
    "from feature_extraction.callbacks.wandb_on_training_end_callback import WandbOnTrainingEndCallback\n",
    "from feature_extraction.feature_extractors.resnet.block_feature_extractor import BlockFeatureExtractor\n",
    "from feature_extraction.wrappers.vec_feature_extractor import VecFeatureExtractor\n",
    "from utils import linear_schedule\n",
    "from collections import OrderedDict"
   ],
   "metadata": {
    "collapsed": false,
    "ExecuteTime": {
     "end_time": "2024-03-30T17:36:28.976059973Z",
     "start_time": "2024-03-30T17:36:22.157532345Z"
    }
   },
   "id": "990905f50fea55f1",
   "execution_count": 1
  },
  {
   "cell_type": "markdown",
   "source": [
    "# Method for creating a new configuration"
   ],
   "metadata": {
    "collapsed": false
   },
   "id": "f0ddbbcf6a2b1455"
  },
  {
   "cell_type": "code",
   "outputs": [],
   "source": [
    "def create_config(project_name, run_name):\n",
    "    \"\"\"\n",
    "    Creates a new configuration as an OrderedDict with a specified project and run name,\n",
    "    and sets the training_seed and evaluation_seed to random integers,\n",
    "    while using a predefined set of default settings for the rest.\n",
    "\n",
    "    Parameters:\n",
    "    - project_name (str): Name of the project.\n",
    "    - run_name (str): Name of the run.\n",
    "\n",
    "    Returns:\n",
    "    - OrderedDict: A new configuration dictionary with the specified project and run names,\n",
    "                   random seeds, and default settings for other parameters.\n",
    "    \"\"\"\n",
    "    training_seed = random.randint(0, 9999) # Should later on be same for all experiments to ensure comparability\n",
    "    evaluation_seed = random.randint(0, 9999) # Should later on be same for all experiments to ensure comparability\n",
    "\n",
    "    default_config = OrderedDict([\n",
    "        # Environment settings\n",
    "        ('project_name', project_name),\n",
    "        ('run_name', run_name),\n",
    "        ('env_id', \"ALE/Breakout-v5\"),\n",
    "        ('n_envs', 8),\n",
    "        ('env_wrapper', ['stable_baselines3.common.atari_wrappers.AtariWrapper']),\n",
    "        ('frame_stack', 4),\n",
    "        ('training_seed', training_seed),\n",
    "        ('evaluation_seed', evaluation_seed),\n",
    "        \n",
    "        # Algorithm and policy settings\n",
    "        ('algo', 'PPO'),\n",
    "        ('policy', 'MlpPolicy'),\n",
    "        \n",
    "        # Training hyperparameters\n",
    "        ('batch_size', 256),\n",
    "        ('n_steps', 128),\n",
    "        ('n_epochs', 4),\n",
    "        ('n_timesteps', 3_000),\n",
    "        ('learning_rate', 0.00025),\n",
    "        ('learning_rate_schedule', 'linear'),\n",
    "        ('clip_range', 0.1),\n",
    "        ('clip_range_schedule', 'linear'),\n",
    "        ('ent_coef', 0.01),\n",
    "        ('vf_coef', 0.5),\n",
    "        ('normalize_advantage', False),\n",
    "        \n",
    "        # Evaluation and logging settings\n",
    "        ('n_eval_episodes', 1),\n",
    "        ('record_n_episodes', 10),\n",
    "        ('log_frequency', 1024),\n",
    "        \n",
    "        # Other settings\n",
    "        ('verbose', 1)\n",
    "    ])\n",
    "    \n",
    "\n",
    "    return default_config"
   ],
   "metadata": {
    "collapsed": false,
    "ExecuteTime": {
     "end_time": "2024-03-30T17:36:28.988121217Z",
     "start_time": "2024-03-30T17:36:28.984181211Z"
    }
   },
   "id": "e91f377ae09d36e5",
   "execution_count": 2
  },
  {
   "cell_type": "markdown",
   "source": [
    "# Method for running a single experiment with a configuration"
   ],
   "metadata": {
    "collapsed": false
   },
   "id": "1c8dfb31a922ebdc"
  },
  {
   "cell_type": "code",
   "outputs": [],
   "source": [
    "from torchvision.models import ResNet50_Weights, resnet50\n",
    "from torchvision import models\n",
    "\n",
    "\n",
    "def run_experiment(config):\n",
    "    wandb.login()\n",
    "\n",
    "    # Initialize the wandb run\n",
    "    wandb.init(project=config['project_name'],\n",
    "                     name=config['run_name'],\n",
    "                     config=config, save_code=True,\n",
    "                     sync_tensorboard=True)\n",
    "    \n",
    "    config = wandb.config\n",
    "    \n",
    "    log_dir = f\"logs/{config.run_name}\"\n",
    "    #feature_extractor = StageFeatureExtractor()\n",
    "    \n",
    "    model = resnet50(weights=ResNet50_Weights.IMAGENET1K_V2)\n",
    "    feature_extractor = BlockFeatureExtractor(model, 1)\n",
    "\n",
    "    # Create Evaluation Environment\n",
    "    vec_eval_env = make_atari_env(config.env_id, n_envs=config.n_envs, seed=config.evaluation_seed)\n",
    "    #vec_eval_env = VecFrameStack(vec_eval_env, n_stack=config.frame_stack)\n",
    "    vec_eval_env = VecTransposeImage(vec_eval_env)\n",
    "    vec_eval_env = VecFeatureExtractor(vec_eval_env, feature_extractor)\n",
    "\n",
    "    # Create Training Environment\n",
    "    vec_train_env = make_atari_env(config.env_id, n_envs=config.n_envs, seed=config.training_seed)\n",
    "    #vec_train_env = VecFrameStack(vec_train_env, n_stack=config.frame_stack)\n",
    "    vec_train_env = VecTransposeImage(vec_train_env)\n",
    "    vec_train_env = VecFeatureExtractor(vec_train_env, feature_extractor)\n",
    "\n",
    "    #\n",
    "\n",
    "    # Define the keys for PPO-specific hyperparameters\n",
    "    ppo_params_keys = [\n",
    "        'batch_size',\n",
    "        'ent_coef',\n",
    "        'n_epochs',\n",
    "        'n_steps',\n",
    "        'policy',\n",
    "        'vf_coef',\n",
    "        'normalize_advantage',\n",
    "    ]\n",
    "\n",
    "    # Filter the config dictionary to extract only the PPO hyperparameters\n",
    "    ppo_hyperparams = {key: config[key] for key in ppo_params_keys if key in config}\n",
    "\n",
    "    # Additional hyperparameters not in the initial filter that require custom handling\n",
    "    learning_rate_schedule = linear_schedule(2.5e-4)\n",
    "    clip_range_schedule = linear_schedule(0.1)\n",
    "\n",
    "    # Instantiate the PPO model with the specified hyperparameters and environment\n",
    "    model = PPO(\n",
    "        **ppo_hyperparams,\n",
    "        learning_rate=learning_rate_schedule,\n",
    "        clip_range=clip_range_schedule,\n",
    "        env=vec_train_env,\n",
    "        verbose=1,\n",
    "        tensorboard_log=f\"{log_dir}\",\n",
    "    )\n",
    "\n",
    "    # Create Callbacks\n",
    "\n",
    "    # Save best model\n",
    "    eval_callback = EvalCallback(\n",
    "        eval_env=vec_eval_env,\n",
    "        eval_freq=max(config.log_frequency // config.n_envs, 1),\n",
    "        n_eval_episodes=config.n_eval_episodes,\n",
    "        best_model_save_path=log_dir,\n",
    "        log_path=log_dir,\n",
    "        deterministic=True,\n",
    "        render=False,\n",
    "        verbose=0\n",
    "    )\n",
    "\n",
    "    # Needs to be changed, so it uses run instead of wandb\n",
    "    wandb_callback = WandbCallback(\n",
    "        verbose=1,\n",
    "        gradient_save_freq=256,\n",
    "    )\n",
    "\n",
    "    wandb_on_training_end_callback = WandbOnTrainingEndCallback(\n",
    "        model=model,\n",
    "        eval_env=vec_eval_env,\n",
    "        log_dir=log_dir,\n",
    "        n_eval_episodes=config.n_eval_episodes,\n",
    "        record_n_episodes=config.record_n_episodes,\n",
    "    )\n",
    "    callbacks = CallbackList([wandb_callback, eval_callback, wandb_on_training_end_callback])\n",
    "\n",
    "    model.learn(\n",
    "        total_timesteps=config.n_timesteps,\n",
    "        callback=callbacks,\n",
    "    )\n",
    "\n",
    "    wandb.finish()"
   ],
   "metadata": {
    "collapsed": false,
    "ExecuteTime": {
     "end_time": "2024-03-30T17:36:29.016779685Z",
     "start_time": "2024-03-30T17:36:28.993920689Z"
    }
   },
   "id": "703ef7863fdada08",
   "execution_count": 3
  },
  {
   "cell_type": "markdown",
   "source": [
    "# Method for running multiple experiments with a configuration"
   ],
   "metadata": {
    "collapsed": false
   },
   "id": "98fd40b133aa74c6"
  },
  {
   "cell_type": "code",
   "outputs": [],
   "source": [
    "def run_experiments_in_parallel(config_list):\n",
    "    processes = []\n",
    "    for config in config_list:\n",
    "        p = multiprocessing.Process(target=run_experiment, args=(config,))\n",
    "        p.start()\n",
    "        processes.append(p)\n",
    "        #time.sleep(60) # Sleep to avoid file write conflicts\n",
    "\n",
    "    for p in processes:\n",
    "        p.join()"
   ],
   "metadata": {
    "collapsed": false,
    "ExecuteTime": {
     "end_time": "2024-03-30T17:36:29.017228781Z",
     "start_time": "2024-03-30T17:36:29.008626096Z"
    }
   },
   "id": "5b972917656c5e9",
   "execution_count": 4
  },
  {
   "cell_type": "markdown",
   "source": [
    "# Run experiments"
   ],
   "metadata": {
    "collapsed": false
   },
   "id": "d21476eb484eed70"
  },
  {
   "cell_type": "code",
   "outputs": [
    {
     "name": "stderr",
     "output_type": "stream",
     "text": [
      "\u001B[34m\u001B[1mwandb\u001B[0m: Currently logged in as: \u001B[33madicreson\u001B[0m (\u001B[33mfeature_extraction\u001B[0m). Use \u001B[1m`wandb login --relogin`\u001B[0m to force relogin\n"
     ]
    },
    {
     "data": {
      "text/plain": "<IPython.core.display.HTML object>",
      "text/html": "Tracking run with wandb version 0.16.5"
     },
     "metadata": {},
     "output_type": "display_data"
    },
    {
     "data": {
      "text/plain": "<IPython.core.display.HTML object>",
      "text/html": "Run data is saved locally in <code>/home/maliti/Prog/Global-Feature-Extraction/experiments/atari/breakout/blocks/wandb/run-20240330_183630-q1ccw6mv</code>"
     },
     "metadata": {},
     "output_type": "display_data"
    },
    {
     "data": {
      "text/plain": "<IPython.core.display.HTML object>",
      "text/html": "Syncing run <strong><a href='https://wandb.ai/feature_extraction/parallel_experiments/runs/q1ccw6mv/workspace' target=\"_blank\">breakout_vec_feat_2024-03-30_18-36-29</a></strong> to <a href='https://wandb.ai/feature_extraction/parallel_experiments' target=\"_blank\">Weights & Biases</a> (<a href='https://wandb.me/run' target=\"_blank\">docs</a>)<br/>"
     },
     "metadata": {},
     "output_type": "display_data"
    },
    {
     "data": {
      "text/plain": "<IPython.core.display.HTML object>",
      "text/html": " View project at <a href='https://wandb.ai/feature_extraction/parallel_experiments' target=\"_blank\">https://wandb.ai/feature_extraction/parallel_experiments</a>"
     },
     "metadata": {},
     "output_type": "display_data"
    },
    {
     "data": {
      "text/plain": "<IPython.core.display.HTML object>",
      "text/html": " View run at <a href='https://wandb.ai/feature_extraction/parallel_experiments/runs/q1ccw6mv/workspace' target=\"_blank\">https://wandb.ai/feature_extraction/parallel_experiments/runs/q1ccw6mv/workspace</a>"
     },
     "metadata": {},
     "output_type": "display_data"
    },
    {
     "name": "stderr",
     "output_type": "stream",
     "text": [
      "A.L.E: Arcade Learning Environment (version 0.8.1+53f58b7)\n",
      "[Powered by Stella]\n"
     ]
    },
    {
     "name": "stdout",
     "output_type": "stream",
     "text": [
      "Using cpu device\n",
      "VecFeatureExtractor reset\n",
      "Logging to logs/breakout_vec_feat_2024-03-30_18-36-29/PPO_1\n"
     ]
    },
    {
     "name": "stderr",
     "output_type": "stream",
     "text": [
      "2024-03-30 18:36:38.111739: E external/local_xla/xla/stream_executor/cuda/cuda_dnn.cc:9261] Unable to register cuDNN factory: Attempting to register factory for plugin cuDNN when one has already been registered\n",
      "2024-03-30 18:36:38.111808: E external/local_xla/xla/stream_executor/cuda/cuda_fft.cc:607] Unable to register cuFFT factory: Attempting to register factory for plugin cuFFT when one has already been registered\n",
      "2024-03-30 18:36:38.113853: E external/local_xla/xla/stream_executor/cuda/cuda_blas.cc:1515] Unable to register cuBLAS factory: Attempting to register factory for plugin cuBLAS when one has already been registered\n",
      "2024-03-30 18:36:38.125636: I tensorflow/core/platform/cpu_feature_guard.cc:182] This TensorFlow binary is optimized to use available CPU instructions in performance-critical operations.\n",
      "To enable the following instructions: AVX2 FMA, in other operations, rebuild TensorFlow with the appropriate compiler flags.\n",
      "2024-03-30 18:36:39.425864: W tensorflow/compiler/tf2tensorrt/utils/py_utils.cc:38] TF-TRT Warning: Could not find TensorRT\n"
     ]
    },
    {
     "name": "stdout",
     "output_type": "stream",
     "text": [
      "VecFeatureExtractor reset\n",
      "---------------------------------\n",
      "| eval/              |          |\n",
      "|    mean_ep_length  | 256      |\n",
      "|    mean_reward     | 3        |\n",
      "| time/              |          |\n",
      "|    total_timesteps | 1024     |\n",
      "---------------------------------\n",
      "---------------------------------\n",
      "| rollout/           |          |\n",
      "|    ep_len_mean     | 235      |\n",
      "|    ep_rew_mean     | 1.71     |\n",
      "| time/              |          |\n",
      "|    fps             | 51       |\n",
      "|    iterations      | 1        |\n",
      "|    time_elapsed    | 19       |\n",
      "|    total_timesteps | 1024     |\n",
      "---------------------------------\n",
      "VecFeatureExtractor reset\n",
      "------------------------------------------\n",
      "| eval/                   |              |\n",
      "|    mean_ep_length       | 254          |\n",
      "|    mean_reward          | 3            |\n",
      "| time/                   |              |\n",
      "|    total_timesteps      | 2048         |\n",
      "| train/                  |              |\n",
      "|    approx_kl            | 0.0020449983 |\n",
      "|    clip_fraction        | 0.116        |\n",
      "|    clip_range           | 0.0659       |\n",
      "|    entropy_loss         | -1.39        |\n",
      "|    explained_variance   | 0.00137      |\n",
      "|    learning_rate        | 0.000165     |\n",
      "|    loss                 | -0.0971      |\n",
      "|    n_updates            | 4            |\n",
      "|    policy_gradient_loss | -0.206       |\n",
      "|    value_loss           | 0.212        |\n",
      "------------------------------------------\n",
      "---------------------------------\n",
      "| rollout/           |          |\n",
      "|    ep_len_mean     | 222      |\n",
      "|    ep_rew_mean     | 1.46     |\n",
      "| time/              |          |\n",
      "|    fps             | 56       |\n",
      "|    iterations      | 2        |\n",
      "|    time_elapsed    | 36       |\n",
      "|    total_timesteps | 2048     |\n",
      "---------------------------------\n",
      "VecFeatureExtractor reset\n",
      "-----------------------------------------\n",
      "| eval/                   |             |\n",
      "|    mean_ep_length       | 212         |\n",
      "|    mean_reward          | 2           |\n",
      "| time/                   |             |\n",
      "|    total_timesteps      | 3072        |\n",
      "| train/                  |             |\n",
      "|    approx_kl            | 3.51076e-05 |\n",
      "|    clip_fraction        | 0           |\n",
      "|    clip_range           | 0.0317      |\n",
      "|    entropy_loss         | -1.38       |\n",
      "|    explained_variance   | 0.000687    |\n",
      "|    learning_rate        | 7.93e-05    |\n",
      "|    loss                 | 0.115       |\n",
      "|    n_updates            | 8           |\n",
      "|    policy_gradient_loss | 0.0351      |\n",
      "|    value_loss           | 0.228       |\n",
      "-----------------------------------------\n",
      "---------------------------------\n",
      "| rollout/           |          |\n",
      "|    ep_len_mean     | 227      |\n",
      "|    ep_rew_mean     | 1.6      |\n",
      "| time/              |          |\n",
      "|    fps             | 59       |\n",
      "|    iterations      | 3        |\n",
      "|    time_elapsed    | 51       |\n",
      "|    total_timesteps | 3072     |\n",
      "---------------------------------\n"
     ]
    },
    {
     "name": "stderr",
     "output_type": "stream",
     "text": [
      "/home/maliti/Prog/Global-Feature-Extraction/venv/lib/python3.10/site-packages/stable_baselines3/common/distributions.py:87: TracerWarning: Converting a tensor to a Python boolean might cause the trace to be incorrect. We can't record the data flow of Python values, so this value will be treated as a constant in the future. This means that the trace might not generalize to other inputs!\n",
      "  if deterministic:\n"
     ]
    },
    {
     "name": "stdout",
     "output_type": "stream",
     "text": [
      "Evaluating model...\n",
      "VecFeatureExtractor reset\n",
      "Mean reward: 2.00 +/- 0.00\n",
      "Model evaluation done.\n",
      "Logging model architecture...\n",
      "Model Summary: ==========================================================================================\n",
      "Layer (type:depth-idx)                   Output Shape              Param #\n",
      "==========================================================================================\n",
      "ActorCriticPolicy                        [1]                       --\n",
      "├─FlattenExtractor: 1-1                  [1, 256]                  --\n",
      "│    └─Flatten: 2-1                      [1, 256]                  --\n",
      "├─MlpExtractor: 1-2                      [1, 64]                   --\n",
      "│    └─Sequential: 2-2                   [1, 64]                   --\n",
      "│    │    └─Linear: 3-1                  [1, 64]                   16,448\n",
      "│    │    └─Tanh: 3-2                    [1, 64]                   --\n",
      "│    │    └─Linear: 3-3                  [1, 64]                   4,160\n",
      "│    │    └─Tanh: 3-4                    [1, 64]                   --\n",
      "│    └─Sequential: 2-3                   [1, 64]                   --\n",
      "│    │    └─Linear: 3-5                  [1, 64]                   16,448\n",
      "│    │    └─Tanh: 3-6                    [1, 64]                   --\n",
      "│    │    └─Linear: 3-7                  [1, 64]                   4,160\n",
      "│    │    └─Tanh: 3-8                    [1, 64]                   --\n",
      "├─Linear: 1-3                            [1, 1]                    65\n",
      "├─Linear: 1-4                            [1, 4]                    260\n",
      "==========================================================================================\n",
      "Total params: 41,541\n",
      "Trainable params: 41,541\n",
      "Non-trainable params: 0\n",
      "Total mult-adds (M): 0.04\n",
      "==========================================================================================\n",
      "Input size (MB): 0.00\n",
      "Forward/backward pass size (MB): 0.00\n",
      "Params size (MB): 0.17\n",
      "Estimated Total Size (MB): 0.17\n",
      "==========================================================================================\n",
      "Model architecture logged.\n",
      "Uploading files to W&B...\n",
      "Files uploaded to W&B.\n"
     ]
    },
    {
     "data": {
      "text/plain": "VBox(children=(Label(value='0.053 MB of 0.053 MB uploaded\\r'), FloatProgress(value=1.0, max=1.0)))",
      "application/vnd.jupyter.widget-view+json": {
       "version_major": 2,
       "version_minor": 0,
       "model_id": "8335a34e6b694f479c18a1e8021ce950"
      }
     },
     "metadata": {},
     "output_type": "display_data"
    },
    {
     "name": "stderr",
     "output_type": "stream",
     "text": [
      "wandb: ERROR Error while calling W&B API: An internal error occurred. Please contact support. (<Response [500]>)\n",
      "wandb: ERROR Error while calling W&B API: An internal error occurred. Please contact support. (<Response [500]>)\n",
      "wandb: ERROR Error while calling W&B API: An internal error occurred. Please contact support. (<Response [500]>)\n",
      "wandb: ERROR Error while calling W&B API: An internal error occurred. Please contact support. (<Response [500]>)\n",
      "wandb: ERROR Error while calling W&B API: An internal error occurred. Please contact support. (<Response [500]>)\n",
      "wandb: ERROR Error while calling W&B API: An internal error occurred. Please contact support. (<Response [500]>)\n",
      "wandb: ERROR Error while calling W&B API: An internal error occurred. Please contact support. (<Response [500]>)\n"
     ]
    },
    {
     "data": {
      "text/plain": "<IPython.core.display.HTML object>",
      "text/html": "<style>\n    table.wandb td:nth-child(1) { padding: 0 10px; text-align: left ; width: auto;} td:nth-child(2) {text-align: left ; width: 100%}\n    .wandb-row { display: flex; flex-direction: row; flex-wrap: wrap; justify-content: flex-start; width: 100% }\n    .wandb-col { display: flex; flex-direction: column; flex-basis: 100%; flex: 1; padding: 10px; }\n    </style>\n<div class=\"wandb-row\"><div class=\"wandb-col\"><h3>Run history:</h3><br/><table class=\"wandb\"><tr><td>best_model/mean_reward</td><td>▁</td></tr><tr><td>best_model/std_reward</td><td>▁</td></tr><tr><td>eval/mean_ep_length</td><td>██▁</td></tr><tr><td>eval/mean_reward</td><td>██▁</td></tr><tr><td>global_step</td><td>▁▅█</td></tr><tr><td>rollout/ep_len_mean</td><td>█▁▄</td></tr><tr><td>rollout/ep_rew_mean</td><td>█▁▅</td></tr><tr><td>time/fps</td><td>▁▅█</td></tr><tr><td>train/approx_kl</td><td>█▁</td></tr><tr><td>train/clip_fraction</td><td>█▁</td></tr><tr><td>train/clip_range</td><td>█▁</td></tr><tr><td>train/entropy_loss</td><td>▁█</td></tr><tr><td>train/explained_variance</td><td>█▁</td></tr><tr><td>train/learning_rate</td><td>█▁</td></tr><tr><td>train/loss</td><td>▁█</td></tr><tr><td>train/policy_gradient_loss</td><td>▁█</td></tr><tr><td>train/value_loss</td><td>▁█</td></tr></table><br/></div><div class=\"wandb-col\"><h3>Run summary:</h3><br/><table class=\"wandb\"><tr><td>best_model/mean_reward</td><td>2.0</td></tr><tr><td>best_model/std_reward</td><td>0.0</td></tr><tr><td>eval/mean_ep_length</td><td>212.0</td></tr><tr><td>eval/mean_reward</td><td>2.0</td></tr><tr><td>global_step</td><td>3072</td></tr><tr><td>rollout/ep_len_mean</td><td>227.12329</td></tr><tr><td>rollout/ep_rew_mean</td><td>1.60274</td></tr><tr><td>time/fps</td><td>59.0</td></tr><tr><td>train/approx_kl</td><td>4e-05</td></tr><tr><td>train/clip_fraction</td><td>0.0</td></tr><tr><td>train/clip_range</td><td>0.03173</td></tr><tr><td>train/entropy_loss</td><td>-1.38382</td></tr><tr><td>train/explained_variance</td><td>0.00069</td></tr><tr><td>train/learning_rate</td><td>8e-05</td></tr><tr><td>train/loss</td><td>0.11483</td></tr><tr><td>train/policy_gradient_loss</td><td>0.03511</td></tr><tr><td>train/value_loss</td><td>0.22837</td></tr></table><br/></div></div>"
     },
     "metadata": {},
     "output_type": "display_data"
    },
    {
     "data": {
      "text/plain": "<IPython.core.display.HTML object>",
      "text/html": " View run <strong style=\"color:#cdcd00\">breakout_vec_feat_2024-03-30_18-36-29</strong> at: <a href='https://wandb.ai/feature_extraction/parallel_experiments/runs/q1ccw6mv/workspace' target=\"_blank\">https://wandb.ai/feature_extraction/parallel_experiments/runs/q1ccw6mv/workspace</a><br/>Synced 6 W&B file(s), 1 media file(s), 3 artifact file(s) and 6 other file(s)"
     },
     "metadata": {},
     "output_type": "display_data"
    },
    {
     "data": {
      "text/plain": "<IPython.core.display.HTML object>",
      "text/html": "Find logs at: <code>./wandb/run-20240330_183630-q1ccw6mv/logs</code>"
     },
     "metadata": {},
     "output_type": "display_data"
    }
   ],
   "source": [
    "configs = []\n",
    "runs = [\"breakout_vec_feat\"]\n",
    "\n",
    "for run in runs:\n",
    "    timestamp = datetime.datetime.now().strftime('_%Y-%m-%d_%H-%M-%S')\n",
    "    \n",
    "    project_name = \"parallel_experiments\"\n",
    "    run_name = run + timestamp\n",
    "    \n",
    "    new_config = create_config(project_name, run_name)\n",
    "    configs.append(new_config)\n",
    "\n",
    "# Run experiments in parallel\n",
    "run_experiments_in_parallel(configs)"
   ],
   "metadata": {
    "collapsed": false,
    "ExecuteTime": {
     "end_time": "2024-03-30T17:40:16.060999186Z",
     "start_time": "2024-03-30T17:36:29.023809525Z"
    }
   },
   "id": "97d8d2eb7eba7780",
   "execution_count": 5
  }
 ],
 "metadata": {
  "kernelspec": {
   "display_name": "Python 3",
   "language": "python",
   "name": "python3"
  },
  "language_info": {
   "codemirror_mode": {
    "name": "ipython",
    "version": 2
   },
   "file_extension": ".py",
   "mimetype": "text/x-python",
   "name": "python",
   "nbconvert_exporter": "python",
   "pygments_lexer": "ipython2",
   "version": "2.7.6"
  }
 },
 "nbformat": 4,
 "nbformat_minor": 5
}
