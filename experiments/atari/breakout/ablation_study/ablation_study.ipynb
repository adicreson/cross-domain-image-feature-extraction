{
 "cells": [
  {
   "cell_type": "markdown",
   "id": "48ae7a254094dc4b",
   "metadata": {
    "collapsed": false
   },
   "source": [
    "# This file is for creating the benchmark, with stacked frames."
   ]
  },
  {
   "cell_type": "markdown",
   "id": "ee775089098578a5",
   "metadata": {
    "collapsed": false
   },
   "source": [
    "# import relevant packages"
   ]
  },
  {
   "cell_type": "markdown",
   "id": "29738fd8c353a5a1",
   "metadata": {
    "collapsed": false
   },
   "source": [
    "# Settings"
   ]
  },
  {
   "cell_type": "code",
   "id": "e9bbbd1ea019cb71",
   "metadata": {
    "collapsed": false
   },
   "source": [
    "import os\n",
    "import datetime\n",
    "import wandb\n",
    "\n",
    "from stable_baselines3 import PPO\n",
    "from stable_baselines3.common.callbacks import CallbackList, EvalCallback\n",
    "from stable_baselines3.common.env_util import make_atari_env\n",
    "from stable_baselines3.common.vec_env import VecFrameStack, VecTransposeImage, VecVideoRecorder\n",
    "\n",
    "from wandb.integration.sb3 import WandbCallback\n",
    "\n",
    "from utils import linear_schedule\n",
    "from feature_extraction.callbacks.wandb_on_training_end_callback import WandbOnTrainingEndCallback\n",
    "from collections import OrderedDict"
   ],
   "outputs": [],
   "execution_count": null
  },
  {
   "cell_type": "code",
   "id": "83aa1191533c44b5",
   "metadata": {
    "collapsed": false
   },
   "source": [
    "progress_bar = True\n",
    "project_name = \"ablation_study\"\n",
    "#Human readable timestamp\n",
    "timestamp = datetime.datetime.now().strftime('_%Y-%m-%d_%H-%M-%S')\n",
    "\n",
    "run_name = \"experiment2\" + timestamp\n",
    "log_dir = \"logs\"\n"
   ],
   "outputs": [],
   "execution_count": null
  },
  {
   "cell_type": "markdown",
   "id": "bb1c6636e0cfafaa",
   "metadata": {
    "collapsed": false
   },
   "source": [
    "# Setup Wandb"
   ]
  },
  {
   "cell_type": "code",
   "id": "25dc2fd081bc2f08",
   "metadata": {
    "collapsed": false
   },
   "source": [
    "\n",
    "wandb.login()\n",
    "\n",
    "config = OrderedDict([\n",
    "    # Environment settings\n",
    "    ('env_id', \"BreakoutNoFrameskip-v4\"),\n",
    "    ('n_envs', 8),\n",
    "    ('env_wrapper', ['stable_baselines3.common.atari_wrappers.AtariWrapper']),\n",
    "    ('frame_stack', 4),\n",
    "    ('training_seed', 12),\n",
    "    ('evaluation_seed', 14),\n",
    "    \n",
    "    # Algorithm and policy\n",
    "    ('algo', 'PPO'),\n",
    "    ('policy', 'CnnPolicy'),\n",
    "    \n",
    "    # Training hyperparameters\n",
    "    ('batch_size', 256),\n",
    "    ('n_steps', 128),\n",
    "    ('n_epochs', 4),\n",
    "    ('n_timesteps', 10_000_000),\n",
    "    ('learning_rate', 0.00025),\n",
    "    ('learning_rate_schedule', 'linear'),\n",
    "    ('clip_range', 0.1),\n",
    "    ('clip_range_schedule', 'linear'),\n",
    "    ('ent_coef', 0.01),\n",
    "    ('vf_coef', 0.5),\n",
    "    ('normalize_advantage', False),\n",
    "    \n",
    "    # Evaluation and logging\n",
    "    ('n_eval_episodes', 5),\n",
    "    ('n_final_eval_episodes', 25),\n",
    "    ('record_n_episodes', 10),\n",
    "    ('log_frequency', 50_000),\n",
    "    \n",
    "    # Other settings\n",
    "    ('verbose', 1)\n",
    "])\n",
    "root_logdir = os.getcwd()\n",
    "#wandb.tensorboard.patch(root_logdir=root_logdir)\n",
    "\n",
    "wandb.init(\n",
    "    project=project_name,\n",
    "    name=run_name, # Name of the run\n",
    "    config=config,\n",
    "    save_code=True,\n",
    "    sync_tensorboard=True,\n",
    "    #monitor_gym=True,\n",
    ")\n",
    "\n",
    "config = wandb.config"
   ],
   "outputs": [],
   "execution_count": null
  },
  {
   "cell_type": "markdown",
   "id": "b96f4e70a9af239e",
   "metadata": {
    "collapsed": false
   },
   "source": [
    "# Create Evaluation Environment"
   ]
  },
  {
   "cell_type": "code",
   "id": "3f47fb1c3e907b7a",
   "metadata": {
    "collapsed": false
   },
   "source": [
    "from utils import make_custom_atari_wrapper\n",
    "\n",
    "vec_eval_env = make_custom_atari_wrapper(config.env_id, n_envs=config.n_envs, seed=config.evaluation_seed)\n",
    "\n",
    "vec_eval_env = VecFrameStack(vec_eval_env, n_stack=config.frame_stack)\n",
    "vec_eval_env = VecTransposeImage(vec_eval_env)\n"
   ],
   "outputs": [],
   "execution_count": null
  },
  {
   "cell_type": "markdown",
   "id": "f8b15b4e06d109cf",
   "metadata": {
    "collapsed": false
   },
   "source": [
    "# Create Training Environment"
   ]
  },
  {
   "cell_type": "code",
   "id": "6228fe1f1f1916f5",
   "metadata": {
    "collapsed": false
   },
   "source": [
    "vec_train_env = make_custom_atari_wrapper(config.env_id, n_envs=config.n_envs, seed=config.training_seed)\n",
    "vec_train_env = VecFrameStack(vec_train_env, n_stack=config.frame_stack)\n",
    "vec_train_env = VecTransposeImage(vec_train_env)"
   ],
   "outputs": [],
   "execution_count": null
  },
  {
   "cell_type": "markdown",
   "id": "2dac3e3ac859da4d",
   "metadata": {
    "collapsed": false
   },
   "source": [
    "# Create Model"
   ]
  },
  {
   "cell_type": "code",
   "id": "ea3812a421130304",
   "metadata": {
    "collapsed": false
   },
   "source": [
    "# Define the keys for PPO-specific hyperparameters\n",
    "ppo_params_keys = [\n",
    "    'batch_size',\n",
    "    'ent_coef',\n",
    "    'n_epochs',\n",
    "    'n_steps',\n",
    "    'policy',\n",
    "    'vf_coef',\n",
    "    'normalize_advantage',\n",
    "]\n",
    "\n",
    "# Filter the config dictionary to extract only the PPO hyperparameters\n",
    "ppo_hyperparams = {key: config[key] for key in ppo_params_keys if key in config}\n",
    "\n",
    "# Additional hyperparameters not in the initial filter that require custom handling\n",
    "learning_rate_schedule = linear_schedule(2.5e-4)\n",
    "clip_range_schedule = linear_schedule(0.1)\n",
    "\n",
    "# Instantiate the PPO model with the specified hyperparameters and environment\n",
    "model = PPO(\n",
    "    **ppo_hyperparams,\n",
    "    learning_rate=learning_rate_schedule,\n",
    "    clip_range=clip_range_schedule,\n",
    "    env=vec_train_env, \n",
    "    verbose=1,\n",
    "    tensorboard_log=f\"{log_dir}\",\n",
    ")"
   ],
   "outputs": [],
   "execution_count": null
  },
  {
   "cell_type": "markdown",
   "id": "9a1fad55fcb870a",
   "metadata": {
    "collapsed": false
   },
   "source": [
    "# Create Callbacks"
   ]
  },
  {
   "cell_type": "code",
   "id": "143dc84e079de368",
   "metadata": {
    "collapsed": false
   },
   "source": [
    "# Save best model\n",
    "eval_callback = EvalCallback(\n",
    "    eval_env=vec_eval_env,\n",
    "    eval_freq=max(config.log_frequency // config.n_envs, 1),\n",
    "    n_eval_episodes=config.n_eval_episodes,\n",
    "    best_model_save_path=log_dir,\n",
    "    log_path=log_dir,\n",
    "    deterministic=True,\n",
    "    render=False,\n",
    "    verbose=0\n",
    ")\n",
    "\n",
    "\n",
    "# Needs to be changed, so it uses run instead of wandb\n",
    "wandb_callback = WandbCallback(\n",
    "    verbose=1,\n",
    "    gradient_save_freq=config.log_frequency,\n",
    ")\n",
    "\n",
    "wandb_on_training_end_callback = WandbOnTrainingEndCallback(\n",
    "    model=model,\n",
    "    eval_env=vec_eval_env,\n",
    "    log_dir=log_dir,\n",
    "    n_eval_episodes=config.n_final_eval_episodes,\n",
    "    record_n_episodes=config.record_n_episodes,\n",
    ")\n",
    "callbacks = CallbackList([wandb_callback, eval_callback, wandb_on_training_end_callback])"
   ],
   "outputs": [],
   "execution_count": null
  },
  {
   "cell_type": "markdown",
   "id": "d807e029877c6415",
   "metadata": {
    "collapsed": false
   },
   "source": [
    "# Train Model with callbacks"
   ]
  },
  {
   "cell_type": "code",
   "id": "f147fe2ad11bef25",
   "metadata": {
    "collapsed": false,
    "is_executing": true
   },
   "source": [
    "model.learn(\n",
    "    total_timesteps=config.n_timesteps,\n",
    "    callback=callbacks,\n",
    ")       "
   ],
   "outputs": [],
   "execution_count": null
  },
  {
   "cell_type": "markdown",
   "id": "6a0b7708e4c57b2c",
   "metadata": {
    "collapsed": false
   },
   "source": [
    "# Cleanup"
   ]
  },
  {
   "metadata": {},
   "cell_type": "code",
   "source": "wandb.finish()",
   "id": "f7362575a5f0aae8",
   "outputs": [],
   "execution_count": null
  }
 ],
 "metadata": {
  "kernelspec": {
   "display_name": "Python 3 (ipykernel)",
   "language": "python",
   "name": "python3"
  },
  "language_info": {
   "codemirror_mode": {
    "name": "ipython",
    "version": 3
   },
   "file_extension": ".py",
   "mimetype": "text/x-python",
   "name": "python",
   "nbconvert_exporter": "python",
   "pygments_lexer": "ipython3",
   "version": "3.10.12"
  }
 },
 "nbformat": 4,
 "nbformat_minor": 5
}
