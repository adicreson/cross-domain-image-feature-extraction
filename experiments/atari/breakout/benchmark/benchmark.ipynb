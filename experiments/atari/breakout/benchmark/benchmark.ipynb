{
 "cells": [
  {
   "cell_type": "markdown",
   "source": [
    "# This file is for creating the benchmark, with stacked frames."
   ],
   "metadata": {
    "collapsed": false
   },
   "id": "48ae7a254094dc4b"
  },
  {
   "cell_type": "markdown",
   "source": [
    "# import relevant packages"
   ],
   "metadata": {
    "collapsed": false
   },
   "id": "ee775089098578a5"
  },
  {
   "cell_type": "code",
   "outputs": [
    {
     "name": "stderr",
     "output_type": "stream",
     "text": [
      "2024-03-30 22:13:32.853999: E external/local_xla/xla/stream_executor/cuda/cuda_dnn.cc:9261] Unable to register cuDNN factory: Attempting to register factory for plugin cuDNN when one has already been registered\n",
      "2024-03-30 22:13:32.854162: E external/local_xla/xla/stream_executor/cuda/cuda_fft.cc:607] Unable to register cuFFT factory: Attempting to register factory for plugin cuFFT when one has already been registered\n",
      "2024-03-30 22:13:32.894304: E external/local_xla/xla/stream_executor/cuda/cuda_blas.cc:1515] Unable to register cuBLAS factory: Attempting to register factory for plugin cuBLAS when one has already been registered\n",
      "2024-03-30 22:13:33.033158: I tensorflow/core/platform/cpu_feature_guard.cc:182] This TensorFlow binary is optimized to use available CPU instructions in performance-critical operations.\n",
      "To enable the following instructions: AVX2 FMA, in other operations, rebuild TensorFlow with the appropriate compiler flags.\n",
      "2024-03-30 22:13:34.772505: W tensorflow/compiler/tf2tensorrt/utils/py_utils.cc:38] TF-TRT Warning: Could not find TensorRT\n"
     ]
    }
   ],
   "source": [
    "import os\n",
    "import datetime\n",
    "import wandb\n",
    "\n",
    "from stable_baselines3 import PPO\n",
    "from stable_baselines3.common.callbacks import CallbackList, EvalCallback\n",
    "from stable_baselines3.common.env_util import make_atari_env\n",
    "from stable_baselines3.common.vec_env import VecFrameStack, VecTransposeImage, VecVideoRecorder\n",
    "\n",
    "from wandb.integration.sb3 import WandbCallback\n",
    "\n",
    "from feature_extraction.callbacks.wandb_on_training_end_callback import WandbOnTrainingEndCallback\n",
    "from utils import linear_schedule\n",
    "from collections import OrderedDict"
   ],
   "metadata": {
    "collapsed": false,
    "ExecuteTime": {
     "end_time": "2024-03-30T21:13:36.782797556Z",
     "start_time": "2024-03-30T21:13:30.117658952Z"
    }
   },
   "id": "e9bbbd1ea019cb71",
   "execution_count": 1
  },
  {
   "cell_type": "markdown",
   "source": [
    "# Settings"
   ],
   "metadata": {
    "collapsed": false
   },
   "id": "29738fd8c353a5a1"
  },
  {
   "cell_type": "code",
   "outputs": [],
   "source": [
    "progress_bar = True\n",
    "train_model = True\n",
    "eval_model = False\n",
    "project_name = \"atari\"\n",
    "#Human readable timestamp\n",
    "timestamp = datetime.datetime.now().strftime('_%Y-%m-%d_%H-%M-%S')\n",
    "\n",
    "run_name = \"breakout_benchmark\" + timestamp\n",
    "log_dir = \"logs\"\n"
   ],
   "metadata": {
    "collapsed": false,
    "ExecuteTime": {
     "end_time": "2024-03-30T21:13:36.796575459Z",
     "start_time": "2024-03-30T21:13:36.784196852Z"
    }
   },
   "id": "83aa1191533c44b5",
   "execution_count": 2
  },
  {
   "cell_type": "markdown",
   "source": [
    "# Setup Wandb"
   ],
   "metadata": {
    "collapsed": false
   },
   "id": "bb1c6636e0cfafaa"
  },
  {
   "cell_type": "code",
   "outputs": [
    {
     "name": "stderr",
     "output_type": "stream",
     "text": [
      "\u001B[34m\u001B[1mwandb\u001B[0m: Currently logged in as: \u001B[33madicreson\u001B[0m (\u001B[33mfeature_extraction\u001B[0m). Use \u001B[1m`wandb login --relogin`\u001B[0m to force relogin\n"
     ]
    },
    {
     "data": {
      "text/plain": "<IPython.core.display.HTML object>",
      "text/html": "Tracking run with wandb version 0.16.5"
     },
     "metadata": {},
     "output_type": "display_data"
    },
    {
     "data": {
      "text/plain": "<IPython.core.display.HTML object>",
      "text/html": "Run data is saved locally in <code>/home/maliti/Prog/Global-Feature-Extraction/experiments/atari/breakout/benchmark/wandb/run-20240330_221338-zikl4suw</code>"
     },
     "metadata": {},
     "output_type": "display_data"
    },
    {
     "data": {
      "text/plain": "<IPython.core.display.HTML object>",
      "text/html": "Syncing run <strong><a href='https://wandb.ai/feature_extraction/atari/runs/zikl4suw/workspace' target=\"_blank\">breakout_benchmark_2024-03-30_22-13-36</a></strong> to <a href='https://wandb.ai/feature_extraction/atari' target=\"_blank\">Weights & Biases</a> (<a href='https://wandb.me/run' target=\"_blank\">docs</a>)<br/>"
     },
     "metadata": {},
     "output_type": "display_data"
    },
    {
     "data": {
      "text/plain": "<IPython.core.display.HTML object>",
      "text/html": " View project at <a href='https://wandb.ai/feature_extraction/atari' target=\"_blank\">https://wandb.ai/feature_extraction/atari</a>"
     },
     "metadata": {},
     "output_type": "display_data"
    },
    {
     "data": {
      "text/plain": "<IPython.core.display.HTML object>",
      "text/html": " View run at <a href='https://wandb.ai/feature_extraction/atari/runs/zikl4suw/workspace' target=\"_blank\">https://wandb.ai/feature_extraction/atari/runs/zikl4suw/workspace</a>"
     },
     "metadata": {},
     "output_type": "display_data"
    }
   ],
   "source": [
    "\n",
    "wandb.login()\n",
    "\n",
    "config = OrderedDict([\n",
    "    # Environment settings\n",
    "    ('env_id', \"ALE/Breakout-v5\"),\n",
    "    ('n_envs', 8),\n",
    "    ('env_wrapper', ['stable_baselines3.common.atari_wrappers.AtariWrapper']),\n",
    "    ('frame_stack', 4),\n",
    "    ('training_seed', 12),\n",
    "    ('evaluation_seed', 14),\n",
    "    \n",
    "    # Algorithm and policy\n",
    "    ('algo', 'PPO'),\n",
    "    ('policy', 'CnnPolicy'),\n",
    "    \n",
    "    # Training hyperparameters\n",
    "    ('batch_size', 256),\n",
    "    ('n_steps', 128),\n",
    "    ('n_epochs', 4),\n",
    "    ('n_timesteps', 3_000),\n",
    "    ('learning_rate', 0.00025),\n",
    "    ('learning_rate_schedule', 'linear'),\n",
    "    ('clip_range', 0.1),\n",
    "    ('clip_range_schedule', 'linear'),\n",
    "    ('ent_coef', 0.01),\n",
    "    ('vf_coef', 0.5),\n",
    "    ('normalize_advantage', False),\n",
    "    \n",
    "    # Evaluation and logging\n",
    "    ('n_eval_episodes', 2),\n",
    "    ('record_n_episodes', 10),\n",
    "    ('log_frequency', 1024),\n",
    "    \n",
    "    # Other settings\n",
    "    ('verbose', 1)\n",
    "])\n",
    "root_logdir = os.getcwd()\n",
    "#wandb.tensorboard.patch(root_logdir=root_logdir)\n",
    "\n",
    "wandb.init(\n",
    "    project=project_name,\n",
    "    name=run_name, # Name of the run\n",
    "    config=config,\n",
    "    save_code=True,\n",
    "    sync_tensorboard=True,\n",
    "    #monitor_gym=True,\n",
    ")\n",
    "\n",
    "config = wandb.config"
   ],
   "metadata": {
    "collapsed": false,
    "ExecuteTime": {
     "end_time": "2024-03-30T21:13:39.371194634Z",
     "start_time": "2024-03-30T21:13:36.982185912Z"
    }
   },
   "id": "25dc2fd081bc2f08",
   "execution_count": 3
  },
  {
   "cell_type": "markdown",
   "source": [
    "# Create Evaluation Environment"
   ],
   "metadata": {
    "collapsed": false
   },
   "id": "b96f4e70a9af239e"
  },
  {
   "cell_type": "code",
   "outputs": [
    {
     "name": "stderr",
     "output_type": "stream",
     "text": [
      "A.L.E: Arcade Learning Environment (version 0.8.1+53f58b7)\n",
      "[Powered by Stella]\n"
     ]
    }
   ],
   "source": [
    "vec_eval_env = make_atari_env(config.env_id, n_envs=config.n_envs, seed=config.evaluation_seed)\n",
    "vec_eval_env = VecFrameStack(vec_eval_env, n_stack=config.frame_stack)\n",
    "vec_eval_env = VecTransposeImage(vec_eval_env)\n"
   ],
   "metadata": {
    "collapsed": false,
    "ExecuteTime": {
     "end_time": "2024-03-30T21:13:40.383031117Z",
     "start_time": "2024-03-30T21:13:39.291430628Z"
    }
   },
   "id": "3f47fb1c3e907b7a",
   "execution_count": 4
  },
  {
   "cell_type": "markdown",
   "source": [
    "# Create Training Environment"
   ],
   "metadata": {
    "collapsed": false
   },
   "id": "f8b15b4e06d109cf"
  },
  {
   "cell_type": "code",
   "outputs": [],
   "source": [
    "vec_train_env = make_atari_env(config.env_id, n_envs=config.n_envs, seed=config.training_seed)\n",
    "vec_train_env = VecFrameStack(vec_train_env, n_stack=config.frame_stack)\n",
    "vec_train_env = VecTransposeImage(vec_train_env)"
   ],
   "metadata": {
    "collapsed": false,
    "ExecuteTime": {
     "end_time": "2024-03-30T21:13:41.448706899Z",
     "start_time": "2024-03-30T21:13:40.384737290Z"
    }
   },
   "id": "6228fe1f1f1916f5",
   "execution_count": 5
  },
  {
   "cell_type": "markdown",
   "source": [
    "# Create Model"
   ],
   "metadata": {
    "collapsed": false
   },
   "id": "2dac3e3ac859da4d"
  },
  {
   "cell_type": "code",
   "outputs": [
    {
     "name": "stdout",
     "output_type": "stream",
     "text": [
      "Using cpu device\n"
     ]
    },
    {
     "name": "stderr",
     "output_type": "stream",
     "text": [
      "/home/maliti/Prog/Global-Feature-Extraction/venv/lib/python3.10/site-packages/transformers/utils/generic.py:441: UserWarning: torch.utils._pytree._register_pytree_node is deprecated. Please use torch.utils._pytree.register_pytree_node instead.\n",
      "  _torch_pytree._register_pytree_node(\n"
     ]
    }
   ],
   "source": [
    "# Define the keys for PPO-specific hyperparameters\n",
    "ppo_params_keys = [\n",
    "    'batch_size',\n",
    "    'ent_coef',\n",
    "    'n_epochs',\n",
    "    'n_steps',\n",
    "    'policy',\n",
    "    'vf_coef',\n",
    "    'normalize_advantage',\n",
    "]\n",
    "\n",
    "# Filter the config dictionary to extract only the PPO hyperparameters\n",
    "ppo_hyperparams = {key: config[key] for key in ppo_params_keys if key in config}\n",
    "\n",
    "# Additional hyperparameters not in the initial filter that require custom handling\n",
    "learning_rate_schedule = linear_schedule(2.5e-4)\n",
    "clip_range_schedule = linear_schedule(0.1)\n",
    "\n",
    "# Instantiate the PPO model with the specified hyperparameters and environment\n",
    "model = PPO(\n",
    "    **ppo_hyperparams,\n",
    "    learning_rate=learning_rate_schedule,\n",
    "    clip_range=clip_range_schedule,\n",
    "    env=vec_train_env, \n",
    "    verbose=1,\n",
    "    tensorboard_log=f\"{log_dir}\",\n",
    ")\n"
   ],
   "metadata": {
    "collapsed": false,
    "ExecuteTime": {
     "end_time": "2024-03-30T21:13:42.164775147Z",
     "start_time": "2024-03-30T21:13:41.462272424Z"
    }
   },
   "id": "ea3812a421130304",
   "execution_count": 6
  },
  {
   "cell_type": "markdown",
   "source": [
    "# Create Callbacks"
   ],
   "metadata": {
    "collapsed": false
   },
   "id": "9a1fad55fcb870a"
  },
  {
   "cell_type": "code",
   "outputs": [],
   "source": [
    "# Save best model\n",
    "eval_callback = EvalCallback(\n",
    "    eval_env=vec_eval_env,\n",
    "    eval_freq=max(config.log_frequency // config.n_envs, 1),\n",
    "    n_eval_episodes=config.n_eval_episodes,\n",
    "    best_model_save_path=log_dir,\n",
    "    log_path=log_dir,\n",
    "    deterministic=True,\n",
    "    render=False,\n",
    "    verbose=0\n",
    ")\n",
    " \n",
    "\n",
    "# Needs to be changed, so it uses run instead of wandb\n",
    "wandb_callback = WandbCallback(\n",
    "    verbose=1,\n",
    "    gradient_save_freq=256,\n",
    ")\n",
    "\n",
    "wandb_on_training_end_callback = WandbOnTrainingEndCallback(\n",
    "    model=model,\n",
    "    eval_env=vec_eval_env,\n",
    "    log_dir=log_dir,\n",
    "    n_eval_episodes=config.n_eval_episodes,\n",
    "    record_n_episodes=config.record_n_episodes,\n",
    ")\n",
    "callbacks = CallbackList([wandb_callback, eval_callback, wandb_on_training_end_callback])"
   ],
   "metadata": {
    "collapsed": false,
    "ExecuteTime": {
     "end_time": "2024-03-30T21:13:42.176773528Z",
     "start_time": "2024-03-30T21:13:42.168846035Z"
    }
   },
   "id": "143dc84e079de368",
   "execution_count": 7
  },
  {
   "cell_type": "markdown",
   "source": [
    "# Train Model with callbacks"
   ],
   "metadata": {
    "collapsed": false
   },
   "id": "d807e029877c6415"
  },
  {
   "cell_type": "code",
   "outputs": [
    {
     "name": "stdout",
     "output_type": "stream",
     "text": [
      "Logging to logs/PPO_1\n"
     ]
    },
    {
     "name": "stderr",
     "output_type": "stream",
     "text": [
      "2024-03-30 22:13:43.787699: E external/local_xla/xla/stream_executor/cuda/cuda_dnn.cc:9261] Unable to register cuDNN factory: Attempting to register factory for plugin cuDNN when one has already been registered\n",
      "2024-03-30 22:13:43.787746: E external/local_xla/xla/stream_executor/cuda/cuda_fft.cc:607] Unable to register cuFFT factory: Attempting to register factory for plugin cuFFT when one has already been registered\n",
      "2024-03-30 22:13:43.788828: E external/local_xla/xla/stream_executor/cuda/cuda_blas.cc:1515] Unable to register cuBLAS factory: Attempting to register factory for plugin cuBLAS when one has already been registered\n",
      "2024-03-30 22:13:43.796794: I tensorflow/core/platform/cpu_feature_guard.cc:182] This TensorFlow binary is optimized to use available CPU instructions in performance-critical operations.\n",
      "To enable the following instructions: AVX2 FMA, in other operations, rebuild TensorFlow with the appropriate compiler flags.\n",
      "2024-03-30 22:13:44.658329: W tensorflow/compiler/tf2tensorrt/utils/py_utils.cc:38] TF-TRT Warning: Could not find TensorRT\n"
     ]
    },
    {
     "name": "stdout",
     "output_type": "stream",
     "text": [
      "---------------------------------\n",
      "| eval/              |          |\n",
      "|    mean_ep_length  | 168      |\n",
      "|    mean_reward     | 0        |\n",
      "| time/              |          |\n",
      "|    total_timesteps | 1024     |\n",
      "---------------------------------\n",
      "---------------------------------\n",
      "| rollout/           |          |\n",
      "|    ep_len_mean     | 238      |\n",
      "|    ep_rew_mean     | 1.86     |\n",
      "| time/              |          |\n",
      "|    fps             | 152      |\n",
      "|    iterations      | 1        |\n",
      "|    time_elapsed    | 6        |\n",
      "|    total_timesteps | 1024     |\n",
      "---------------------------------\n",
      "-------------------------------------------\n",
      "| eval/                   |               |\n",
      "|    mean_ep_length       | 280           |\n",
      "|    mean_reward          | 3             |\n",
      "| time/                   |               |\n",
      "|    total_timesteps      | 2048          |\n",
      "| train/                  |               |\n",
      "|    approx_kl            | 0.00082574395 |\n",
      "|    clip_fraction        | 0.0383        |\n",
      "|    clip_range           | 0.0659        |\n",
      "|    entropy_loss         | -1.39         |\n",
      "|    explained_variance   | 0.0286        |\n",
      "|    learning_rate        | 0.000165      |\n",
      "|    loss                 | -0.17         |\n",
      "|    n_updates            | 4             |\n",
      "|    policy_gradient_loss | -0.284        |\n",
      "|    value_loss           | 0.292         |\n",
      "-------------------------------------------\n",
      "---------------------------------\n",
      "| rollout/           |          |\n",
      "|    ep_len_mean     | 228      |\n",
      "|    ep_rew_mean     | 1.66     |\n",
      "| time/              |          |\n",
      "|    fps             | 146      |\n",
      "|    iterations      | 2        |\n",
      "|    time_elapsed    | 13       |\n",
      "|    total_timesteps | 2048     |\n",
      "---------------------------------\n",
      "-------------------------------------------\n",
      "| eval/                   |               |\n",
      "|    mean_ep_length       | 355           |\n",
      "|    mean_reward          | 4.5           |\n",
      "| time/                   |               |\n",
      "|    total_timesteps      | 3072          |\n",
      "| train/                  |               |\n",
      "|    approx_kl            | 2.9260584e-05 |\n",
      "|    clip_fraction        | 0             |\n",
      "|    clip_range           | 0.0317        |\n",
      "|    entropy_loss         | -1.39         |\n",
      "|    explained_variance   | -0.00259      |\n",
      "|    learning_rate        | 7.93e-05      |\n",
      "|    loss                 | 0.151         |\n",
      "|    n_updates            | 8             |\n",
      "|    policy_gradient_loss | 0.0492        |\n",
      "|    value_loss           | 0.253         |\n",
      "-------------------------------------------\n",
      "---------------------------------\n",
      "| rollout/           |          |\n",
      "|    ep_len_mean     | 226      |\n",
      "|    ep_rew_mean     | 1.62     |\n",
      "| time/              |          |\n",
      "|    fps             | 138      |\n",
      "|    iterations      | 3        |\n",
      "|    time_elapsed    | 22       |\n",
      "|    total_timesteps | 3072     |\n",
      "---------------------------------\n"
     ]
    },
    {
     "name": "stderr",
     "output_type": "stream",
     "text": [
      "/home/maliti/Prog/Global-Feature-Extraction/venv/lib/python3.10/site-packages/stable_baselines3/common/distributions.py:87: TracerWarning: Converting a tensor to a Python boolean might cause the trace to be incorrect. We can't record the data flow of Python values, so this value will be treated as a constant in the future. This means that the trace might not generalize to other inputs!\n",
      "  if deterministic:\n"
     ]
    },
    {
     "name": "stdout",
     "output_type": "stream",
     "text": [
      "Evaluating model...\n",
      "Mean reward: 6.00 +/- 2.00\n",
      "Model evaluation done.\n",
      "Logging model architecture...\n",
      "Model Summary: ==========================================================================================\n",
      "Layer (type:depth-idx)                   Output Shape              Param #\n",
      "==========================================================================================\n",
      "ActorCriticCnnPolicy                     [1]                       --\n",
      "├─NatureCNN: 1-1                         [1, 512]                  --\n",
      "│    └─Sequential: 2-1                   [1, 3136]                 --\n",
      "│    │    └─Conv2d: 3-1                  [1, 32, 20, 20]           8,224\n",
      "│    │    └─ReLU: 3-2                    [1, 32, 20, 20]           --\n",
      "│    │    └─Conv2d: 3-3                  [1, 64, 9, 9]             32,832\n",
      "│    │    └─ReLU: 3-4                    [1, 64, 9, 9]             --\n",
      "│    │    └─Conv2d: 3-5                  [1, 64, 7, 7]             36,928\n",
      "│    │    └─ReLU: 3-6                    [1, 64, 7, 7]             --\n",
      "│    │    └─Flatten: 3-7                 [1, 3136]                 --\n",
      "│    └─Sequential: 2-2                   [1, 512]                  --\n",
      "│    │    └─Linear: 3-8                  [1, 512]                  1,606,144\n",
      "│    │    └─ReLU: 3-9                    [1, 512]                  --\n",
      "├─MlpExtractor: 1-2                      [1, 512]                  --\n",
      "│    └─Sequential: 2-3                   [1, 512]                  --\n",
      "│    └─Sequential: 2-4                   [1, 512]                  --\n",
      "├─Linear: 1-3                            [1, 1]                    513\n",
      "├─Linear: 1-4                            [1, 4]                    2,052\n",
      "==========================================================================================\n",
      "Total params: 1,686,693\n",
      "Trainable params: 1,686,693\n",
      "Non-trainable params: 0\n",
      "Total mult-adds (M): 9.37\n",
      "==========================================================================================\n",
      "Input size (MB): 0.11\n",
      "Forward/backward pass size (MB): 0.17\n",
      "Params size (MB): 6.75\n",
      "Estimated Total Size (MB): 7.03\n",
      "==========================================================================================\n",
      "Model architecture logged.\n",
      "Uploading files to W&B...\n",
      "Files uploaded to W&B.\n"
     ]
    },
    {
     "data": {
      "text/plain": "<stable_baselines3.ppo.ppo.PPO at 0x753dcc684610>"
     },
     "execution_count": 8,
     "metadata": {},
     "output_type": "execute_result"
    }
   ],
   "source": [
    "model.learn(\n",
    "    total_timesteps=config.n_timesteps,\n",
    "    callback=callbacks,\n",
    ")       "
   ],
   "metadata": {
    "collapsed": false,
    "ExecuteTime": {
     "end_time": "2024-03-30T21:14:07.910859241Z",
     "start_time": "2024-03-30T21:13:42.177654477Z"
    }
   },
   "id": "f147fe2ad11bef25",
   "execution_count": 8
  },
  {
   "cell_type": "markdown",
   "source": [
    "# Cleanup"
   ],
   "metadata": {
    "collapsed": false
   },
   "id": "6a0b7708e4c57b2c"
  },
  {
   "cell_type": "code",
   "outputs": [
    {
     "data": {
      "text/plain": "VBox(children=(Label(value='0.008 MB of 0.008 MB uploaded\\r'), FloatProgress(value=1.0, max=1.0)))",
      "application/vnd.jupyter.widget-view+json": {
       "version_major": 2,
       "version_minor": 0,
       "model_id": "e381844402ff457f951b2c147a2b62bc"
      }
     },
     "metadata": {},
     "output_type": "display_data"
    },
    {
     "data": {
      "text/plain": "<IPython.core.display.HTML object>",
      "text/html": "<style>\n    table.wandb td:nth-child(1) { padding: 0 10px; text-align: left ; width: auto;} td:nth-child(2) {text-align: left ; width: 100%}\n    .wandb-row { display: flex; flex-direction: row; flex-wrap: wrap; justify-content: flex-start; width: 100% }\n    .wandb-col { display: flex; flex-direction: column; flex-basis: 100%; flex: 1; padding: 10px; }\n    </style>\n<div class=\"wandb-row\"><div class=\"wandb-col\"><h3>Run history:</h3><br/><table class=\"wandb\"><tr><td>best_model/mean_reward</td><td>▁</td></tr><tr><td>best_model/std_reward</td><td>▁</td></tr><tr><td>eval/mean_ep_length</td><td>▁▅█</td></tr><tr><td>eval/mean_reward</td><td>▁▆█</td></tr><tr><td>global_step</td><td>▁▅█</td></tr><tr><td>rollout/ep_len_mean</td><td>█▂▁</td></tr><tr><td>rollout/ep_rew_mean</td><td>█▂▁</td></tr><tr><td>time/fps</td><td>█▅▁</td></tr><tr><td>train/approx_kl</td><td>█▁</td></tr><tr><td>train/clip_fraction</td><td>█▁</td></tr><tr><td>train/clip_range</td><td>█▁</td></tr><tr><td>train/entropy_loss</td><td>▁█</td></tr><tr><td>train/explained_variance</td><td>█▁</td></tr><tr><td>train/learning_rate</td><td>█▁</td></tr><tr><td>train/loss</td><td>▁█</td></tr><tr><td>train/policy_gradient_loss</td><td>▁█</td></tr><tr><td>train/value_loss</td><td>█▁</td></tr></table><br/></div><div class=\"wandb-col\"><h3>Run summary:</h3><br/><table class=\"wandb\"><tr><td>best_model/mean_reward</td><td>6.0</td></tr><tr><td>best_model/std_reward</td><td>2.0</td></tr><tr><td>eval/mean_ep_length</td><td>355.0</td></tr><tr><td>eval/mean_reward</td><td>4.5</td></tr><tr><td>global_step</td><td>3072</td></tr><tr><td>rollout/ep_len_mean</td><td>226.20547</td></tr><tr><td>rollout/ep_rew_mean</td><td>1.61644</td></tr><tr><td>time/fps</td><td>138.0</td></tr><tr><td>train/approx_kl</td><td>3e-05</td></tr><tr><td>train/clip_fraction</td><td>0.0</td></tr><tr><td>train/clip_range</td><td>0.03173</td></tr><tr><td>train/entropy_loss</td><td>-1.38542</td></tr><tr><td>train/explained_variance</td><td>-0.00259</td></tr><tr><td>train/learning_rate</td><td>8e-05</td></tr><tr><td>train/loss</td><td>0.15102</td></tr><tr><td>train/policy_gradient_loss</td><td>0.04923</td></tr><tr><td>train/value_loss</td><td>0.25327</td></tr></table><br/></div></div>"
     },
     "metadata": {},
     "output_type": "display_data"
    },
    {
     "data": {
      "text/plain": "<IPython.core.display.HTML object>",
      "text/html": " View run <strong style=\"color:#cdcd00\">breakout_benchmark_2024-03-30_22-13-36</strong> at: <a href='https://wandb.ai/feature_extraction/atari/runs/zikl4suw/workspace' target=\"_blank\">https://wandb.ai/feature_extraction/atari/runs/zikl4suw/workspace</a><br/>Synced 6 W&B file(s), 1 media file(s), 3 artifact file(s) and 6 other file(s)"
     },
     "metadata": {},
     "output_type": "display_data"
    },
    {
     "data": {
      "text/plain": "<IPython.core.display.HTML object>",
      "text/html": "Find logs at: <code>./wandb/run-20240330_221338-zikl4suw/logs</code>"
     },
     "metadata": {},
     "output_type": "display_data"
    }
   ],
   "source": [
    "wandb.finish()"
   ],
   "metadata": {
    "collapsed": false,
    "ExecuteTime": {
     "end_time": "2024-03-30T21:14:24.775999885Z",
     "start_time": "2024-03-30T21:14:07.911741336Z"
    }
   },
   "id": "9a4ee3b9c8621646",
   "execution_count": 9
  }
 ],
 "metadata": {
  "kernelspec": {
   "display_name": "Python 3",
   "language": "python",
   "name": "python3"
  },
  "language_info": {
   "codemirror_mode": {
    "name": "ipython",
    "version": 2
   },
   "file_extension": ".py",
   "mimetype": "text/x-python",
   "name": "python",
   "nbconvert_exporter": "python",
   "pygments_lexer": "ipython2",
   "version": "2.7.6"
  }
 },
 "nbformat": 4,
 "nbformat_minor": 5
}
