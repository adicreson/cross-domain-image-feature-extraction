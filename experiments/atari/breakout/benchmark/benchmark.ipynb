{
 "cells": [
  {
   "cell_type": "markdown",
   "source": [
    "# This file is for creating the benchmark, with stacked frames."
   ],
   "metadata": {
    "collapsed": false
   },
   "id": "48ae7a254094dc4b"
  },
  {
   "cell_type": "markdown",
   "source": [
    "# import relevant packages"
   ],
   "metadata": {
    "collapsed": false
   },
   "id": "ee775089098578a5"
  },
  {
   "cell_type": "code",
   "outputs": [
    {
     "name": "stderr",
     "output_type": "stream",
     "text": [
      "2024-03-20 01:58:35.092313: E external/local_xla/xla/stream_executor/cuda/cuda_dnn.cc:9261] Unable to register cuDNN factory: Attempting to register factory for plugin cuDNN when one has already been registered\n",
      "2024-03-20 01:58:35.092365: E external/local_xla/xla/stream_executor/cuda/cuda_fft.cc:607] Unable to register cuFFT factory: Attempting to register factory for plugin cuFFT when one has already been registered\n",
      "2024-03-20 01:58:35.094451: E external/local_xla/xla/stream_executor/cuda/cuda_blas.cc:1515] Unable to register cuBLAS factory: Attempting to register factory for plugin cuBLAS when one has already been registered\n",
      "2024-03-20 01:58:35.105091: I tensorflow/core/platform/cpu_feature_guard.cc:182] This TensorFlow binary is optimized to use available CPU instructions in performance-critical operations.\n",
      "To enable the following instructions: AVX2 FMA, in other operations, rebuild TensorFlow with the appropriate compiler flags.\n",
      "2024-03-20 01:58:36.458026: W tensorflow/compiler/tf2tensorrt/utils/py_utils.cc:38] TF-TRT Warning: Could not find TensorRT\n"
     ]
    }
   ],
   "source": [
    "import wandb\n",
    "\n",
    "from stable_baselines3 import PPO\n",
    "from stable_baselines3.common.callbacks import EvalCallback\n",
    "from stable_baselines3.common.env_util import make_atari_env\n",
    "from stable_baselines3.common.vec_env import VecFrameStack, VecTransposeImage\n",
    "\n",
    "from wandb.integration.sb3 import WandbCallback\n",
    "\n",
    "from feature_extraction.callbacks.wandb_eval_callback import WandbEvalCallback\n",
    "from feature_extraction.callbacks.wandb_on_training_end_callback import WandbOnTrainingEndCallback\n",
    "from utils import evaluate_policy, linear_schedule\n",
    "from collections import OrderedDict\n"
   ],
   "metadata": {
    "collapsed": false,
    "ExecuteTime": {
     "end_time": "2024-03-20T00:58:38.481375895Z",
     "start_time": "2024-03-20T00:58:31.215044198Z"
    }
   },
   "id": "e9bbbd1ea019cb71",
   "execution_count": 1
  },
  {
   "cell_type": "markdown",
   "source": [
    "# Settings"
   ],
   "metadata": {
    "collapsed": false
   },
   "id": "29738fd8c353a5a1"
  },
  {
   "cell_type": "code",
   "outputs": [],
   "source": [
    "progress_bar = True\n",
    "train_model = True\n",
    "eval_model = False\n",
    "save_name = \"breakout_benchmark\"\n",
    "log_dir = \"logs\"\n"
   ],
   "metadata": {
    "collapsed": false,
    "ExecuteTime": {
     "end_time": "2024-03-20T00:58:38.489796964Z",
     "start_time": "2024-03-20T00:58:38.486910953Z"
    }
   },
   "id": "83aa1191533c44b5",
   "execution_count": 2
  },
  {
   "cell_type": "markdown",
   "source": [
    "# Setup Wandb"
   ],
   "metadata": {
    "collapsed": false
   },
   "id": "bb1c6636e0cfafaa"
  },
  {
   "cell_type": "code",
   "outputs": [
    {
     "name": "stderr",
     "output_type": "stream",
     "text": [
      "\u001B[34m\u001B[1mwandb\u001B[0m: Currently logged in as: \u001B[33madicreson\u001B[0m (\u001B[33mfeature_extraction\u001B[0m). Use \u001B[1m`wandb login --relogin`\u001B[0m to force relogin\n"
     ]
    },
    {
     "data": {
      "text/plain": "<IPython.core.display.HTML object>",
      "text/html": "Tracking run with wandb version 0.16.4"
     },
     "metadata": {},
     "output_type": "display_data"
    },
    {
     "data": {
      "text/plain": "<IPython.core.display.HTML object>",
      "text/html": "Run data is saved locally in <code>/home/maliti/Prog/Global-Feature-Extraction/experiments/atari/breakout/benchmark/wandb/run-20240320_015840-zr2bsjyi</code>"
     },
     "metadata": {},
     "output_type": "display_data"
    },
    {
     "data": {
      "text/plain": "<IPython.core.display.HTML object>",
      "text/html": "Syncing run <strong><a href='https://wandb.ai/feature_extraction/breakout_benchmark/runs/zr2bsjyi' target=\"_blank\">ethereal-darkness-6</a></strong> to <a href='https://wandb.ai/feature_extraction/breakout_benchmark' target=\"_blank\">Weights & Biases</a> (<a href='https://wandb.me/run' target=\"_blank\">docs</a>)<br/>"
     },
     "metadata": {},
     "output_type": "display_data"
    },
    {
     "data": {
      "text/plain": "<IPython.core.display.HTML object>",
      "text/html": " View project at <a href='https://wandb.ai/feature_extraction/breakout_benchmark' target=\"_blank\">https://wandb.ai/feature_extraction/breakout_benchmark</a>"
     },
     "metadata": {},
     "output_type": "display_data"
    },
    {
     "data": {
      "text/plain": "<IPython.core.display.HTML object>",
      "text/html": " View run at <a href='https://wandb.ai/feature_extraction/breakout_benchmark/runs/zr2bsjyi' target=\"_blank\">https://wandb.ai/feature_extraction/breakout_benchmark/runs/zr2bsjyi</a>"
     },
     "metadata": {},
     "output_type": "display_data"
    }
   ],
   "source": [
    "wandb.login()\n",
    "\n",
    "config = OrderedDict([\n",
    "    # Environment settings\n",
    "    ('env_id', \"ALE/Breakout-v5\"),\n",
    "    ('n_envs', 8),\n",
    "    ('env_wrapper', ['stable_baselines3.common.atari_wrappers.AtariWrapper']),\n",
    "    ('frame_stack', 4),\n",
    "    ('training_seed', 12),\n",
    "    ('evaluation_seed', 14),\n",
    "    \n",
    "    # Algorithm and policy\n",
    "    ('algo', 'PPO'),\n",
    "    ('policy', 'CnnPolicy'),\n",
    "    \n",
    "    # Training hyperparameters\n",
    "    ('batch_size', 256),\n",
    "    ('n_steps', 128),\n",
    "    ('n_epochs', 4),\n",
    "    ('n_timesteps', 2_000),\n",
    "    ('learning_rate', 0.00025),\n",
    "    ('learning_rate_schedule', 'linear'),\n",
    "    ('clip_range', 0.1),\n",
    "    ('clip_range_schedule', 'linear'),\n",
    "    ('ent_coef', 0.01),\n",
    "    ('vf_coef', 0.5),\n",
    "    ('normalize_advantage', False),\n",
    "    \n",
    "    # Evaluation and logging\n",
    "    ('n_eval_episodes', 5),\n",
    "    ('record_n_episodes', 2000),\n",
    "    ('log_frequency', 500),\n",
    "    \n",
    "    # Other settings\n",
    "    ('verbose', 1)\n",
    "])\n",
    "\n",
    "\n",
    "run = wandb.init(\n",
    "    project=save_name,\n",
    "    config=config\n",
    ")\n",
    "\n",
    "\n",
    "config = wandb.config"
   ],
   "metadata": {
    "collapsed": false,
    "ExecuteTime": {
     "end_time": "2024-03-20T00:58:41.558750893Z",
     "start_time": "2024-03-20T00:58:38.496535206Z"
    }
   },
   "id": "25dc2fd081bc2f08",
   "execution_count": 3
  },
  {
   "cell_type": "markdown",
   "source": [
    "# Create Evaluation Environment"
   ],
   "metadata": {
    "collapsed": false
   },
   "id": "b96f4e70a9af239e"
  },
  {
   "cell_type": "code",
   "outputs": [
    {
     "name": "stderr",
     "output_type": "stream",
     "text": [
      "A.L.E: Arcade Learning Environment (version 0.8.1+53f58b7)\n",
      "[Powered by Stella]\n"
     ]
    }
   ],
   "source": [
    "vec_eval_env = make_atari_env(config.env_id, n_envs=config.n_envs, seed=config.evaluation_seed)\n",
    "vec_eval_env = VecFrameStack(vec_eval_env, n_stack=config.frame_stack)\n",
    "vec_eval_env = VecTransposeImage(vec_eval_env)\n"
   ],
   "metadata": {
    "collapsed": false,
    "ExecuteTime": {
     "end_time": "2024-03-20T00:58:43.055598891Z",
     "start_time": "2024-03-20T00:58:41.564904534Z"
    }
   },
   "id": "3f47fb1c3e907b7a",
   "execution_count": 4
  },
  {
   "cell_type": "markdown",
   "source": [
    "# Create Training Environment"
   ],
   "metadata": {
    "collapsed": false
   },
   "id": "f8b15b4e06d109cf"
  },
  {
   "cell_type": "code",
   "outputs": [],
   "source": [
    "vec_train_env = make_atari_env(config.env_id, n_envs=config.n_envs, seed=config.training_seed)\n",
    "vec_train_env = VecFrameStack(vec_train_env, n_stack=config.frame_stack)\n",
    "vec_train_env = VecTransposeImage(vec_train_env)"
   ],
   "metadata": {
    "collapsed": false,
    "ExecuteTime": {
     "end_time": "2024-03-20T00:58:44.512781425Z",
     "start_time": "2024-03-20T00:58:43.234645863Z"
    }
   },
   "id": "6228fe1f1f1916f5",
   "execution_count": 5
  },
  {
   "cell_type": "markdown",
   "source": [
    "# Create Model"
   ],
   "metadata": {
    "collapsed": false
   },
   "id": "2dac3e3ac859da4d"
  },
  {
   "cell_type": "code",
   "outputs": [
    {
     "name": "stdout",
     "output_type": "stream",
     "text": [
      "Using cpu device\n"
     ]
    }
   ],
   "source": [
    "# Define the keys for PPO-specific hyperparameters\n",
    "ppo_params_keys = [\n",
    "    'batch_size',\n",
    "    'ent_coef',\n",
    "    'n_epochs',\n",
    "    'n_steps',\n",
    "    'policy',\n",
    "    'vf_coef',\n",
    "    'normalize_advantage',\n",
    "]\n",
    "\n",
    "# Filter the config dictionary to extract only the PPO hyperparameters\n",
    "ppo_hyperparams = {key: config[key] for key in ppo_params_keys if key in config}\n",
    "\n",
    "# Additional hyperparameters not in the initial filter that require custom handling\n",
    "learning_rate_schedule = linear_schedule(2.5e-4)\n",
    "clip_range_schedule = linear_schedule(0.1)\n",
    "\n",
    "# Instantiate the PPO model with the specified hyperparameters and environment\n",
    "model = PPO(\n",
    "    **ppo_hyperparams,\n",
    "    learning_rate=learning_rate_schedule,\n",
    "    clip_range=clip_range_schedule,\n",
    "    env=vec_train_env, \n",
    "    verbose=1,\n",
    ")\n"
   ],
   "metadata": {
    "collapsed": false,
    "ExecuteTime": {
     "end_time": "2024-03-20T00:58:45.350444844Z",
     "start_time": "2024-03-20T00:58:44.516809115Z"
    }
   },
   "id": "ea3812a421130304",
   "execution_count": 6
  },
  {
   "cell_type": "markdown",
   "source": [
    "# Create Callbacks"
   ],
   "metadata": {
    "collapsed": false
   },
   "id": "9a1fad55fcb870a"
  },
  {
   "cell_type": "code",
   "outputs": [],
   "source": [
    "# Callback for logging evaluation metrics\n",
    "wandb_eval_callback = WandbEvalCallback()\n",
    "# Save best model\n",
    "eval_callback = EvalCallback(\n",
    "    eval_env=vec_eval_env,\n",
    "    eval_freq=max(config.log_frequency // config.n_envs, 1),\n",
    "    n_eval_episodes=config.n_eval_episodes,\n",
    "    best_model_save_path=log_dir,\n",
    "    log_path=log_dir,\n",
    "    callback_after_eval=wandb_eval_callback,\n",
    "    deterministic=True,\n",
    "    render=False,\n",
    "    verbose=0\n",
    ")\n",
    "\n",
    "\n",
    "# Needs to be changed, so it uses run instead of wandb\n",
    "wandb_callback = WandbCallback(\n",
    "    gradient_save_freq=config.log_frequency,\n",
    ")\n",
    "\n",
    "wandb_on_training_end_callback = WandbOnTrainingEndCallback(\n",
    "    model=model,\n",
    "    eval_env=vec_eval_env,\n",
    "    wandb_run=run,\n",
    "    log_dir=log_dir,\n",
    "    n_eval_episodes=config.n_eval_episodes,\n",
    "    record_n_episodes=config.record_n_episodes,\n",
    ")\n",
    "\n",
    "callbacks = [eval_callback, wandb_callback, wandb_on_training_end_callback]"
   ],
   "metadata": {
    "collapsed": false,
    "ExecuteTime": {
     "end_time": "2024-03-20T00:58:45.358741669Z",
     "start_time": "2024-03-20T00:58:45.352813211Z"
    }
   },
   "id": "143dc84e079de368",
   "execution_count": 7
  },
  {
   "cell_type": "markdown",
   "source": [
    "# Train Model with callbacks"
   ],
   "metadata": {
    "collapsed": false
   },
   "id": "d807e029877c6415"
  },
  {
   "cell_type": "code",
   "outputs": [
    {
     "name": "stdout",
     "output_type": "stream",
     "text": [
      "---------------------------------\n",
      "| eval/              |          |\n",
      "|    mean_ep_length  | 328      |\n",
      "|    mean_reward     | 7.2      |\n",
      "| time/              |          |\n",
      "|    total_timesteps | 496      |\n",
      "---------------------------------\n",
      "---------------------------------\n",
      "| eval/              |          |\n",
      "|    mean_ep_length  | 300      |\n",
      "|    mean_reward     | 5.4      |\n",
      "| time/              |          |\n",
      "|    total_timesteps | 992      |\n",
      "---------------------------------\n",
      "---------------------------------\n",
      "| rollout/           |          |\n",
      "|    ep_len_mean     | 250      |\n",
      "|    ep_rew_mean     | 2.1      |\n",
      "| time/              |          |\n",
      "|    fps             | 107      |\n",
      "|    iterations      | 1        |\n",
      "|    time_elapsed    | 9        |\n",
      "|    total_timesteps | 1024     |\n",
      "---------------------------------\n",
      "------------------------------------------\n",
      "| eval/                   |              |\n",
      "|    mean_ep_length       | 254          |\n",
      "|    mean_reward          | 2.2          |\n",
      "| time/                   |              |\n",
      "|    total_timesteps      | 1488         |\n",
      "| train/                  |              |\n",
      "|    approx_kl            | 0.0006340815 |\n",
      "|    clip_fraction        | 0.0645       |\n",
      "|    clip_range           | 0.0488       |\n",
      "|    entropy_loss         | -1.39        |\n",
      "|    explained_variance   | 0.0166       |\n",
      "|    learning_rate        | 0.000122     |\n",
      "|    loss                 | -0.225       |\n",
      "|    n_updates            | 4            |\n",
      "|    policy_gradient_loss | -0.336       |\n",
      "|    value_loss           | 0.232        |\n",
      "------------------------------------------\n",
      "---------------------------------\n",
      "| eval/              |          |\n",
      "|    mean_ep_length  | 5.6e+03  |\n",
      "|    mean_reward     | 1.8      |\n",
      "| time/              |          |\n",
      "|    total_timesteps | 1984     |\n",
      "---------------------------------\n",
      "---------------------------------\n",
      "| rollout/           |          |\n",
      "|    ep_len_mean     | 241      |\n",
      "|    ep_rew_mean     | 1.98     |\n",
      "| time/              |          |\n",
      "|    fps             | 10       |\n",
      "|    iterations      | 2        |\n",
      "|    time_elapsed    | 191      |\n",
      "|    total_timesteps | 2048     |\n",
      "---------------------------------\n"
     ]
    },
    {
     "name": "stderr",
     "output_type": "stream",
     "text": [
      "/home/maliti/Prog/Global-Feature-Extraction/venv/lib/python3.10/site-packages/stable_baselines3/common/distributions.py:87: TracerWarning: Converting a tensor to a Python boolean might cause the trace to be incorrect. We can't record the data flow of Python values, so this value will be treated as a constant in the future. This means that the trace might not generalize to other inputs!\n",
      "  if deterministic:\n",
      "/home/maliti/Prog/Global-Feature-Extraction/venv/lib/python3.10/site-packages/gymnasium/utils/passive_env_checker.py:335: UserWarning: \u001B[33mWARN: No render fps was declared in the environment (env.metadata['render_fps'] is None or not defined), rendering may occur at inconsistent fps.\u001B[0m\n",
      "  logger.warn(\n"
     ]
    }
   ],
   "source": [
    "model.learn(\n",
    "    total_timesteps=config.n_timesteps,\n",
    "    callback=callbacks\n",
    ")"
   ],
   "metadata": {
    "collapsed": false,
    "is_executing": true,
    "ExecuteTime": {
     "start_time": "2024-03-20T00:58:45.362294315Z"
    }
   },
   "id": "f147fe2ad11bef25",
   "execution_count": null
  },
  {
   "cell_type": "markdown",
   "source": [
    "# Cleanup"
   ],
   "metadata": {
    "collapsed": false
   },
   "id": "6a0b7708e4c57b2c"
  },
  {
   "cell_type": "code",
   "outputs": [],
   "source": [
    "run.finish()"
   ],
   "metadata": {
    "collapsed": false,
    "is_executing": true
   },
   "id": "9a4ee3b9c8621646",
   "execution_count": null
  }
 ],
 "metadata": {
  "kernelspec": {
   "display_name": "Python 3",
   "language": "python",
   "name": "python3"
  },
  "language_info": {
   "codemirror_mode": {
    "name": "ipython",
    "version": 2
   },
   "file_extension": ".py",
   "mimetype": "text/x-python",
   "name": "python",
   "nbconvert_exporter": "python",
   "pygments_lexer": "ipython2",
   "version": "2.7.6"
  }
 },
 "nbformat": 4,
 "nbformat_minor": 5
}
