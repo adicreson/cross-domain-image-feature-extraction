{
 "cells": [
  {
   "cell_type": "markdown",
   "source": [
    "# This file is for creating the benchmark, with stacked frames."
   ],
   "metadata": {
    "collapsed": false
   },
   "id": "48ae7a254094dc4b"
  },
  {
   "cell_type": "markdown",
   "source": [
    "# import relevant packages"
   ],
   "metadata": {
    "collapsed": false
   },
   "id": "ee775089098578a5"
  },
  {
   "cell_type": "code",
   "outputs": [],
   "source": [
    "import os\n",
    "import datetime\n",
    "import wandb\n",
    "\n",
    "from stable_baselines3 import PPO\n",
    "from stable_baselines3.common.callbacks import CallbackList, EvalCallback\n",
    "from stable_baselines3.common.env_util import make_atari_env\n",
    "from stable_baselines3.common.vec_env import VecFrameStack, VecTransposeImage, VecVideoRecorder\n",
    "\n",
    "from wandb.integration.sb3 import WandbCallback\n",
    "\n",
    "from feature_extraction.callbacks.wandb_on_training_end_callback import WandbOnTrainingEndCallback\n",
    "from utils import linear_schedule\n",
    "from collections import OrderedDict"
   ],
   "metadata": {
    "collapsed": false
   },
   "id": "e9bbbd1ea019cb71",
   "execution_count": null
  },
  {
   "cell_type": "markdown",
   "source": [
    "# Settings"
   ],
   "metadata": {
    "collapsed": false
   },
   "id": "29738fd8c353a5a1"
  },
  {
   "cell_type": "code",
   "outputs": [],
   "source": [
    "progress_bar = True\n",
    "train_model = True\n",
    "eval_model = False\n",
    "project_name = \"atari\"\n",
    "#Human readable timestamp\n",
    "timestamp = datetime.datetime.now().strftime('_%Y-%m-%d_%H-%M-%S')\n",
    "\n",
    "run_name = \"breakout_benchmark\" + timestamp\n",
    "log_dir = \"logs\"\n"
   ],
   "metadata": {
    "collapsed": false
   },
   "id": "83aa1191533c44b5",
   "execution_count": null
  },
  {
   "cell_type": "markdown",
   "source": [
    "# Setup Wandb"
   ],
   "metadata": {
    "collapsed": false
   },
   "id": "bb1c6636e0cfafaa"
  },
  {
   "cell_type": "code",
   "outputs": [],
   "source": [
    "\n",
    "wandb.login()\n",
    "\n",
    "config = OrderedDict([\n",
    "    # Environment settings\n",
    "    ('env_id', \"ALE/Breakout-v5\"),\n",
    "    ('n_envs', 8),\n",
    "    ('env_wrapper', ['stable_baselines3.common.atari_wrappers.AtariWrapper']),\n",
    "    ('frame_stack', 4),\n",
    "    ('training_seed', 12),\n",
    "    ('evaluation_seed', 14),\n",
    "    \n",
    "    # Algorithm and policy\n",
    "    ('algo', 'PPO'),\n",
    "    ('policy', 'CnnPolicy'),\n",
    "    \n",
    "    # Training hyperparameters\n",
    "    ('batch_size', 256),\n",
    "    ('n_steps', 128),\n",
    "    ('n_epochs', 4),\n",
    "    ('n_timesteps', 3_000),\n",
    "    ('learning_rate', 0.00025),\n",
    "    ('learning_rate_schedule', 'linear'),\n",
    "    ('clip_range', 0.1),\n",
    "    ('clip_range_schedule', 'linear'),\n",
    "    ('ent_coef', 0.01),\n",
    "    ('vf_coef', 0.5),\n",
    "    ('normalize_advantage', False),\n",
    "    \n",
    "    # Evaluation and logging\n",
    "    ('n_eval_episodes', 2),\n",
    "    ('record_n_episodes', 10),\n",
    "    ('log_frequency', 1024),\n",
    "    \n",
    "    # Other settings\n",
    "    ('verbose', 1)\n",
    "])\n",
    "\n",
    "cwd = os.getcwd()\n",
    "#cwd = os.path.join(cwd, log_dir)\n",
    "# This is used instead of sync_tensorboard in wandb.init()\n",
    "#wandb.tensorboard.patch(save=True, root_logdir=cwd)\n",
    "\n",
    "wandb.init(\n",
    "    project=project_name,\n",
    "    name=run_name, # Name of the run\n",
    "    config=config,\n",
    "    save_code=True,\n",
    "    sync_tensorboard=True,\n",
    "    #monitor_gym=True,\n",
    ")\n",
    "\n",
    "config = wandb.config"
   ],
   "metadata": {
    "collapsed": false
   },
   "id": "25dc2fd081bc2f08",
   "execution_count": null
  },
  {
   "cell_type": "markdown",
   "source": [
    "# Create Evaluation Environment"
   ],
   "metadata": {
    "collapsed": false
   },
   "id": "b96f4e70a9af239e"
  },
  {
   "cell_type": "code",
   "outputs": [],
   "source": [
    "vec_eval_env = make_atari_env(config.env_id, n_envs=config.n_envs, seed=config.evaluation_seed)\n",
    "vec_eval_env = VecFrameStack(vec_eval_env, n_stack=config.frame_stack)\n",
    "vec_eval_env = VecTransposeImage(vec_eval_env)\n"
   ],
   "metadata": {
    "collapsed": false
   },
   "id": "3f47fb1c3e907b7a",
   "execution_count": null
  },
  {
   "cell_type": "markdown",
   "source": [
    "# Create Training Environment"
   ],
   "metadata": {
    "collapsed": false
   },
   "id": "f8b15b4e06d109cf"
  },
  {
   "cell_type": "code",
   "outputs": [],
   "source": [
    "vec_train_env = make_atari_env(config.env_id, n_envs=config.n_envs, seed=config.training_seed)\n",
    "vec_train_env = VecFrameStack(vec_train_env, n_stack=config.frame_stack)\n",
    "vec_train_env = VecTransposeImage(vec_train_env)"
   ],
   "metadata": {
    "collapsed": false
   },
   "id": "6228fe1f1f1916f5",
   "execution_count": null
  },
  {
   "cell_type": "markdown",
   "source": [
    "# Create Model"
   ],
   "metadata": {
    "collapsed": false
   },
   "id": "2dac3e3ac859da4d"
  },
  {
   "cell_type": "code",
   "outputs": [],
   "source": [
    "# Define the keys for PPO-specific hyperparameters\n",
    "ppo_params_keys = [\n",
    "    'batch_size',\n",
    "    'ent_coef',\n",
    "    'n_epochs',\n",
    "    'n_steps',\n",
    "    'policy',\n",
    "    'vf_coef',\n",
    "    'normalize_advantage',\n",
    "]\n",
    "\n",
    "# Filter the config dictionary to extract only the PPO hyperparameters\n",
    "ppo_hyperparams = {key: config[key] for key in ppo_params_keys if key in config}\n",
    "\n",
    "# Additional hyperparameters not in the initial filter that require custom handling\n",
    "learning_rate_schedule = linear_schedule(2.5e-4)\n",
    "clip_range_schedule = linear_schedule(0.1)\n",
    "\n",
    "# Instantiate the PPO model with the specified hyperparameters and environment\n",
    "model = PPO(\n",
    "    **ppo_hyperparams,\n",
    "    learning_rate=learning_rate_schedule,\n",
    "    clip_range=clip_range_schedule,\n",
    "    env=vec_train_env, \n",
    "    verbose=1,\n",
    "    tensorboard_log=f\"{log_dir}\",\n",
    ")\n"
   ],
   "metadata": {
    "collapsed": false
   },
   "id": "ea3812a421130304",
   "execution_count": null
  },
  {
   "cell_type": "markdown",
   "source": [
    "# Create Callbacks"
   ],
   "metadata": {
    "collapsed": false
   },
   "id": "9a1fad55fcb870a"
  },
  {
   "cell_type": "code",
   "outputs": [],
   "source": [
    "# Save best model\n",
    "eval_callback = EvalCallback(\n",
    "    eval_env=vec_eval_env,\n",
    "    eval_freq=max(config.log_frequency // config.n_envs, 1),\n",
    "    n_eval_episodes=config.n_eval_episodes,\n",
    "    best_model_save_path=log_dir,\n",
    "    log_path=log_dir,\n",
    "    deterministic=True,\n",
    "    render=False,\n",
    "    verbose=0\n",
    ")\n",
    " \n",
    "\n",
    "# Needs to be changed, so it uses run instead of wandb\n",
    "wandb_callback = WandbCallback(\n",
    "    verbose=1,\n",
    "    gradient_save_freq=256,\n",
    ")\n",
    "\n",
    "wandb_on_training_end_callback = WandbOnTrainingEndCallback(\n",
    "    model=model,\n",
    "    eval_env=vec_eval_env,\n",
    "    log_dir=log_dir,\n",
    "    n_eval_episodes=config.n_eval_episodes,\n",
    "    record_n_episodes=config.record_n_episodes,\n",
    ")\n",
    "callbacks = CallbackList([wandb_callback, eval_callback, wandb_on_training_end_callback])"
   ],
   "metadata": {
    "collapsed": false
   },
   "id": "143dc84e079de368",
   "execution_count": null
  },
  {
   "cell_type": "markdown",
   "source": [
    "# Train Model with callbacks"
   ],
   "metadata": {
    "collapsed": false
   },
   "id": "d807e029877c6415"
  },
  {
   "cell_type": "code",
   "outputs": [],
   "source": [
    "model.learn(\n",
    "    total_timesteps=config.n_timesteps,\n",
    "    callback=callbacks,\n",
    ")       "
   ],
   "metadata": {
    "collapsed": false
   },
   "id": "f147fe2ad11bef25",
   "execution_count": null
  },
  {
   "cell_type": "markdown",
   "source": [
    "# Cleanup"
   ],
   "metadata": {
    "collapsed": false
   },
   "id": "6a0b7708e4c57b2c"
  },
  {
   "cell_type": "code",
   "outputs": [],
   "source": [
    "wandb.finish()"
   ],
   "metadata": {
    "collapsed": false
   },
   "id": "9a4ee3b9c8621646",
   "execution_count": null
  }
 ],
 "metadata": {
  "kernelspec": {
   "display_name": "Python 3",
   "language": "python",
   "name": "python3"
  },
  "language_info": {
   "codemirror_mode": {
    "name": "ipython",
    "version": 2
   },
   "file_extension": ".py",
   "mimetype": "text/x-python",
   "name": "python",
   "nbconvert_exporter": "python",
   "pygments_lexer": "ipython2",
   "version": "2.7.6"
  }
 },
 "nbformat": 4,
 "nbformat_minor": 5
}
