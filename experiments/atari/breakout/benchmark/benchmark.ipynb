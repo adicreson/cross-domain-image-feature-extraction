{
 "cells": [
  {
   "cell_type": "markdown",
   "source": [
    "# This file is for creating the benchmark, with stacked frames."
   ],
   "metadata": {
    "collapsed": false
   },
   "id": "48ae7a254094dc4b"
  },
  {
   "cell_type": "markdown",
   "source": [
    "# import relevant packages"
   ],
   "metadata": {
    "collapsed": false
   },
   "id": "ee775089098578a5"
  },
  {
   "cell_type": "code",
   "outputs": [
    {
     "name": "stderr",
     "output_type": "stream",
     "text": [
      "2024-03-25 16:06:10.518458: E external/local_xla/xla/stream_executor/cuda/cuda_dnn.cc:9261] Unable to register cuDNN factory: Attempting to register factory for plugin cuDNN when one has already been registered\n",
      "2024-03-25 16:06:10.518498: E external/local_xla/xla/stream_executor/cuda/cuda_fft.cc:607] Unable to register cuFFT factory: Attempting to register factory for plugin cuFFT when one has already been registered\n",
      "2024-03-25 16:06:10.519625: E external/local_xla/xla/stream_executor/cuda/cuda_blas.cc:1515] Unable to register cuBLAS factory: Attempting to register factory for plugin cuBLAS when one has already been registered\n",
      "2024-03-25 16:06:10.526822: I tensorflow/core/platform/cpu_feature_guard.cc:182] This TensorFlow binary is optimized to use available CPU instructions in performance-critical operations.\n",
      "To enable the following instructions: AVX2 FMA, in other operations, rebuild TensorFlow with the appropriate compiler flags.\n",
      "2024-03-25 16:06:11.455519: W tensorflow/compiler/tf2tensorrt/utils/py_utils.cc:38] TF-TRT Warning: Could not find TensorRT\n"
     ]
    }
   ],
   "source": [
    "import os\n",
    "import wandb\n",
    "\n",
    "from stable_baselines3 import PPO\n",
    "from stable_baselines3.common.callbacks import CallbackList, EvalCallback\n",
    "from stable_baselines3.common.env_util import make_atari_env\n",
    "from stable_baselines3.common.vec_env import VecFrameStack, VecTransposeImage\n",
    "\n",
    "from wandb.integration.sb3 import WandbCallback\n",
    "\n",
    "from feature_extraction.callbacks.wandb_on_training_end_callback import WandbOnTrainingEndCallback\n",
    "from utils import linear_schedule\n",
    "from collections import OrderedDict\n"
   ],
   "metadata": {
    "collapsed": false,
    "ExecuteTime": {
     "end_time": "2024-03-25T15:06:12.713113714Z",
     "start_time": "2024-03-25T15:06:08.176971483Z"
    }
   },
   "id": "e9bbbd1ea019cb71",
   "execution_count": 1
  },
  {
   "cell_type": "markdown",
   "source": [
    "# Settings"
   ],
   "metadata": {
    "collapsed": false
   },
   "id": "29738fd8c353a5a1"
  },
  {
   "cell_type": "code",
   "outputs": [],
   "source": [
    "progress_bar = True\n",
    "train_model = True\n",
    "eval_model = False\n",
    "project_name = \"breakout\"\n",
    "log_dir = \"logs\"\n"
   ],
   "metadata": {
    "collapsed": false,
    "ExecuteTime": {
     "end_time": "2024-03-25T15:06:12.718889352Z",
     "start_time": "2024-03-25T15:06:12.713794811Z"
    }
   },
   "id": "83aa1191533c44b5",
   "execution_count": 2
  },
  {
   "cell_type": "markdown",
   "source": [
    "# Setup Wandb"
   ],
   "metadata": {
    "collapsed": false
   },
   "id": "bb1c6636e0cfafaa"
  },
  {
   "cell_type": "code",
   "outputs": [
    {
     "name": "stderr",
     "output_type": "stream",
     "text": [
      "\u001B[34m\u001B[1mwandb\u001B[0m: Currently logged in as: \u001B[33madicreson\u001B[0m (\u001B[33mfeature_extraction\u001B[0m). Use \u001B[1m`wandb login --relogin`\u001B[0m to force relogin\n"
     ]
    },
    {
     "data": {
      "text/plain": "<IPython.core.display.HTML object>",
      "text/html": "Tracking run with wandb version 0.16.4"
     },
     "metadata": {},
     "output_type": "display_data"
    },
    {
     "data": {
      "text/plain": "<IPython.core.display.HTML object>",
      "text/html": "Run data is saved locally in <code>/home/maliti/Prog/Global-Feature-Extraction/experiments/atari/breakout/benchmark/wandb/run-20240325_160614-u54xlg08</code>"
     },
     "metadata": {},
     "output_type": "display_data"
    },
    {
     "data": {
      "text/plain": "<IPython.core.display.HTML object>",
      "text/html": "Syncing run <strong><a href='https://wandb.ai/feature_extraction/breakout/runs/u54xlg08' target=\"_blank\">benchmark</a></strong> to <a href='https://wandb.ai/feature_extraction/breakout' target=\"_blank\">Weights & Biases</a> (<a href='https://wandb.me/run' target=\"_blank\">docs</a>)<br/>"
     },
     "metadata": {},
     "output_type": "display_data"
    },
    {
     "data": {
      "text/plain": "<IPython.core.display.HTML object>",
      "text/html": " View project at <a href='https://wandb.ai/feature_extraction/breakout' target=\"_blank\">https://wandb.ai/feature_extraction/breakout</a>"
     },
     "metadata": {},
     "output_type": "display_data"
    },
    {
     "data": {
      "text/plain": "<IPython.core.display.HTML object>",
      "text/html": " View run at <a href='https://wandb.ai/feature_extraction/breakout/runs/u54xlg08' target=\"_blank\">https://wandb.ai/feature_extraction/breakout/runs/u54xlg08</a>"
     },
     "metadata": {},
     "output_type": "display_data"
    }
   ],
   "source": [
    "\n",
    "wandb.login()\n",
    "\n",
    "config = OrderedDict([\n",
    "    # Environment settings\n",
    "    ('env_id', \"ALE/Breakout-v5\"),\n",
    "    ('n_envs', 8),\n",
    "    ('env_wrapper', ['stable_baselines3.common.atari_wrappers.AtariWrapper']),\n",
    "    ('frame_stack', 4),\n",
    "    ('training_seed', 12),\n",
    "    ('evaluation_seed', 14),\n",
    "    \n",
    "    # Algorithm and policy\n",
    "    ('algo', 'PPO'),\n",
    "    ('policy', 'CnnPolicy'),\n",
    "    \n",
    "    # Training hyperparameters\n",
    "    ('batch_size', 256),\n",
    "    ('n_steps', 128),\n",
    "    ('n_epochs', 4),\n",
    "    ('n_timesteps', 5_000),\n",
    "    ('learning_rate', 0.00025),\n",
    "    ('learning_rate_schedule', 'linear'),\n",
    "    ('clip_range', 0.1),\n",
    "    ('clip_range_schedule', 'linear'),\n",
    "    ('ent_coef', 0.01),\n",
    "    ('vf_coef', 0.5),\n",
    "    ('normalize_advantage', False),\n",
    "    \n",
    "    # Evaluation and logging\n",
    "    ('n_eval_episodes', 5),\n",
    "    ('record_n_episodes', 10),\n",
    "    ('log_frequency', 1024),\n",
    "    \n",
    "    # Other settings\n",
    "    ('verbose', 1)\n",
    "])\n",
    "\n",
    "cwd = os.getcwd()\n",
    "#cwd = os.path.join(cwd, log_dir)\n",
    "# This is used instead of sync_tensorboard in wandb.init()\n",
    "#wandb.tensorboard.patch(save=True, root_logdir=cwd)\n",
    "\n",
    "wandb.init(\n",
    "    project=project_name,\n",
    "    config=config,\n",
    "    save_code=True,\n",
    "    sync_tensorboard=True,\n",
    "    name=\"benchmark\",\n",
    ")\n",
    "\n",
    "config = wandb.config"
   ],
   "metadata": {
    "collapsed": false,
    "ExecuteTime": {
     "end_time": "2024-03-25T15:06:14.973877197Z",
     "start_time": "2024-03-25T15:06:12.721574141Z"
    }
   },
   "id": "25dc2fd081bc2f08",
   "execution_count": 3
  },
  {
   "cell_type": "markdown",
   "source": [
    "# Create Evaluation Environment"
   ],
   "metadata": {
    "collapsed": false
   },
   "id": "b96f4e70a9af239e"
  },
  {
   "cell_type": "code",
   "outputs": [
    {
     "name": "stderr",
     "output_type": "stream",
     "text": [
      "A.L.E: Arcade Learning Environment (version 0.8.1+53f58b7)\n",
      "[Powered by Stella]\n"
     ]
    }
   ],
   "source": [
    "vec_eval_env = make_atari_env(config.env_id, n_envs=config.n_envs, seed=config.evaluation_seed)\n",
    "vec_eval_env = VecFrameStack(vec_eval_env, n_stack=config.frame_stack)\n",
    "vec_eval_env = VecTransposeImage(vec_eval_env)\n"
   ],
   "metadata": {
    "collapsed": false,
    "ExecuteTime": {
     "end_time": "2024-03-25T15:06:15.928144081Z",
     "start_time": "2024-03-25T15:06:14.971415343Z"
    }
   },
   "id": "3f47fb1c3e907b7a",
   "execution_count": 4
  },
  {
   "cell_type": "markdown",
   "source": [
    "# Create Training Environment"
   ],
   "metadata": {
    "collapsed": false
   },
   "id": "f8b15b4e06d109cf"
  },
  {
   "cell_type": "code",
   "outputs": [],
   "source": [
    "vec_train_env = make_atari_env(config.env_id, n_envs=config.n_envs, seed=config.training_seed)\n",
    "vec_train_env = VecFrameStack(vec_train_env, n_stack=config.frame_stack)\n",
    "vec_train_env = VecTransposeImage(vec_train_env)"
   ],
   "metadata": {
    "collapsed": false,
    "ExecuteTime": {
     "end_time": "2024-03-25T15:06:16.892641810Z",
     "start_time": "2024-03-25T15:06:15.931910510Z"
    }
   },
   "id": "6228fe1f1f1916f5",
   "execution_count": 5
  },
  {
   "cell_type": "markdown",
   "source": [
    "# Create Model"
   ],
   "metadata": {
    "collapsed": false
   },
   "id": "2dac3e3ac859da4d"
  },
  {
   "cell_type": "code",
   "outputs": [
    {
     "name": "stdout",
     "output_type": "stream",
     "text": [
      "Using cpu device\n"
     ]
    }
   ],
   "source": [
    "# Define the keys for PPO-specific hyperparameters\n",
    "ppo_params_keys = [\n",
    "    'batch_size',\n",
    "    'ent_coef',\n",
    "    'n_epochs',\n",
    "    'n_steps',\n",
    "    'policy',\n",
    "    'vf_coef',\n",
    "    'normalize_advantage',\n",
    "]\n",
    "\n",
    "# Filter the config dictionary to extract only the PPO hyperparameters\n",
    "ppo_hyperparams = {key: config[key] for key in ppo_params_keys if key in config}\n",
    "\n",
    "# Additional hyperparameters not in the initial filter that require custom handling\n",
    "learning_rate_schedule = linear_schedule(2.5e-4)\n",
    "clip_range_schedule = linear_schedule(0.1)\n",
    "\n",
    "# Instantiate the PPO model with the specified hyperparameters and environment\n",
    "model = PPO(\n",
    "    **ppo_hyperparams,\n",
    "    learning_rate=learning_rate_schedule,\n",
    "    clip_range=clip_range_schedule,\n",
    "    env=vec_train_env, \n",
    "    verbose=1,\n",
    "    tensorboard_log=f\"{log_dir}\",\n",
    ")\n"
   ],
   "metadata": {
    "collapsed": false,
    "ExecuteTime": {
     "end_time": "2024-03-25T15:06:17.497970626Z",
     "start_time": "2024-03-25T15:06:16.896696616Z"
    }
   },
   "id": "ea3812a421130304",
   "execution_count": 6
  },
  {
   "cell_type": "markdown",
   "source": [
    "# Create Callbacks"
   ],
   "metadata": {
    "collapsed": false
   },
   "id": "9a1fad55fcb870a"
  },
  {
   "cell_type": "code",
   "outputs": [],
   "source": [
    "# Save best model\n",
    "eval_callback = EvalCallback(\n",
    "    eval_env=vec_eval_env,\n",
    "    eval_freq=max(config.log_frequency // config.n_envs, 1),\n",
    "    n_eval_episodes=config.n_eval_episodes,\n",
    "    best_model_save_path=log_dir,\n",
    "    log_path=log_dir,\n",
    "    deterministic=True,\n",
    "    render=False,\n",
    "    verbose=0\n",
    ")\n",
    " \n",
    "\n",
    "# Needs to be changed, so it uses run instead of wandb\n",
    "wandb_callback = WandbCallback(\n",
    "    verbose=1,\n",
    "    gradient_save_freq=256,\n",
    ")\n",
    "\n",
    "wandb_on_training_end_callback = WandbOnTrainingEndCallback(\n",
    "    model=model,\n",
    "    eval_env=vec_eval_env,\n",
    "    log_dir=log_dir,\n",
    "    n_eval_episodes=config.n_eval_episodes,\n",
    "    record_n_episodes=config.record_n_episodes,\n",
    ")\n",
    "callbacks = CallbackList([wandb_callback, eval_callback])"
   ],
   "metadata": {
    "collapsed": false,
    "ExecuteTime": {
     "end_time": "2024-03-25T15:06:17.505290676Z",
     "start_time": "2024-03-25T15:06:17.501144936Z"
    }
   },
   "id": "143dc84e079de368",
   "execution_count": 7
  },
  {
   "cell_type": "markdown",
   "source": [
    "# Train Model with callbacks"
   ],
   "metadata": {
    "collapsed": false
   },
   "id": "d807e029877c6415"
  },
  {
   "cell_type": "code",
   "outputs": [
    {
     "name": "stdout",
     "output_type": "stream",
     "text": [
      "Logging to logs/PPO_48\n"
     ]
    },
    {
     "name": "stderr",
     "output_type": "stream",
     "text": [
      "2024-03-25 16:06:19.208985: E external/local_xla/xla/stream_executor/cuda/cuda_dnn.cc:9261] Unable to register cuDNN factory: Attempting to register factory for plugin cuDNN when one has already been registered\n",
      "2024-03-25 16:06:19.209037: E external/local_xla/xla/stream_executor/cuda/cuda_fft.cc:607] Unable to register cuFFT factory: Attempting to register factory for plugin cuFFT when one has already been registered\n",
      "2024-03-25 16:06:19.210357: E external/local_xla/xla/stream_executor/cuda/cuda_blas.cc:1515] Unable to register cuBLAS factory: Attempting to register factory for plugin cuBLAS when one has already been registered\n",
      "2024-03-25 16:06:19.218867: I tensorflow/core/platform/cpu_feature_guard.cc:182] This TensorFlow binary is optimized to use available CPU instructions in performance-critical operations.\n",
      "To enable the following instructions: AVX2 FMA, in other operations, rebuild TensorFlow with the appropriate compiler flags.\n",
      "2024-03-25 16:06:20.223206: W tensorflow/compiler/tf2tensorrt/utils/py_utils.cc:38] TF-TRT Warning: Could not find TensorRT\n"
     ]
    },
    {
     "name": "stdout",
     "output_type": "stream",
     "text": [
      "---------------------------------\n",
      "| eval/              |          |\n",
      "|    mean_ep_length  | 240      |\n",
      "|    mean_reward     | 2.4      |\n",
      "| time/              |          |\n",
      "|    total_timesteps | 1024     |\n",
      "---------------------------------\n",
      "---------------------------------\n",
      "| rollout/           |          |\n",
      "|    ep_len_mean     | 211      |\n",
      "|    ep_rew_mean     | 1.12     |\n",
      "| time/              |          |\n",
      "|    fps             | 131      |\n",
      "|    iterations      | 1        |\n",
      "|    time_elapsed    | 7        |\n",
      "|    total_timesteps | 1024     |\n",
      "---------------------------------\n",
      "------------------------------------------\n",
      "| eval/                   |              |\n",
      "|    mean_ep_length       | 223          |\n",
      "|    mean_reward          | 2.2          |\n",
      "| time/                   |              |\n",
      "|    total_timesteps      | 2048         |\n",
      "| train/                  |              |\n",
      "|    approx_kl            | 0.0004605417 |\n",
      "|    clip_fraction        | 0            |\n",
      "|    clip_range           | 0.0795       |\n",
      "|    entropy_loss         | -1.39        |\n",
      "|    explained_variance   | -0.142       |\n",
      "|    learning_rate        | 0.000199     |\n",
      "|    loss                 | -0.267       |\n",
      "|    n_updates            | 4            |\n",
      "|    policy_gradient_loss | -0.316       |\n",
      "|    value_loss           | 0.178        |\n",
      "------------------------------------------\n",
      "---------------------------------\n",
      "| rollout/           |          |\n",
      "|    ep_len_mean     | 217      |\n",
      "|    ep_rew_mean     | 1.35     |\n",
      "| time/              |          |\n",
      "|    fps             | 134      |\n",
      "|    iterations      | 2        |\n",
      "|    time_elapsed    | 15       |\n",
      "|    total_timesteps | 2048     |\n",
      "---------------------------------\n",
      "-------------------------------------------\n",
      "| eval/                   |               |\n",
      "|    mean_ep_length       | 236           |\n",
      "|    mean_reward          | 2.4           |\n",
      "| time/                   |               |\n",
      "|    total_timesteps      | 3072          |\n",
      "| train/                  |               |\n",
      "|    approx_kl            | 0.00024527666 |\n",
      "|    clip_fraction        | 0             |\n",
      "|    clip_range           | 0.059         |\n",
      "|    entropy_loss         | -1.39         |\n",
      "|    explained_variance   | 0.0886        |\n",
      "|    learning_rate        | 0.000148      |\n",
      "|    loss                 | -0.0176       |\n",
      "|    n_updates            | 8             |\n",
      "|    policy_gradient_loss | -0.134        |\n",
      "|    value_loss           | 0.254         |\n",
      "-------------------------------------------\n",
      "---------------------------------\n",
      "| rollout/           |          |\n",
      "|    ep_len_mean     | 218      |\n",
      "|    ep_rew_mean     | 1.4      |\n",
      "| time/              |          |\n",
      "|    fps             | 132      |\n",
      "|    iterations      | 3        |\n",
      "|    time_elapsed    | 23       |\n",
      "|    total_timesteps | 3072     |\n",
      "---------------------------------\n",
      "-------------------------------------------\n",
      "| eval/                   |               |\n",
      "|    mean_ep_length       | 255           |\n",
      "|    mean_reward          | 2.8           |\n",
      "| time/                   |               |\n",
      "|    total_timesteps      | 4096          |\n",
      "| train/                  |               |\n",
      "|    approx_kl            | 5.8627804e-05 |\n",
      "|    clip_fraction        | 0             |\n",
      "|    clip_range           | 0.0386        |\n",
      "|    entropy_loss         | -1.38         |\n",
      "|    explained_variance   | 0.11          |\n",
      "|    learning_rate        | 9.64e-05      |\n",
      "|    loss                 | 0.137         |\n",
      "|    n_updates            | 12            |\n",
      "|    policy_gradient_loss | 0.0352        |\n",
      "|    value_loss           | 0.208         |\n",
      "-------------------------------------------\n",
      "---------------------------------\n",
      "| rollout/           |          |\n",
      "|    ep_len_mean     | 221      |\n",
      "|    ep_rew_mean     | 1.48     |\n",
      "| time/              |          |\n",
      "|    fps             | 133      |\n",
      "|    iterations      | 4        |\n",
      "|    time_elapsed    | 30       |\n",
      "|    total_timesteps | 4096     |\n",
      "---------------------------------\n",
      "------------------------------------------\n",
      "| eval/                   |              |\n",
      "|    mean_ep_length       | 242          |\n",
      "|    mean_reward          | 2.4          |\n",
      "| time/                   |              |\n",
      "|    total_timesteps      | 5120         |\n",
      "| train/                  |              |\n",
      "|    approx_kl            | 2.029416e-05 |\n",
      "|    clip_fraction        | 0            |\n",
      "|    clip_range           | 0.0181       |\n",
      "|    entropy_loss         | -1.38        |\n",
      "|    explained_variance   | 0.174        |\n",
      "|    learning_rate        | 4.52e-05     |\n",
      "|    loss                 | 0.048        |\n",
      "|    n_updates            | 16           |\n",
      "|    policy_gradient_loss | -0.0835      |\n",
      "|    value_loss           | 0.261        |\n",
      "------------------------------------------\n",
      "---------------------------------\n",
      "| rollout/           |          |\n",
      "|    ep_len_mean     | 223      |\n",
      "|    ep_rew_mean     | 1.56     |\n",
      "| time/              |          |\n",
      "|    fps             | 133      |\n",
      "|    iterations      | 5        |\n",
      "|    time_elapsed    | 38       |\n",
      "|    total_timesteps | 5120     |\n",
      "---------------------------------\n"
     ]
    },
    {
     "data": {
      "text/plain": "<stable_baselines3.ppo.ppo.PPO at 0x74c76ebebbe0>"
     },
     "execution_count": 8,
     "metadata": {},
     "output_type": "execute_result"
    }
   ],
   "source": [
    "model.learn(\n",
    "    total_timesteps=config.n_timesteps,\n",
    "    callback=callbacks,\n",
    ")   "
   ],
   "metadata": {
    "collapsed": false,
    "ExecuteTime": {
     "end_time": "2024-03-25T15:06:57.970788687Z",
     "start_time": "2024-03-25T15:06:17.507169910Z"
    }
   },
   "id": "f147fe2ad11bef25",
   "execution_count": 8
  },
  {
   "cell_type": "markdown",
   "source": [
    "# Cleanup"
   ],
   "metadata": {
    "collapsed": false
   },
   "id": "6a0b7708e4c57b2c"
  },
  {
   "cell_type": "code",
   "outputs": [
    {
     "data": {
      "text/plain": "VBox(children=(Label(value='0.032 MB of 0.032 MB uploaded\\r'), FloatProgress(value=1.0, max=1.0)))",
      "application/vnd.jupyter.widget-view+json": {
       "version_major": 2,
       "version_minor": 0,
       "model_id": "da7413ea7c454cbf9eaa9b313ec59087"
      }
     },
     "metadata": {},
     "output_type": "display_data"
    },
    {
     "data": {
      "text/plain": "<IPython.core.display.HTML object>",
      "text/html": "W&B sync reduced upload amount by 2.9%             "
     },
     "metadata": {},
     "output_type": "display_data"
    },
    {
     "data": {
      "text/plain": "<IPython.core.display.HTML object>",
      "text/html": "<style>\n    table.wandb td:nth-child(1) { padding: 0 10px; text-align: left ; width: auto;} td:nth-child(2) {text-align: left ; width: 100%}\n    .wandb-row { display: flex; flex-direction: row; flex-wrap: wrap; justify-content: flex-start; width: 100% }\n    .wandb-col { display: flex; flex-direction: column; flex-basis: 100%; flex: 1; padding: 10px; }\n    </style>\n<div class=\"wandb-row\"><div class=\"wandb-col\"><h3>Run history:</h3><br/><table class=\"wandb\"><tr><td>eval/mean_ep_length</td><td>▅▁▄█▅</td></tr><tr><td>eval/mean_reward</td><td>▃▁▃█▃</td></tr><tr><td>global_step</td><td>▁▃▅▆█</td></tr><tr><td>rollout/ep_len_mean</td><td>▁▄▅▆█</td></tr><tr><td>rollout/ep_rew_mean</td><td>▁▅▅▇█</td></tr><tr><td>time/fps</td><td>▁█▃▆▆</td></tr><tr><td>train/approx_kl</td><td>█▅▂▁</td></tr><tr><td>train/clip_fraction</td><td>▁▁▁▁</td></tr><tr><td>train/clip_range</td><td>█▆▃▁</td></tr><tr><td>train/entropy_loss</td><td>▁▇▇█</td></tr><tr><td>train/explained_variance</td><td>▁▆▇█</td></tr><tr><td>train/learning_rate</td><td>█▆▃▁</td></tr><tr><td>train/loss</td><td>▁▅█▆</td></tr><tr><td>train/policy_gradient_loss</td><td>▁▅█▆</td></tr><tr><td>train/value_loss</td><td>▁▇▃█</td></tr></table><br/></div><div class=\"wandb-col\"><h3>Run summary:</h3><br/><table class=\"wandb\"><tr><td>eval/mean_ep_length</td><td>241.8</td></tr><tr><td>eval/mean_reward</td><td>2.4</td></tr><tr><td>global_step</td><td>5120</td></tr><tr><td>rollout/ep_len_mean</td><td>223.38</td></tr><tr><td>rollout/ep_rew_mean</td><td>1.56</td></tr><tr><td>time/fps</td><td>133.0</td></tr><tr><td>train/approx_kl</td><td>2e-05</td></tr><tr><td>train/clip_fraction</td><td>0.0</td></tr><tr><td>train/clip_range</td><td>0.01808</td></tr><tr><td>train/entropy_loss</td><td>-1.38481</td></tr><tr><td>train/explained_variance</td><td>0.17381</td></tr><tr><td>train/learning_rate</td><td>5e-05</td></tr><tr><td>train/loss</td><td>0.04796</td></tr><tr><td>train/policy_gradient_loss</td><td>-0.0835</td></tr><tr><td>train/value_loss</td><td>0.26067</td></tr></table><br/></div></div>"
     },
     "metadata": {},
     "output_type": "display_data"
    },
    {
     "data": {
      "text/plain": "<IPython.core.display.HTML object>",
      "text/html": " View run <strong style=\"color:#cdcd00\">benchmark</strong> at: <a href='https://wandb.ai/feature_extraction/breakout/runs/u54xlg08' target=\"_blank\">https://wandb.ai/feature_extraction/breakout/runs/u54xlg08</a><br/> View job at <a href='https://wandb.ai/feature_extraction/breakout/jobs/QXJ0aWZhY3RDb2xsZWN0aW9uOjE1MjMwNjQ1Mw==/version_details/v3' target=\"_blank\">https://wandb.ai/feature_extraction/breakout/jobs/QXJ0aWZhY3RDb2xsZWN0aW9uOjE1MjMwNjQ1Mw==/version_details/v3</a><br/>Synced 6 W&B file(s), 0 media file(s), 3 artifact file(s) and 2 other file(s)"
     },
     "metadata": {},
     "output_type": "display_data"
    },
    {
     "data": {
      "text/plain": "<IPython.core.display.HTML object>",
      "text/html": "Find logs at: <code>./wandb/run-20240325_160614-u54xlg08/logs</code>"
     },
     "metadata": {},
     "output_type": "display_data"
    }
   ],
   "source": [
    "wandb.finish()"
   ],
   "metadata": {
    "collapsed": false,
    "ExecuteTime": {
     "end_time": "2024-03-25T15:07:13.060796468Z",
     "start_time": "2024-03-25T15:06:57.971605906Z"
    }
   },
   "id": "9a4ee3b9c8621646",
   "execution_count": 9
  }
 ],
 "metadata": {
  "kernelspec": {
   "display_name": "Python 3",
   "language": "python",
   "name": "python3"
  },
  "language_info": {
   "codemirror_mode": {
    "name": "ipython",
    "version": 2
   },
   "file_extension": ".py",
   "mimetype": "text/x-python",
   "name": "python",
   "nbconvert_exporter": "python",
   "pygments_lexer": "ipython2",
   "version": "2.7.6"
  }
 },
 "nbformat": 4,
 "nbformat_minor": 5
}
