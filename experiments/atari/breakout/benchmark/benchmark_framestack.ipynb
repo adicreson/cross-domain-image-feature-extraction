{
 "cells": [
  {
   "cell_type": "markdown",
   "source": [
    "# This file is for creating the benchmark, with stacked frames."
   ],
   "metadata": {
    "collapsed": false
   },
   "id": "48ae7a254094dc4b"
  },
  {
   "cell_type": "markdown",
   "source": [
    "# import relevant packages"
   ],
   "metadata": {
    "collapsed": false
   },
   "id": "ee775089098578a5"
  },
  {
   "cell_type": "code",
   "outputs": [],
   "source": [
    "import gymnasium as gym\n",
    "import torch\n",
    "import wandb\n",
    "\n",
    "from stable_baselines3 import PPO\n",
    "from stable_baselines3.common.callbacks import CheckpointCallback, EvalCallback, EveryNTimesteps\n",
    "from stable_baselines3.common.env_util import make_atari_env\n",
    "from stable_baselines3.common.vec_env import VecFrameStack, VecTransposeImage\n",
    "\n",
    "from feature_extraction.callbacks.wandb_reward_logging_callback import WandbRewardLoggingCallback\n",
    "from utils import evaluate_policy\n"
   ],
   "metadata": {
    "collapsed": false,
    "ExecuteTime": {
     "end_time": "2024-03-15T11:39:50.934378151Z",
     "start_time": "2024-03-15T11:39:50.885425780Z"
    }
   },
   "id": "e9bbbd1ea019cb71",
   "execution_count": 12
  },
  {
   "cell_type": "markdown",
   "source": [
    "# Settings"
   ],
   "metadata": {
    "collapsed": false
   },
   "id": "29738fd8c353a5a1"
  },
  {
   "cell_type": "code",
   "outputs": [],
   "source": [
    "progress_bar = True\n",
    "train_model = True\n",
    "eval_model = False\n",
    "save_name = \"a2c_breakout_benchmark_framestack\"\n",
    "verbose = 0\n",
    "logdir = \"logs/\""
   ],
   "metadata": {
    "collapsed": false,
    "ExecuteTime": {
     "end_time": "2024-03-15T11:39:50.945675712Z",
     "start_time": "2024-03-15T11:39:50.935085373Z"
    }
   },
   "id": "83aa1191533c44b5",
   "execution_count": 13
  },
  {
   "cell_type": "markdown",
   "source": [
    "# Login to wanb and create a project with config"
   ],
   "metadata": {
    "collapsed": false
   },
   "id": "bb1c6636e0cfafaa"
  },
  {
   "cell_type": "code",
   "outputs": [
    {
     "data": {
      "text/plain": "VBox(children=(Label(value='Waiting for wandb.init()...\\r'), FloatProgress(value=0.011113030955554375, max=1.0…",
      "application/vnd.jupyter.widget-view+json": {
       "version_major": 2,
       "version_minor": 0,
       "model_id": "c5b813d0dd13485098d67399682c3e3d"
      }
     },
     "metadata": {},
     "output_type": "display_data"
    },
    {
     "name": "stdout",
     "output_type": "stream",
     "text": [
      "Problem at: /tmp/ipykernel_70872/3987479232.py 39 <module>\n"
     ]
    },
    {
     "ename": "KeyboardInterrupt",
     "evalue": "",
     "output_type": "error",
     "traceback": [
      "\u001B[0;31m---------------------------------------------------------------------------\u001B[0m",
      "\u001B[0;31mKeyboardInterrupt\u001B[0m                         Traceback (most recent call last)",
      "Cell \u001B[0;32mIn[16], line 39\u001B[0m\n\u001B[1;32m      1\u001B[0m wandb\u001B[38;5;241m.\u001B[39mlogin()\n\u001B[1;32m      2\u001B[0m config \u001B[38;5;241m=\u001B[39m \u001B[38;5;28mdict\u001B[39m(\n\u001B[1;32m      3\u001B[0m     env_id\u001B[38;5;241m=\u001B[39m\u001B[38;5;124m\"\u001B[39m\u001B[38;5;124mALE/Breakout-v5\u001B[39m\u001B[38;5;124m\"\u001B[39m,\n\u001B[1;32m      4\u001B[0m     algorithm\u001B[38;5;241m=\u001B[39m\u001B[38;5;124m'\u001B[39m\u001B[38;5;124mPPO\u001B[39m\u001B[38;5;124m'\u001B[39m,\n\u001B[0;32m   (...)\u001B[0m\n\u001B[1;32m     35\u001B[0m     frame_stack\u001B[38;5;241m=\u001B[39m\u001B[38;5;241m4\u001B[39m,\n\u001B[1;32m     36\u001B[0m )\n\u001B[0;32m---> 39\u001B[0m \u001B[43mwandb\u001B[49m\u001B[38;5;241;43m.\u001B[39;49m\u001B[43minit\u001B[49m\u001B[43m(\u001B[49m\u001B[43mproject\u001B[49m\u001B[38;5;241;43m=\u001B[39;49m\u001B[43msave_name\u001B[49m\u001B[43m,\u001B[49m\u001B[43m \u001B[49m\u001B[43mconfig\u001B[49m\u001B[38;5;241;43m=\u001B[39;49m\u001B[43mconfig\u001B[49m\u001B[43m)\u001B[49m\n\u001B[1;32m     40\u001B[0m config \u001B[38;5;241m=\u001B[39m wandb\u001B[38;5;241m.\u001B[39mconfig\n",
      "File \u001B[0;32m~/Prog/Global-Feature-Extraction/venv/lib/python3.10/site-packages/wandb/sdk/wandb_init.py:1199\u001B[0m, in \u001B[0;36minit\u001B[0;34m(job_type, dir, config, project, entity, reinit, tags, group, name, notes, magic, config_exclude_keys, config_include_keys, anonymous, mode, allow_val_change, resume, force, tensorboard, sync_tensorboard, monitor_gym, save_code, id, settings)\u001B[0m\n\u001B[1;32m   1197\u001B[0m     \u001B[38;5;28;01massert\u001B[39;00m logger\n\u001B[1;32m   1198\u001B[0m     logger\u001B[38;5;241m.\u001B[39mwarning(\u001B[38;5;124m\"\u001B[39m\u001B[38;5;124minterrupted\u001B[39m\u001B[38;5;124m\"\u001B[39m, exc_info\u001B[38;5;241m=\u001B[39me)\n\u001B[0;32m-> 1199\u001B[0m     \u001B[38;5;28;01mraise\u001B[39;00m e\n\u001B[1;32m   1200\u001B[0m \u001B[38;5;28;01mexcept\u001B[39;00m \u001B[38;5;167;01mException\u001B[39;00m \u001B[38;5;28;01mas\u001B[39;00m e:\n\u001B[1;32m   1201\u001B[0m     error_seen \u001B[38;5;241m=\u001B[39m e\n",
      "File \u001B[0;32m~/Prog/Global-Feature-Extraction/venv/lib/python3.10/site-packages/wandb/sdk/wandb_init.py:1176\u001B[0m, in \u001B[0;36minit\u001B[0;34m(job_type, dir, config, project, entity, reinit, tags, group, name, notes, magic, config_exclude_keys, config_include_keys, anonymous, mode, allow_val_change, resume, force, tensorboard, sync_tensorboard, monitor_gym, save_code, id, settings)\u001B[0m\n\u001B[1;32m   1174\u001B[0m except_exit \u001B[38;5;241m=\u001B[39m wi\u001B[38;5;241m.\u001B[39msettings\u001B[38;5;241m.\u001B[39m_except_exit\n\u001B[1;32m   1175\u001B[0m \u001B[38;5;28;01mtry\u001B[39;00m:\n\u001B[0;32m-> 1176\u001B[0m     run \u001B[38;5;241m=\u001B[39m \u001B[43mwi\u001B[49m\u001B[38;5;241;43m.\u001B[39;49m\u001B[43minit\u001B[49m\u001B[43m(\u001B[49m\u001B[43m)\u001B[49m\n\u001B[1;32m   1177\u001B[0m     except_exit \u001B[38;5;241m=\u001B[39m wi\u001B[38;5;241m.\u001B[39msettings\u001B[38;5;241m.\u001B[39m_except_exit\n\u001B[1;32m   1178\u001B[0m \u001B[38;5;28;01mexcept\u001B[39;00m (\u001B[38;5;167;01mKeyboardInterrupt\u001B[39;00m, \u001B[38;5;167;01mException\u001B[39;00m) \u001B[38;5;28;01mas\u001B[39;00m e:\n",
      "File \u001B[0;32m~/Prog/Global-Feature-Extraction/venv/lib/python3.10/site-packages/wandb/sdk/wandb_init.py:756\u001B[0m, in \u001B[0;36m_WandbInit.init\u001B[0;34m(self)\u001B[0m\n\u001B[1;32m    753\u001B[0m logger\u001B[38;5;241m.\u001B[39minfo(\u001B[38;5;124mf\u001B[39m\u001B[38;5;124m\"\u001B[39m\u001B[38;5;124mcommunicating run to backend with \u001B[39m\u001B[38;5;132;01m{\u001B[39;00mtimeout\u001B[38;5;132;01m}\u001B[39;00m\u001B[38;5;124m second timeout\u001B[39m\u001B[38;5;124m\"\u001B[39m)\n\u001B[1;32m    755\u001B[0m run_init_handle \u001B[38;5;241m=\u001B[39m backend\u001B[38;5;241m.\u001B[39minterface\u001B[38;5;241m.\u001B[39mdeliver_run(run)\n\u001B[0;32m--> 756\u001B[0m result \u001B[38;5;241m=\u001B[39m \u001B[43mrun_init_handle\u001B[49m\u001B[38;5;241;43m.\u001B[39;49m\u001B[43mwait\u001B[49m\u001B[43m(\u001B[49m\n\u001B[1;32m    757\u001B[0m \u001B[43m    \u001B[49m\u001B[43mtimeout\u001B[49m\u001B[38;5;241;43m=\u001B[39;49m\u001B[43mtimeout\u001B[49m\u001B[43m,\u001B[49m\n\u001B[1;32m    758\u001B[0m \u001B[43m    \u001B[49m\u001B[43mon_progress\u001B[49m\u001B[38;5;241;43m=\u001B[39;49m\u001B[38;5;28;43mself\u001B[39;49m\u001B[38;5;241;43m.\u001B[39;49m\u001B[43m_on_progress_init\u001B[49m\u001B[43m,\u001B[49m\n\u001B[1;32m    759\u001B[0m \u001B[43m    \u001B[49m\u001B[43mcancel\u001B[49m\u001B[38;5;241;43m=\u001B[39;49m\u001B[38;5;28;43;01mTrue\u001B[39;49;00m\u001B[43m,\u001B[49m\n\u001B[1;32m    760\u001B[0m \u001B[43m\u001B[49m\u001B[43m)\u001B[49m\n\u001B[1;32m    761\u001B[0m \u001B[38;5;28;01mif\u001B[39;00m result:\n\u001B[1;32m    762\u001B[0m     run_result \u001B[38;5;241m=\u001B[39m result\u001B[38;5;241m.\u001B[39mrun_result\n",
      "File \u001B[0;32m~/Prog/Global-Feature-Extraction/venv/lib/python3.10/site-packages/wandb/sdk/lib/mailbox.py:283\u001B[0m, in \u001B[0;36mMailboxHandle.wait\u001B[0;34m(self, timeout, on_probe, on_progress, release, cancel)\u001B[0m\n\u001B[1;32m    280\u001B[0m     \u001B[38;5;28;01mif\u001B[39;00m \u001B[38;5;28mself\u001B[39m\u001B[38;5;241m.\u001B[39m_interface\u001B[38;5;241m.\u001B[39m_transport_keepalive_failed():\n\u001B[1;32m    281\u001B[0m         \u001B[38;5;28;01mraise\u001B[39;00m MailboxError(\u001B[38;5;124m\"\u001B[39m\u001B[38;5;124mtransport failed\u001B[39m\u001B[38;5;124m\"\u001B[39m)\n\u001B[0;32m--> 283\u001B[0m found, abandoned \u001B[38;5;241m=\u001B[39m \u001B[38;5;28;43mself\u001B[39;49m\u001B[38;5;241;43m.\u001B[39;49m\u001B[43m_slot\u001B[49m\u001B[38;5;241;43m.\u001B[39;49m\u001B[43m_get_and_clear\u001B[49m\u001B[43m(\u001B[49m\u001B[43mtimeout\u001B[49m\u001B[38;5;241;43m=\u001B[39;49m\u001B[43mwait_timeout\u001B[49m\u001B[43m)\u001B[49m\n\u001B[1;32m    284\u001B[0m \u001B[38;5;28;01mif\u001B[39;00m found:\n\u001B[1;32m    285\u001B[0m     \u001B[38;5;66;03m# Always update progress to 100% when done\u001B[39;00m\n\u001B[1;32m    286\u001B[0m     \u001B[38;5;28;01mif\u001B[39;00m on_progress \u001B[38;5;129;01mand\u001B[39;00m progress_handle \u001B[38;5;129;01mand\u001B[39;00m progress_sent:\n",
      "File \u001B[0;32m~/Prog/Global-Feature-Extraction/venv/lib/python3.10/site-packages/wandb/sdk/lib/mailbox.py:130\u001B[0m, in \u001B[0;36m_MailboxSlot._get_and_clear\u001B[0;34m(self, timeout)\u001B[0m\n\u001B[1;32m    128\u001B[0m \u001B[38;5;28;01mdef\u001B[39;00m \u001B[38;5;21m_get_and_clear\u001B[39m(\u001B[38;5;28mself\u001B[39m, timeout: \u001B[38;5;28mfloat\u001B[39m) \u001B[38;5;241m-\u001B[39m\u001B[38;5;241m>\u001B[39m Tuple[Optional[pb\u001B[38;5;241m.\u001B[39mResult], \u001B[38;5;28mbool\u001B[39m]:\n\u001B[1;32m    129\u001B[0m     found \u001B[38;5;241m=\u001B[39m \u001B[38;5;28;01mNone\u001B[39;00m\n\u001B[0;32m--> 130\u001B[0m     \u001B[38;5;28;01mif\u001B[39;00m \u001B[38;5;28;43mself\u001B[39;49m\u001B[38;5;241;43m.\u001B[39;49m\u001B[43m_wait\u001B[49m\u001B[43m(\u001B[49m\u001B[43mtimeout\u001B[49m\u001B[38;5;241;43m=\u001B[39;49m\u001B[43mtimeout\u001B[49m\u001B[43m)\u001B[49m:\n\u001B[1;32m    131\u001B[0m         \u001B[38;5;28;01mwith\u001B[39;00m \u001B[38;5;28mself\u001B[39m\u001B[38;5;241m.\u001B[39m_lock:\n\u001B[1;32m    132\u001B[0m             found \u001B[38;5;241m=\u001B[39m \u001B[38;5;28mself\u001B[39m\u001B[38;5;241m.\u001B[39m_result\n",
      "File \u001B[0;32m~/Prog/Global-Feature-Extraction/venv/lib/python3.10/site-packages/wandb/sdk/lib/mailbox.py:126\u001B[0m, in \u001B[0;36m_MailboxSlot._wait\u001B[0;34m(self, timeout)\u001B[0m\n\u001B[1;32m    125\u001B[0m \u001B[38;5;28;01mdef\u001B[39;00m \u001B[38;5;21m_wait\u001B[39m(\u001B[38;5;28mself\u001B[39m, timeout: \u001B[38;5;28mfloat\u001B[39m) \u001B[38;5;241m-\u001B[39m\u001B[38;5;241m>\u001B[39m \u001B[38;5;28mbool\u001B[39m:\n\u001B[0;32m--> 126\u001B[0m     \u001B[38;5;28;01mreturn\u001B[39;00m \u001B[38;5;28;43mself\u001B[39;49m\u001B[38;5;241;43m.\u001B[39;49m\u001B[43m_event\u001B[49m\u001B[38;5;241;43m.\u001B[39;49m\u001B[43mwait\u001B[49m\u001B[43m(\u001B[49m\u001B[43mtimeout\u001B[49m\u001B[38;5;241;43m=\u001B[39;49m\u001B[43mtimeout\u001B[49m\u001B[43m)\u001B[49m\n",
      "File \u001B[0;32m/usr/lib/python3.10/threading.py:607\u001B[0m, in \u001B[0;36mEvent.wait\u001B[0;34m(self, timeout)\u001B[0m\n\u001B[1;32m    605\u001B[0m signaled \u001B[38;5;241m=\u001B[39m \u001B[38;5;28mself\u001B[39m\u001B[38;5;241m.\u001B[39m_flag\n\u001B[1;32m    606\u001B[0m \u001B[38;5;28;01mif\u001B[39;00m \u001B[38;5;129;01mnot\u001B[39;00m signaled:\n\u001B[0;32m--> 607\u001B[0m     signaled \u001B[38;5;241m=\u001B[39m \u001B[38;5;28;43mself\u001B[39;49m\u001B[38;5;241;43m.\u001B[39;49m\u001B[43m_cond\u001B[49m\u001B[38;5;241;43m.\u001B[39;49m\u001B[43mwait\u001B[49m\u001B[43m(\u001B[49m\u001B[43mtimeout\u001B[49m\u001B[43m)\u001B[49m\n\u001B[1;32m    608\u001B[0m \u001B[38;5;28;01mreturn\u001B[39;00m signaled\n",
      "File \u001B[0;32m/usr/lib/python3.10/threading.py:324\u001B[0m, in \u001B[0;36mCondition.wait\u001B[0;34m(self, timeout)\u001B[0m\n\u001B[1;32m    322\u001B[0m \u001B[38;5;28;01melse\u001B[39;00m:\n\u001B[1;32m    323\u001B[0m     \u001B[38;5;28;01mif\u001B[39;00m timeout \u001B[38;5;241m>\u001B[39m \u001B[38;5;241m0\u001B[39m:\n\u001B[0;32m--> 324\u001B[0m         gotit \u001B[38;5;241m=\u001B[39m \u001B[43mwaiter\u001B[49m\u001B[38;5;241;43m.\u001B[39;49m\u001B[43macquire\u001B[49m\u001B[43m(\u001B[49m\u001B[38;5;28;43;01mTrue\u001B[39;49;00m\u001B[43m,\u001B[49m\u001B[43m \u001B[49m\u001B[43mtimeout\u001B[49m\u001B[43m)\u001B[49m\n\u001B[1;32m    325\u001B[0m     \u001B[38;5;28;01melse\u001B[39;00m:\n\u001B[1;32m    326\u001B[0m         gotit \u001B[38;5;241m=\u001B[39m waiter\u001B[38;5;241m.\u001B[39macquire(\u001B[38;5;28;01mFalse\u001B[39;00m)\n",
      "\u001B[0;31mKeyboardInterrupt\u001B[0m: "
     ]
    }
   ],
   "source": [
    "wandb.login()\n",
    "config = dict(\n",
    "    env_id=\"ALE/Breakout-v5\",\n",
    "    algorithm='PPO',\n",
    "    #Hyperparams\n",
    "    policy=\"CnnPolicy\",\n",
    "    n_timesteps=1000,\n",
    "    n_envs=2,\n",
    "    learning_rate=2.5e-4,\n",
    "    n_steps=128,\n",
    "    batch_size=256,\n",
    "    n_epochs=4,\n",
    "    gamma=0.99,\n",
    "    gae_lambda=0.95,\n",
    "    clip_range=0.1,\n",
    "    clip_range_vf=None,\n",
    "    normalize_advantage=True,\n",
    "    normalize=False,\n",
    "    ent_coef=0.01,\n",
    "    vf_coef=0.5,\n",
    "    max_grad_norm=0.5,\n",
    "    use_sde=False,\n",
    "    sde_sample_freq=-1,\n",
    "    rollout_buffer_class=None,\n",
    "    rollout_buffer_kwargs=None,\n",
    "    target_kl=None,\n",
    "    stats_window_size=100,\n",
    "    tensorboard_log=None,\n",
    "    policy_kwargs=None,\n",
    "    verbose=0,\n",
    "    seed=None,\n",
    "    device='auto',\n",
    "    _init_setup_model=True,\n",
    "    env_wrapper='stable_baselines3.common.atari_wrappers.AtariWrapper',\n",
    "    frame_stack=4,\n",
    ")\n",
    "\n",
    "\n",
    "wandb.init(project=save_name, config=config)\n",
    "config = wandb.config"
   ],
   "metadata": {
    "collapsed": false,
    "ExecuteTime": {
     "end_time": "2024-03-15T11:42:27.756499278Z",
     "start_time": "2024-03-15T11:41:40.887735331Z"
    }
   },
   "id": "25dc2fd081bc2f08",
   "execution_count": 16
  },
  {
   "cell_type": "markdown",
   "source": [
    "# Create callbacks"
   ],
   "metadata": {
    "collapsed": false
   },
   "id": "b96f4e70a9af239e"
  },
  {
   "cell_type": "code",
   "outputs": [],
   "source": [
    "vec_eval_env = make_atari_env(config.env_id, n_envs=config.n_envs)\n",
    "vec_eval_env = VecFrameStack(vec_eval_env, n_stack=config.frame_stack)\n",
    "vec_eval_env = VecTransposeImage(vec_eval_env)\n",
    "\n",
    "# WandbCallback\n",
    "wandb_callback_after_eval = WandbRewardLoggingCallback()\n",
    "\n",
    "# Save best model\n",
    "eval_callback = EvalCallback(vec_eval_env, best_model_save_path=\"./logs/\",\n",
    "                             log_path=\"./logs/\", eval_freq=max(500 // config.n_envs, 1), callback_after_eval=wandb_callback_after_eval,\n",
    "                             deterministic=True, render=False)\n"
   ],
   "metadata": {
    "collapsed": false,
    "ExecuteTime": {
     "start_time": "2024-03-15T11:41:21.576718949Z"
    }
   },
   "id": "3f47fb1c3e907b7a",
   "execution_count": null
  },
  {
   "cell_type": "markdown",
   "source": [
    "# Create vectorized env and stack frames"
   ],
   "metadata": {
    "collapsed": false
   },
   "id": "f8b15b4e06d109cf"
  },
  {
   "cell_type": "code",
   "outputs": [],
   "source": [
    "vec_train_env = make_atari_env(config.env_id, n_envs=config.n_envs)\n",
    "# Frame-stacking with 4 frames\n",
    "vec_train_env = VecFrameStack(vec_train_env, n_stack=config.frame_stack)\n",
    "vec_train_env = VecTransposeImage(vec_train_env)"
   ],
   "metadata": {
    "collapsed": false,
    "ExecuteTime": {
     "start_time": "2024-03-15T11:41:21.580847631Z"
    }
   },
   "id": "6228fe1f1f1916f5",
   "execution_count": null
  },
  {
   "cell_type": "markdown",
   "source": [
    "# Create model, learn and save with wandb"
   ],
   "metadata": {
    "collapsed": false
   },
   "id": "92e71946af36c557"
  },
  {
   "cell_type": "code",
   "outputs": [
    {
     "ename": "AttributeError",
     "evalue": "'dict' object has no attribute 'policy'",
     "output_type": "error",
     "traceback": [
      "\u001B[0;31m---------------------------------------------------------------------------\u001B[0m",
      "\u001B[0;31mAttributeError\u001B[0m                            Traceback (most recent call last)",
      "Cell \u001B[0;32mIn[15], line 17\u001B[0m\n\u001B[1;32m     14\u001B[0m \u001B[38;5;66;03m# Step 3: Unpack the filtered hyperparameters dictionary into the PPO constructor\u001B[39;00m\n\u001B[1;32m     15\u001B[0m model \u001B[38;5;241m=\u001B[39m PPO(\u001B[38;5;241m*\u001B[39m\u001B[38;5;241m*\u001B[39mppo_hyperparams, env\u001B[38;5;241m=\u001B[39mvec_train_env)\n\u001B[0;32m---> 17\u001B[0m model \u001B[38;5;241m=\u001B[39m PPO(\u001B[43mconfig\u001B[49m\u001B[38;5;241;43m.\u001B[39;49m\u001B[43mpolicy\u001B[49m, vec_train_env, verbose\u001B[38;5;241m=\u001B[39mverbose)\n\u001B[1;32m     18\u001B[0m wandb\u001B[38;5;241m.\u001B[39mwatch(model\u001B[38;5;241m.\u001B[39mpolicy, log\u001B[38;5;241m=\u001B[39m\u001B[38;5;124m\"\u001B[39m\u001B[38;5;124mall\u001B[39m\u001B[38;5;124m\"\u001B[39m, log_freq\u001B[38;5;241m=\u001B[39m\u001B[38;5;241m1000\u001B[39m)\n\u001B[1;32m     19\u001B[0m \u001B[38;5;28mprint\u001B[39m(config\u001B[38;5;241m.\u001B[39mn_timesteps)\n",
      "\u001B[0;31mAttributeError\u001B[0m: 'dict' object has no attribute 'policy'"
     ]
    }
   ],
   "source": [
    "if train_model:\n",
    "    ppo_params_keys = [\n",
    "        'policy', 'learning_rate', 'n_steps', 'batch_size', 'n_epochs',\n",
    "        'gamma', 'gae_lambda', 'clip_range', 'clip_range_vf', 'normalize_advantage',\n",
    "        'ent_coef', 'vf_coef', 'max_grad_norm', 'use_sde', 'sde_sample_freq',\n",
    "        'rollout_buffer_class', 'rollout_buffer_kwargs', 'target_kl',\n",
    "        'stats_window_size', 'tensorboard_log', 'policy_kwargs', 'verbose',\n",
    "        'seed', 'device', '_init_setup_model'\n",
    "    ]   \n",
    "    \n",
    "    # Step 2: Filter the config dictionary to extract only the hyperparameters for PPO\n",
    "    ppo_hyperparams = {key: config[key] for key in ppo_params_keys if key in config}\n",
    "    \n",
    "    # Step 3: Unpack the filtered hyperparameters dictionary into the PPO constructor\n",
    "    model = PPO(**ppo_hyperparams, env=vec_train_env)\n",
    "    \n",
    "    model = PPO(config.policy, vec_train_env, verbose=verbose)\n",
    "    wandb.watch(model.policy, log=\"all\", log_freq=1000)\n",
    "    print(config.n_timesteps)\n",
    "    #model.learn(total_timesteps=config.n_timesteps, callback=eval_callback, progress_bar=progress_bar)\n",
    "    #model.save(save_name)"
   ],
   "metadata": {
    "collapsed": false,
    "ExecuteTime": {
     "end_time": "2024-03-15T11:41:27.290114426Z",
     "start_time": "2024-03-15T11:41:27.188796157Z"
    }
   },
   "id": "28259fafc81561b7",
   "execution_count": 15
  },
  {
   "cell_type": "markdown",
   "source": [
    "# Export model to ONNX"
   ],
   "metadata": {
    "collapsed": false
   },
   "id": "7ab1edada55f0d2"
  },
  {
   "cell_type": "code",
   "outputs": [],
   "source": [
    "#Example for creating an ONNX model (should be saved to wandb)\n",
    "dummy_input = torch.randn(1, 4, 84, 84)  # Batch size of 1\n",
    "\n",
    "torch.onnx.export(model.policy,             # Model's policy to export\n",
    "                  dummy_input,              # Example input for the model\n",
    "                  f\"{logdir}{save_name}.onnx\") # Path to save the ONNX model\n"
   ],
   "metadata": {
    "collapsed": false,
    "ExecuteTime": {
     "end_time": "2024-03-15T11:41:21.590255738Z",
     "start_time": "2024-03-15T11:41:21.589390948Z"
    }
   },
   "id": "fcf2346edbe9b4f6",
   "execution_count": null
  },
  {
   "cell_type": "markdown",
   "source": [
    "# Save files to wandb"
   ],
   "metadata": {
    "collapsed": false
   },
   "id": "a7e528c79e5d5f04"
  },
  {
   "cell_type": "code",
   "outputs": [],
   "source": [
    "# Assuming `logdir` and `save_name` are defined variables\n",
    "\n",
    "wandb.save(f\"{logdir}best_model.zip\")\n",
    "wandb.save(f\"{logdir}evaluations.npz\")\n",
    "wandb.save(f\"{logdir}{save_name}.onnx\")"
   ],
   "metadata": {
    "collapsed": false,
    "ExecuteTime": {
     "start_time": "2024-03-15T11:41:21.594796492Z"
    }
   },
   "id": "e9cdaaed9d3b1d5c",
   "execution_count": null
  },
  {
   "cell_type": "markdown",
   "source": [
    "# Load and evaluate Model"
   ],
   "metadata": {
    "collapsed": false
   },
   "id": "163eabb49c4390ca"
  },
  {
   "cell_type": "code",
   "outputs": [],
   "source": [
    "if eval_model:\n",
    "    model = PPO.load(\"logs/best_model.zip\", env=vec_eval_env)\n",
    "    mean_reward, std_reward = evaluate_policy(model, model.get_env(), n_eval_episodes=2, render=False, fps=30)\n",
    "    print(f\"Mean reward: {mean_reward:.2f} +/- {std_reward:.2f}\")\n",
    "    "
   ],
   "metadata": {
    "collapsed": false,
    "ExecuteTime": {
     "start_time": "2024-03-15T11:41:21.595120667Z"
    }
   },
   "id": "5c082cbec6e990a3",
   "execution_count": null
  },
  {
   "cell_type": "markdown",
   "source": [],
   "metadata": {
    "collapsed": false
   },
   "id": "7dcefa97ae0410f2"
  },
  {
   "cell_type": "code",
   "outputs": [],
   "source": [
    "print(model.policy)"
   ],
   "metadata": {
    "collapsed": false,
    "ExecuteTime": {
     "start_time": "2024-03-15T11:41:21.638082935Z"
    }
   },
   "id": "7397efbea98d33d3",
   "execution_count": null
  },
  {
   "cell_type": "markdown",
   "source": [
    "# Wrap up"
   ],
   "metadata": {
    "collapsed": false
   },
   "id": "6a0b7708e4c57b2c"
  },
  {
   "cell_type": "code",
   "outputs": [],
   "source": [
    "wandb.finish()"
   ],
   "metadata": {
    "collapsed": false,
    "ExecuteTime": {
     "start_time": "2024-03-15T11:41:21.638449480Z"
    }
   },
   "id": "9a4ee3b9c8621646",
   "execution_count": null
  }
 ],
 "metadata": {
  "kernelspec": {
   "display_name": "Python 3",
   "language": "python",
   "name": "python3"
  },
  "language_info": {
   "codemirror_mode": {
    "name": "ipython",
    "version": 2
   },
   "file_extension": ".py",
   "mimetype": "text/x-python",
   "name": "python",
   "nbconvert_exporter": "python",
   "pygments_lexer": "ipython2",
   "version": "2.7.6"
  }
 },
 "nbformat": 4,
 "nbformat_minor": 5
}
