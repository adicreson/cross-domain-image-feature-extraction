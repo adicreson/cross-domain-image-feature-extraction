{
 "cells": [
  {
   "cell_type": "code",
   "execution_count": 1,
   "id": "initial_id",
   "metadata": {
    "collapsed": true,
    "ExecuteTime": {
     "end_time": "2024-04-19T11:43:00.906049Z",
     "start_time": "2024-04-19T11:42:50.887437200Z"
    }
   },
   "outputs": [],
   "source": [
    "import gymnasium as gym\n",
    "from stable_baselines3 import PPO\n",
    "import wandb"
   ]
  },
  {
   "cell_type": "code",
   "outputs": [
    {
     "name": "stdout",
     "output_type": "stream",
     "text": [
      "(12, 210, 160)\n"
     ]
    },
    {
     "name": "stderr",
     "output_type": "stream",
     "text": [
      "C:\\Users\\Lenovo\\PycharmProjects\\Global-Feature-Extraction\\venv\\Lib\\site-packages\\stable_baselines3\\common\\save_util.py:166: UserWarning: Could not deserialize object learning_rate. Consider using `custom_objects` argument to replace this object.\n",
      "Exception: code() argument 13 must be str, not int\n",
      "  warnings.warn(\n",
      "C:\\Users\\Lenovo\\PycharmProjects\\Global-Feature-Extraction\\venv\\Lib\\site-packages\\stable_baselines3\\common\\save_util.py:166: UserWarning: Could not deserialize object clip_range. Consider using `custom_objects` argument to replace this object.\n",
      "Exception: code() argument 13 must be str, not int\n",
      "  warnings.warn(\n",
      "C:\\Users\\Lenovo\\PycharmProjects\\Global-Feature-Extraction\\venv\\Lib\\site-packages\\stable_baselines3\\common\\save_util.py:166: UserWarning: Could not deserialize object lr_schedule. Consider using `custom_objects` argument to replace this object.\n",
      "Exception: code() argument 13 must be str, not int\n",
      "  warnings.warn(\n"
     ]
    },
    {
     "name": "stdout",
     "output_type": "stream",
     "text": [
      "Running evaluation\n"
     ]
    },
    {
     "name": "stderr",
     "output_type": "stream",
     "text": [
      "C:\\Users\\Lenovo\\PycharmProjects\\Global-Feature-Extraction\\venv\\Lib\\site-packages\\gymnasium\\utils\\passive_env_checker.py:335: UserWarning: \u001B[33mWARN: No render fps was declared in the environment (env.metadata['render_fps'] is None or not defined), rendering may occur at inconsistent fps.\u001B[0m\n",
      "  logger.warn(\n"
     ]
    }
   ],
   "source": [
    "from stable_baselines3.common.vec_env import VecFrameStack, VecTransposeImage\n",
    "from utils import evaluate_policy, make_custom_atari_wrapper\n",
    "\n",
    "\n",
    "vec_eval_env = make_custom_atari_wrapper(\"BreakoutNoFrameskip-v4\", n_envs=3)\n",
    "vec_eval_env = VecFrameStack(vec_eval_env, n_stack=4)\n",
    "vec_eval_env = VecTransposeImage(vec_eval_env)\n",
    "print(vec_eval_env.observation_space.shape)\n",
    "\n",
    "model = PPO.load(\"best_model.zip\", env=vec_eval_env)\n",
    "\n",
    "mean_reward, std_reward = evaluate_policy(model, vec_eval_env, n_eval_episodes=10, render=True)"
   ],
   "metadata": {
    "collapsed": false,
    "is_executing": true,
    "ExecuteTime": {
     "start_time": "2024-04-19T11:43:00.911000200Z"
    }
   },
   "id": "edf8659e4e6da43",
   "execution_count": null
  },
  {
   "cell_type": "code",
   "outputs": [],
   "source": [],
   "metadata": {
    "collapsed": false,
    "is_executing": true
   },
   "id": "d8a6990396047715"
  }
 ],
 "metadata": {
  "kernelspec": {
   "display_name": "Python 3",
   "language": "python",
   "name": "python3"
  },
  "language_info": {
   "codemirror_mode": {
    "name": "ipython",
    "version": 2
   },
   "file_extension": ".py",
   "mimetype": "text/x-python",
   "name": "python",
   "nbconvert_exporter": "python",
   "pygments_lexer": "ipython2",
   "version": "2.7.6"
  }
 },
 "nbformat": 4,
 "nbformat_minor": 5
}
