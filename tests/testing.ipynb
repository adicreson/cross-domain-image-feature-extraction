{
 "cells": [
  {
   "cell_type": "code",
   "outputs": [
    {
     "name": "stdout",
     "output_type": "stream",
     "text": [
      "torch.Size([1, 256])\n",
      "ResNet(\n",
      "  (conv1): Conv2d(3, 64, kernel_size=(7, 7), stride=(2, 2), padding=(3, 3), bias=False)\n",
      "  (bn1): BatchNorm2d(64, eps=1e-05, momentum=0.1, affine=True, track_running_stats=True)\n",
      "  (relu): ReLU(inplace=True)\n",
      "  (maxpool): MaxPool2d(kernel_size=3, stride=2, padding=1, dilation=1, ceil_mode=False)\n",
      "  (layer1): Sequential(\n",
      "    (0): Bottleneck(\n",
      "      (conv1): Conv2d(64, 64, kernel_size=(1, 1), stride=(1, 1), bias=False)\n",
      "      (bn1): BatchNorm2d(64, eps=1e-05, momentum=0.1, affine=True, track_running_stats=True)\n",
      "      (conv2): Conv2d(64, 64, kernel_size=(3, 3), stride=(1, 1), padding=(1, 1), bias=False)\n",
      "      (bn2): BatchNorm2d(64, eps=1e-05, momentum=0.1, affine=True, track_running_stats=True)\n",
      "      (conv3): Conv2d(64, 256, kernel_size=(1, 1), stride=(1, 1), bias=False)\n",
      "      (bn3): BatchNorm2d(256, eps=1e-05, momentum=0.1, affine=True, track_running_stats=True)\n",
      "      (relu): ReLU(inplace=True)\n",
      "      (downsample): Sequential(\n",
      "        (0): Conv2d(64, 256, kernel_size=(1, 1), stride=(1, 1), bias=False)\n",
      "        (1): BatchNorm2d(256, eps=1e-05, momentum=0.1, affine=True, track_running_stats=True)\n",
      "      )\n",
      "    )\n",
      "    (1): Bottleneck(\n",
      "      (conv1): Conv2d(256, 64, kernel_size=(1, 1), stride=(1, 1), bias=False)\n",
      "      (bn1): BatchNorm2d(64, eps=1e-05, momentum=0.1, affine=True, track_running_stats=True)\n",
      "      (conv2): Conv2d(64, 64, kernel_size=(3, 3), stride=(1, 1), padding=(1, 1), bias=False)\n",
      "      (bn2): BatchNorm2d(64, eps=1e-05, momentum=0.1, affine=True, track_running_stats=True)\n",
      "      (conv3): Conv2d(64, 256, kernel_size=(1, 1), stride=(1, 1), bias=False)\n",
      "      (bn3): BatchNorm2d(256, eps=1e-05, momentum=0.1, affine=True, track_running_stats=True)\n",
      "      (relu): ReLU(inplace=True)\n",
      "    )\n",
      "  )\n",
      "  (layer2): Identity()\n",
      "  (layer3): Identity()\n",
      "  (layer4): Identity()\n",
      "  (avgpool): AdaptiveAvgPool2d(output_size=(1, 1))\n",
      "  (fc): Identity()\n",
      ")\n"
     ]
    }
   ],
   "source": [
    "import torch\n",
    "import torch.nn as nn\n",
    "import torchvision.models as models\n",
    "\n",
    "# Define a function to create a ResNet model with custom stages\n",
    "def resnet_custom_stages(model, stages, blocks=3, **kwargs):\n",
    "    if stages < 1 or stages > 4 or not isinstance(stages, int):\n",
    "        raise ValueError(\"Number of stages must be between 1 and 4.\")\n",
    "    if blocks < 1 or blocks > 6 or not isinstance(blocks, int):\n",
    "        raise ValueError(\"Number of blocks must be greater than 0.\")\n",
    "\n",
    "    # Determine the number of layers to include in each stage\n",
    "    num_blocks = [3, 4, 6, 3]\n",
    "    layers = {\n",
    "        1: [3, 0, 0, 0],\n",
    "        2: [3, 4, 0, 0],\n",
    "        3: [3, 4, 6, 0],\n",
    "        4: [3, 4, 6, 3]\n",
    "    }\n",
    "    if not blocks:\n",
    "        layers[stages][stages-1] = num_blocks[stages-1]\n",
    "    else:\n",
    "        layers[stages][stages-1] = blocks\n",
    "\n",
    "    # Create the model with the specified stages\n",
    "    model = models.resnet.ResNet(models.resnet.Bottleneck, layers[stages], **kwargs)\n",
    "    model.fc = nn.Identity() \n",
    "    \n",
    "    # Remove extra stages if needed\n",
    "    if stages < 4:\n",
    "        model.layer4 = nn.Identity()\n",
    "        if stages < 3:\n",
    "            model.layer3 = nn.Identity()\n",
    "            if stages < 2:\n",
    "                model.layer2 = nn.Identity()\n",
    "\n",
    "    # Load pre-trained weights from torchvision\n",
    "    pretrained_model = model\n",
    "    pretrained_state_dict = pretrained_model.state_dict()\n",
    "    model.load_state_dict(pretrained_state_dict, strict=False)\n",
    "\n",
    "    return model\n",
    "\n",
    "# Create a ResNet model with only the first two stages\n",
    "model = models.resnet50(weights='DEFAULT')\n",
    "resnet_first_two_stages = resnet_custom_stages(model, stages=1, blocks=2)\n",
    "\n",
    "# Optionally, load pre-trained weights\n",
    "# resnet_first_two_stages = resnet_custom_stages(stages=1, pretrained=True)\n",
    "\n",
    "print(resnet_first_two_stages.forward(torch.randn(1, 3, 224, 224)).shape)\n",
    "print(resnet_first_two_stages)"
   ],
   "metadata": {
    "collapsed": false,
    "ExecuteTime": {
     "end_time": "2024-03-29T11:08:39.048071Z",
     "start_time": "2024-03-29T11:08:38.213568700Z"
    }
   },
   "id": "ccc50c015a8d2d70",
   "execution_count": 100
  },
  {
   "cell_type": "code",
   "outputs": [
    {
     "data": {
      "text/plain": "======================================================================\nLayer (type:depth-idx)                        Param #\n======================================================================\nStageFeatureExtractor                         --\n├─ResNet: 1-1                                 --\n│    └─Conv2d: 2-1                            (9,408)\n│    └─BatchNorm2d: 2-2                       (128)\n│    └─ReLU: 2-3                              --\n│    └─MaxPool2d: 2-4                         --\n│    └─Sequential: 2-5                        --\n│    │    └─Bottleneck: 3-1                   (75,008)\n│    │    └─Bottleneck: 3-2                   (70,400)\n│    │    └─Bottleneck: 3-3                   (70,400)\n│    └─Sequential: 2-6                        --\n│    │    └─Bottleneck: 3-4                   (379,392)\n│    │    └─Bottleneck: 3-5                   (280,064)\n│    │    └─Bottleneck: 3-6                   (280,064)\n│    │    └─Bottleneck: 3-7                   (280,064)\n│    └─Sequential: 2-7                        --\n│    │    └─Bottleneck: 3-8                   (1,512,448)\n│    │    └─Bottleneck: 3-9                   (1,117,184)\n│    │    └─Bottleneck: 3-10                  (1,117,184)\n│    │    └─Bottleneck: 3-11                  (1,117,184)\n│    │    └─Bottleneck: 3-12                  (1,117,184)\n│    │    └─Bottleneck: 3-13                  (1,117,184)\n│    └─Sequential: 2-8                        --\n│    │    └─Bottleneck: 3-14                  (6,039,552)\n│    │    └─Bottleneck: 3-15                  (4,462,592)\n│    │    └─Bottleneck: 3-16                  (4,462,592)\n│    └─AdaptiveAvgPool2d: 2-9                 --\n│    └─Linear: 2-10                           (2,049,000)\n======================================================================\nTotal params: 25,557,032\nTrainable params: 0\nNon-trainable params: 25,557,032\n======================================================================"
     },
     "execution_count": 95,
     "metadata": {},
     "output_type": "execute_result"
    }
   ],
   "source": [
    "from torchvision.models import ResNet50_Weights\n",
    "from torchinfo import torchinfo\n",
    "from feature_extraction.feature_extractors.resnet.stage_feature_extractor import StageFeatureExtractor\n",
    "\n",
    "torchinfo.summary(StageFeatureExtractor(models.resnet50(weights=ResNet50_Weights.IMAGENET1K_V2), num_stages=1))"
   ],
   "metadata": {
    "collapsed": false,
    "ExecuteTime": {
     "end_time": "2024-03-29T00:12:51.235269Z",
     "start_time": "2024-03-29T00:12:50.633424200Z"
    }
   },
   "id": "cba5addc2b6c74c8",
   "execution_count": 95
  },
  {
   "cell_type": "code",
   "outputs": [
    {
     "data": {
      "text/plain": "=================================================================\nLayer (type:depth-idx)                   Param #\n=================================================================\nResNet                                   --\n├─Conv2d: 1-1                            9,408\n├─BatchNorm2d: 1-2                       128\n├─ReLU: 1-3                              --\n├─MaxPool2d: 1-4                         --\n├─Sequential: 1-5                        --\n│    └─Bottleneck: 2-1                   --\n│    │    └─Conv2d: 3-1                  4,096\n│    │    └─BatchNorm2d: 3-2             128\n│    │    └─Conv2d: 3-3                  36,864\n│    │    └─BatchNorm2d: 3-4             128\n│    │    └─Conv2d: 3-5                  16,384\n│    │    └─BatchNorm2d: 3-6             512\n│    │    └─ReLU: 3-7                    --\n│    │    └─Sequential: 3-8              16,896\n├─Identity: 1-6                          --\n├─Identity: 1-7                          --\n├─Identity: 1-8                          --\n├─AdaptiveAvgPool2d: 1-9                 --\n├─Identity: 1-10                         --\n=================================================================\nTotal params: 84,544\nTrainable params: 84,544\nNon-trainable params: 0\n================================================================="
     },
     "execution_count": 102,
     "metadata": {},
     "output_type": "execute_result"
    }
   ],
   "source": [
    "def custom_resnet(pretrained_model, stages=1, blocks=3, **kwargs):\n",
    "    if stages < 1 or stages > 4 or not isinstance(stages, int):\n",
    "        raise ValueError(\"Number of stages must be between 1 and 4.\")\n",
    "    if blocks < 1 or blocks > 6 or not isinstance(blocks, int):\n",
    "        raise ValueError(\"Number of blocks must be greater than 0.\")\n",
    "\n",
    "    # Determine the number of layers to include in each stage\n",
    "    num_blocks = [3, 4, 6, 3]\n",
    "    layers = {\n",
    "        1: [3, 0, 0, 0],\n",
    "        2: [3, 4, 0, 0],\n",
    "        3: [3, 4, 6, 0],\n",
    "        4: [3, 4, 6, 3]\n",
    "    }\n",
    "    if not blocks:\n",
    "        layers[stages][stages - 1] = num_blocks[stages - 1]\n",
    "    else:\n",
    "        layers[stages][stages - 1] = blocks\n",
    "\n",
    "    # Create the model with the specified stages\n",
    "    custom_model = models.resnet.ResNet(models.resnet.Bottleneck, layers[stages], **kwargs)\n",
    "    custom_model.fc = nn.Identity()\n",
    "\n",
    "    # Remove extra stages if needed\n",
    "    if stages < 4:\n",
    "        custom_model.layer4 = nn.Identity()\n",
    "        if stages < 3:\n",
    "            custom_model.layer3 = nn.Identity()\n",
    "            if stages < 2:\n",
    "                custom_model.layer2 = nn.Identity()\n",
    "\n",
    "    # Load pre-trained weights from torchvision\n",
    "    pretrained_state_dict = pretrained_model.state_dict()\n",
    "    custom_model.load_state_dict(pretrained_state_dict, strict=False)\n",
    "\n",
    "    return custom_model\n",
    "\n",
    "torchinfo.summary(custom_resnet(models.resnet50(weights=ResNet50_Weights.IMAGENET1K_V2), stages=1, blocks=1))"
   ],
   "metadata": {
    "collapsed": false,
    "ExecuteTime": {
     "end_time": "2024-03-29T13:04:08.184668800Z",
     "start_time": "2024-03-29T13:04:07.325997200Z"
    }
   },
   "id": "e348b3f9da9fbf5a",
   "execution_count": 102
  }
 ],
 "metadata": {
  "kernelspec": {
   "display_name": "Python 3",
   "language": "python",
   "name": "python3"
  },
  "language_info": {
   "codemirror_mode": {
    "name": "ipython",
    "version": 2
   },
   "file_extension": ".py",
   "mimetype": "text/x-python",
   "name": "python",
   "nbconvert_exporter": "python",
   "pygments_lexer": "ipython2",
   "version": "2.7.6"
  }
 },
 "nbformat": 4,
 "nbformat_minor": 5
}
