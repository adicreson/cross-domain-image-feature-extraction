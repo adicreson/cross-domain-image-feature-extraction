{
 "cells": [
  {
   "cell_type": "code",
   "outputs": [
    {
     "name": "stdout",
     "output_type": "stream",
     "text": [
      "torch.Size([1, 256])\n"
     ]
    },
    {
     "data": {
      "text/plain": "=================================================================\nLayer (type:depth-idx)                   Param #\n=================================================================\nResNet                                   --\n├─Conv2d: 1-1                            9,408\n├─BatchNorm2d: 1-2                       128\n├─ReLU: 1-3                              --\n├─MaxPool2d: 1-4                         --\n├─Sequential: 1-5                        --\n│    └─Bottleneck: 2-1                   --\n│    │    └─Conv2d: 3-1                  4,096\n│    │    └─BatchNorm2d: 3-2             128\n│    │    └─Conv2d: 3-3                  36,864\n│    │    └─BatchNorm2d: 3-4             128\n│    │    └─Conv2d: 3-5                  16,384\n│    │    └─BatchNorm2d: 3-6             512\n│    │    └─ReLU: 3-7                    --\n│    │    └─Sequential: 3-8              16,896\n│    └─Bottleneck: 2-2                   --\n│    │    └─Conv2d: 3-9                  16,384\n│    │    └─BatchNorm2d: 3-10            128\n│    │    └─Conv2d: 3-11                 36,864\n│    │    └─BatchNorm2d: 3-12            128\n│    │    └─Conv2d: 3-13                 16,384\n│    │    └─BatchNorm2d: 3-14            512\n│    │    └─ReLU: 3-15                   --\n├─Identity: 1-6                          --\n├─Identity: 1-7                          --\n├─Identity: 1-8                          --\n├─AdaptiveAvgPool2d: 1-9                 --\n├─Identity: 1-10                         --\n=================================================================\nTotal params: 154,944\nTrainable params: 154,944\nNon-trainable params: 0\n================================================================="
     },
     "execution_count": 93,
     "metadata": {},
     "output_type": "execute_result"
    }
   ],
   "source": [
    "import torch\n",
    "import torch.nn as nn\n",
    "import torchvision.models as models\n",
    "\n",
    "# Define a function to create a ResNet model with custom stages\n",
    "def resnet_custom_stages(model, stages, blocks=3, **kwargs):\n",
    "    if stages < 1 or stages > 4 or not isinstance(stages, int):\n",
    "        raise ValueError(\"Number of stages must be between 1 and 4.\")\n",
    "    if blocks < 1 or blocks > 6 or not isinstance(blocks, int):\n",
    "        raise ValueError(\"Number of blocks must be greater than 0.\")\n",
    "\n",
    "    # Determine the number of layers to include in each stage\n",
    "    num_blocks = [3, 4, 6, 3]\n",
    "    layers = {\n",
    "        1: [3, 0, 0, 0],\n",
    "        2: [3, 4, 0, 0],\n",
    "        3: [3, 4, 6, 0],\n",
    "        4: [3, 4, 6, 3]\n",
    "    }\n",
    "    if not blocks:\n",
    "        layers[stages][stages-1] = num_blocks[stages-1]\n",
    "    else:\n",
    "        layers[stages][stages-1] = blocks\n",
    "\n",
    "    # Create the model with the specified stages\n",
    "    model = models.resnet.ResNet(models.resnet.Bottleneck, layers[stages], **kwargs)\n",
    "    model.fc = nn.Identity() \n",
    "    \n",
    "    # Remove extra stages if needed\n",
    "    if stages < 4:\n",
    "        model.layer4 = nn.Identity()\n",
    "        if stages < 3:\n",
    "            model.layer3 = nn.Identity()\n",
    "            if stages < 2:\n",
    "                model.layer2 = nn.Identity()\n",
    "\n",
    "    # Load pre-trained weights from torchvision\n",
    "    pretrained_model = model\n",
    "    pretrained_state_dict = pretrained_model.state_dict()\n",
    "    model.load_state_dict(pretrained_state_dict, strict=False)\n",
    "\n",
    "    return model\n",
    "\n",
    "# Create a ResNet model with only the first two stages\n",
    "resnet_first_two_stages = resnet_custom_stages(stages=1, blocks=2)\n",
    "\n",
    "# Optionally, load pre-trained weights\n",
    "# resnet_first_two_stages = resnet_custom_stages(stages=1, pretrained=True)\n",
    "\n",
    "print(resnet_first_two_stages.forward(torch.randn(1, 3, 224, 224)).shape)\n",
    "torchinfo.summary(resnet_first_two_stages)"
   ],
   "metadata": {
    "collapsed": false,
    "ExecuteTime": {
     "end_time": "2024-03-29T00:03:50.361612900Z",
     "start_time": "2024-03-29T00:03:49.618945300Z"
    }
   },
   "id": "ccc50c015a8d2d70",
   "execution_count": 93
  },
  {
   "cell_type": "code",
   "outputs": [
    {
     "data": {
      "text/plain": "======================================================================\nLayer (type:depth-idx)                        Param #\n======================================================================\nStageFeatureExtractor                         --\n├─ResNet: 1-1                                 --\n│    └─Conv2d: 2-1                            (9,408)\n│    └─BatchNorm2d: 2-2                       (128)\n│    └─ReLU: 2-3                              --\n│    └─MaxPool2d: 2-4                         --\n│    └─Sequential: 2-5                        --\n│    │    └─Bottleneck: 3-1                   (75,008)\n│    │    └─Bottleneck: 3-2                   (70,400)\n│    │    └─Bottleneck: 3-3                   (70,400)\n│    └─Sequential: 2-6                        --\n│    │    └─Bottleneck: 3-4                   (379,392)\n│    │    └─Bottleneck: 3-5                   (280,064)\n│    │    └─Bottleneck: 3-6                   (280,064)\n│    │    └─Bottleneck: 3-7                   (280,064)\n│    └─Sequential: 2-7                        --\n│    │    └─Bottleneck: 3-8                   (1,512,448)\n│    │    └─Bottleneck: 3-9                   (1,117,184)\n│    │    └─Bottleneck: 3-10                  (1,117,184)\n│    │    └─Bottleneck: 3-11                  (1,117,184)\n│    │    └─Bottleneck: 3-12                  (1,117,184)\n│    │    └─Bottleneck: 3-13                  (1,117,184)\n│    └─Sequential: 2-8                        --\n│    │    └─Bottleneck: 3-14                  (6,039,552)\n│    │    └─Bottleneck: 3-15                  (4,462,592)\n│    │    └─Bottleneck: 3-16                  (4,462,592)\n│    └─AdaptiveAvgPool2d: 2-9                 --\n│    └─Linear: 2-10                           (2,049,000)\n======================================================================\nTotal params: 25,557,032\nTrainable params: 0\nNon-trainable params: 25,557,032\n======================================================================"
     },
     "execution_count": 95,
     "metadata": {},
     "output_type": "execute_result"
    }
   ],
   "source": [
    "from torchvision.models import ResNet50_Weights\n",
    "from torchinfo import torchinfo\n",
    "from feature_extraction.feature_extractors.resnet.stage_feature_extractor import StageFeatureExtractor\n",
    "\n",
    "torchinfo.summary(StageFeatureExtractor(models.resnet50(weights=ResNet50_Weights.IMAGENET1K_V2), num_stages=1))"
   ],
   "metadata": {
    "collapsed": false,
    "ExecuteTime": {
     "end_time": "2024-03-29T00:12:51.235269Z",
     "start_time": "2024-03-29T00:12:50.633424200Z"
    }
   },
   "id": "cba5addc2b6c74c8",
   "execution_count": 95
  }
 ],
 "metadata": {
  "kernelspec": {
   "display_name": "Python 3",
   "language": "python",
   "name": "python3"
  },
  "language_info": {
   "codemirror_mode": {
    "name": "ipython",
    "version": 2
   },
   "file_extension": ".py",
   "mimetype": "text/x-python",
   "name": "python",
   "nbconvert_exporter": "python",
   "pygments_lexer": "ipython2",
   "version": "2.7.6"
  }
 },
 "nbformat": 4,
 "nbformat_minor": 5
}
