{
 "cells": [
  {
   "cell_type": "code",
   "outputs": [
    {
     "name": "stdout",
     "output_type": "stream",
     "text": [
      "torch.Size([1, 256])\n"
     ]
    },
    {
     "data": {
      "text/plain": "=================================================================\nLayer (type:depth-idx)                   Param #\n=================================================================\nResNet                                   --\n├─Conv2d: 1-1                            9,408\n├─BatchNorm2d: 1-2                       128\n├─ReLU: 1-3                              --\n├─MaxPool2d: 1-4                         --\n├─Sequential: 1-5                        --\n│    └─Bottleneck: 2-1                   --\n│    │    └─Conv2d: 3-1                  4,096\n│    │    └─BatchNorm2d: 3-2             128\n│    │    └─Conv2d: 3-3                  36,864\n│    │    └─BatchNorm2d: 3-4             128\n│    │    └─Conv2d: 3-5                  16,384\n│    │    └─BatchNorm2d: 3-6             512\n│    │    └─ReLU: 3-7                    --\n│    │    └─Sequential: 3-8              16,896\n│    └─Bottleneck: 2-2                   --\n│    │    └─Conv2d: 3-9                  16,384\n│    │    └─BatchNorm2d: 3-10            128\n│    │    └─Conv2d: 3-11                 36,864\n│    │    └─BatchNorm2d: 3-12            128\n│    │    └─Conv2d: 3-13                 16,384\n│    │    └─BatchNorm2d: 3-14            512\n│    │    └─ReLU: 3-15                   --\n│    └─Bottleneck: 2-3                   --\n│    │    └─Conv2d: 3-16                 16,384\n│    │    └─BatchNorm2d: 3-17            128\n│    │    └─Conv2d: 3-18                 36,864\n│    │    └─BatchNorm2d: 3-19            128\n│    │    └─Conv2d: 3-20                 16,384\n│    │    └─BatchNorm2d: 3-21            512\n│    │    └─ReLU: 3-22                   --\n├─Identity: 1-6                          --\n├─Identity: 1-7                          --\n├─Identity: 1-8                          --\n├─AdaptiveAvgPool2d: 1-9                 --\n├─Identity: 1-10                         --\n=================================================================\nTotal params: 225,344\nTrainable params: 225,344\nNon-trainable params: 0\n================================================================="
     },
     "execution_count": 80,
     "metadata": {},
     "output_type": "execute_result"
    }
   ],
   "source": [
    "from torchvision.models import ResNet50_Weights\n",
    "import torchinfo\n",
    "import torch\n",
    "import torch.nn as nn\n",
    "import torchvision.models as models\n",
    "\n",
    "# Define a function to create a ResNet model with custom stages\n",
    "def resnet_custom_stages(stages, blocks=3, **kwargs):\n",
    "    if stages < 1 or stages > 4 or not isinstance(stages, int):\n",
    "        raise ValueError(\"Number of stages must be between 1 and 4.\")\n",
    "    if blocks < 1 or blocks > 16 or not isinstance(blocks, int):\n",
    "        raise ValueError(\"Number of blocks must be greater than 0.\")\n",
    "\n",
    "    # Determine the number of layers to include in each stage\n",
    "    layers = {\n",
    "        1: [3, 0, 0, 0],\n",
    "        2: [3, 4, 0, 0],\n",
    "        3: [3, 4, 6, 0],\n",
    "        4: [3, 4, 6, 3]\n",
    "    }\n",
    "    if blocks:\n",
    "        layers[stages][stages-1] = blocks\n",
    "\n",
    "    # Create the model with the specified stages\n",
    "    model = models.resnet.ResNet(models.resnet.Bottleneck, layers[stages], **kwargs)\n",
    "    model.fc = nn.Identity() \n",
    "    \n",
    "    # Remove extra stages if needed\n",
    "    if stages < 4:\n",
    "        model.layer4 = nn.Identity()\n",
    "        if stages < 3:\n",
    "            model.layer3 = nn.Identity()\n",
    "            if stages < 2:\n",
    "                model.layer2 = nn.Identity()\n",
    "\n",
    "    # Load pre-trained weights from torchvision\n",
    "    pretrained_model = models.resnet50(weights=ResNet50_Weights.IMAGENET1K_V2)\n",
    "\n",
    "    # Copy weights for non-identity layers\n",
    "    own_state = model.state_dict()\n",
    "    pretrained_state = pretrained_model.state_dict()\n",
    "\n",
    "    for name, param in pretrained_state.items():\n",
    "        if name.startswith('layer'):\n",
    "            if name not in own_state:\n",
    "                continue\n",
    "            own_param = own_state[name]\n",
    "            if isinstance(own_param, nn.Identity):\n",
    "                continue\n",
    "            own_param.copy_(param)\n",
    "\n",
    "    return model\n",
    "\n",
    "# Create a ResNet model with only the first two stages\n",
    "resnet_stage = resnet_custom_stages(stages=1)\n",
    "\n",
    "\n",
    "print(resnet_stage.forward(torch.randn(1, 3, 224, 224)).shape)\n",
    "torchinfo.summary(resnet_stage)"
   ],
   "metadata": {
    "collapsed": false,
    "ExecuteTime": {
     "end_time": "2024-03-27T14:36:41.596540700Z",
     "start_time": "2024-03-27T14:36:40.974738800Z"
    }
   },
   "id": "83eaeb66f82017f2",
   "execution_count": 80
  },
  {
   "cell_type": "code",
   "outputs": [
    {
     "data": {
      "text/plain": "=================================================================\nLayer (type:depth-idx)                   Param #\n=================================================================\nResNet                                   --\n├─Conv2d: 1-1                            9,408\n├─BatchNorm2d: 1-2                       128\n├─ReLU: 1-3                              --\n├─MaxPool2d: 1-4                         --\n├─Sequential: 1-5                        --\n│    └─Bottleneck: 2-1                   --\n│    │    └─Conv2d: 3-1                  4,096\n│    │    └─BatchNorm2d: 3-2             128\n│    │    └─Conv2d: 3-3                  36,864\n│    │    └─BatchNorm2d: 3-4             128\n│    │    └─Conv2d: 3-5                  16,384\n│    │    └─BatchNorm2d: 3-6             512\n│    │    └─ReLU: 3-7                    --\n│    │    └─Sequential: 3-8              16,896\n│    └─Bottleneck: 2-2                   --\n│    │    └─Conv2d: 3-9                  16,384\n│    │    └─BatchNorm2d: 3-10            128\n│    │    └─Conv2d: 3-11                 36,864\n│    │    └─BatchNorm2d: 3-12            128\n│    │    └─Conv2d: 3-13                 16,384\n│    │    └─BatchNorm2d: 3-14            512\n│    │    └─ReLU: 3-15                   --\n│    └─Bottleneck: 2-3                   --\n│    │    └─Conv2d: 3-16                 16,384\n│    │    └─BatchNorm2d: 3-17            128\n│    │    └─Conv2d: 3-18                 36,864\n│    │    └─BatchNorm2d: 3-19            128\n│    │    └─Conv2d: 3-20                 16,384\n│    │    └─BatchNorm2d: 3-21            512\n│    │    └─ReLU: 3-22                   --\n├─Sequential: 1-6                        --\n│    └─Bottleneck: 2-4                   --\n│    │    └─Conv2d: 3-23                 32,768\n│    │    └─BatchNorm2d: 3-24            256\n│    │    └─Conv2d: 3-25                 147,456\n│    │    └─BatchNorm2d: 3-26            256\n│    │    └─Conv2d: 3-27                 65,536\n│    │    └─BatchNorm2d: 3-28            1,024\n│    │    └─ReLU: 3-29                   --\n│    │    └─Sequential: 3-30             132,096\n│    └─Bottleneck: 2-5                   --\n│    │    └─Conv2d: 3-31                 65,536\n│    │    └─BatchNorm2d: 3-32            256\n│    │    └─Conv2d: 3-33                 147,456\n│    │    └─BatchNorm2d: 3-34            256\n│    │    └─Conv2d: 3-35                 65,536\n│    │    └─BatchNorm2d: 3-36            1,024\n│    │    └─ReLU: 3-37                   --\n│    └─Bottleneck: 2-6                   --\n│    │    └─Conv2d: 3-38                 65,536\n│    │    └─BatchNorm2d: 3-39            256\n│    │    └─Conv2d: 3-40                 147,456\n│    │    └─BatchNorm2d: 3-41            256\n│    │    └─Conv2d: 3-42                 65,536\n│    │    └─BatchNorm2d: 3-43            1,024\n│    │    └─ReLU: 3-44                   --\n│    └─Bottleneck: 2-7                   --\n│    │    └─Conv2d: 3-45                 65,536\n│    │    └─BatchNorm2d: 3-46            256\n│    │    └─Conv2d: 3-47                 147,456\n│    │    └─BatchNorm2d: 3-48            256\n│    │    └─Conv2d: 3-49                 65,536\n│    │    └─BatchNorm2d: 3-50            1,024\n│    │    └─ReLU: 3-51                   --\n├─Sequential: 1-7                        --\n│    └─Bottleneck: 2-8                   --\n│    │    └─Conv2d: 3-52                 131,072\n│    │    └─BatchNorm2d: 3-53            512\n│    │    └─Conv2d: 3-54                 589,824\n│    │    └─BatchNorm2d: 3-55            512\n│    │    └─Conv2d: 3-56                 262,144\n│    │    └─BatchNorm2d: 3-57            2,048\n│    │    └─ReLU: 3-58                   --\n│    │    └─Sequential: 3-59             526,336\n│    └─Bottleneck: 2-9                   --\n│    │    └─Conv2d: 3-60                 262,144\n│    │    └─BatchNorm2d: 3-61            512\n│    │    └─Conv2d: 3-62                 589,824\n│    │    └─BatchNorm2d: 3-63            512\n│    │    └─Conv2d: 3-64                 262,144\n│    │    └─BatchNorm2d: 3-65            2,048\n│    │    └─ReLU: 3-66                   --\n│    └─Bottleneck: 2-10                  --\n│    │    └─Conv2d: 3-67                 262,144\n│    │    └─BatchNorm2d: 3-68            512\n│    │    └─Conv2d: 3-69                 589,824\n│    │    └─BatchNorm2d: 3-70            512\n│    │    └─Conv2d: 3-71                 262,144\n│    │    └─BatchNorm2d: 3-72            2,048\n│    │    └─ReLU: 3-73                   --\n│    └─Bottleneck: 2-11                  --\n│    │    └─Conv2d: 3-74                 262,144\n│    │    └─BatchNorm2d: 3-75            512\n│    │    └─Conv2d: 3-76                 589,824\n│    │    └─BatchNorm2d: 3-77            512\n│    │    └─Conv2d: 3-78                 262,144\n│    │    └─BatchNorm2d: 3-79            2,048\n│    │    └─ReLU: 3-80                   --\n│    └─Bottleneck: 2-12                  --\n│    │    └─Conv2d: 3-81                 262,144\n│    │    └─BatchNorm2d: 3-82            512\n│    │    └─Conv2d: 3-83                 589,824\n│    │    └─BatchNorm2d: 3-84            512\n│    │    └─Conv2d: 3-85                 262,144\n│    │    └─BatchNorm2d: 3-86            2,048\n│    │    └─ReLU: 3-87                   --\n│    └─Bottleneck: 2-13                  --\n│    │    └─Conv2d: 3-88                 262,144\n│    │    └─BatchNorm2d: 3-89            512\n│    │    └─Conv2d: 3-90                 589,824\n│    │    └─BatchNorm2d: 3-91            512\n│    │    └─Conv2d: 3-92                 262,144\n│    │    └─BatchNorm2d: 3-93            2,048\n│    │    └─ReLU: 3-94                   --\n├─Sequential: 1-8                        --\n│    └─Bottleneck: 2-14                  --\n│    │    └─Conv2d: 3-95                 524,288\n│    │    └─BatchNorm2d: 3-96            1,024\n│    │    └─Conv2d: 3-97                 2,359,296\n│    │    └─BatchNorm2d: 3-98            1,024\n│    │    └─Conv2d: 3-99                 1,048,576\n│    │    └─BatchNorm2d: 3-100           4,096\n│    │    └─ReLU: 3-101                  --\n│    │    └─Sequential: 3-102            2,101,248\n│    └─Bottleneck: 2-15                  --\n│    │    └─Conv2d: 3-103                1,048,576\n│    │    └─BatchNorm2d: 3-104           1,024\n│    │    └─Conv2d: 3-105                2,359,296\n│    │    └─BatchNorm2d: 3-106           1,024\n│    │    └─Conv2d: 3-107                1,048,576\n│    │    └─BatchNorm2d: 3-108           4,096\n│    │    └─ReLU: 3-109                  --\n│    └─Bottleneck: 2-16                  --\n│    │    └─Conv2d: 3-110                1,048,576\n│    │    └─BatchNorm2d: 3-111           1,024\n│    │    └─Conv2d: 3-112                2,359,296\n│    │    └─BatchNorm2d: 3-113           1,024\n│    │    └─Conv2d: 3-114                1,048,576\n│    │    └─BatchNorm2d: 3-115           4,096\n│    │    └─ReLU: 3-116                  --\n├─AdaptiveAvgPool2d: 1-9                 --\n├─Linear: 1-10                           2,049,000\n=================================================================\nTotal params: 25,557,032\nTrainable params: 25,557,032\nNon-trainable params: 0\n================================================================="
     },
     "execution_count": 66,
     "metadata": {},
     "output_type": "execute_result"
    }
   ],
   "source": [
    "import torch.nn as nn\n",
    "import torchvision.models as models\n",
    "\n",
    "torchinfo.summary(models.resnet50(weights='DEFAULT'))"
   ],
   "metadata": {
    "collapsed": false,
    "ExecuteTime": {
     "end_time": "2024-03-27T12:27:23.894594200Z",
     "start_time": "2024-03-27T12:27:23.284919100Z"
    }
   },
   "id": "7794ceb69eab1010",
   "execution_count": 66
  },
  {
   "cell_type": "code",
   "outputs": [],
   "source": [],
   "metadata": {
    "collapsed": false
   },
   "id": "bafedf6371d08f5a"
  }
 ],
 "metadata": {
  "kernelspec": {
   "display_name": "Python 3",
   "language": "python",
   "name": "python3"
  },
  "language_info": {
   "codemirror_mode": {
    "name": "ipython",
    "version": 2
   },
   "file_extension": ".py",
   "mimetype": "text/x-python",
   "name": "python",
   "nbconvert_exporter": "python",
   "pygments_lexer": "ipython2",
   "version": "2.7.6"
  }
 },
 "nbformat": 4,
 "nbformat_minor": 5
}
