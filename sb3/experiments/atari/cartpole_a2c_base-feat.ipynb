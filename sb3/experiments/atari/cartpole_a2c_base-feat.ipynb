{
 "cells": [
  {
   "cell_type": "code",
   "execution_count": 2,
   "outputs": [
    {
     "name": "stderr",
     "output_type": "stream",
     "text": [
      "2024-02-26 15:18:02.163335: E external/local_xla/xla/stream_executor/cuda/cuda_dnn.cc:9261] Unable to register cuDNN factory: Attempting to register factory for plugin cuDNN when one has already been registered\n",
      "2024-02-26 15:18:02.163427: E external/local_xla/xla/stream_executor/cuda/cuda_fft.cc:607] Unable to register cuFFT factory: Attempting to register factory for plugin cuFFT when one has already been registered\n",
      "2024-02-26 15:18:02.195163: E external/local_xla/xla/stream_executor/cuda/cuda_blas.cc:1515] Unable to register cuBLAS factory: Attempting to register factory for plugin cuBLAS when one has already been registered\n",
      "2024-02-26 15:18:02.265954: I tensorflow/core/platform/cpu_feature_guard.cc:182] This TensorFlow binary is optimized to use available CPU instructions in performance-critical operations.\n",
      "To enable the following instructions: AVX2 FMA, in other operations, rebuild TensorFlow with the appropriate compiler flags.\n",
      "2024-02-26 15:18:03.332900: W tensorflow/compiler/tf2tensorrt/utils/py_utils.cc:38] TF-TRT Warning: Could not find TensorRT\n"
     ]
    }
   ],
   "source": [
    "import gymnasium as gym\n",
    "\n",
    "from stable_baselines3 import A2C\n",
    "from stable_baselines3.common.vec_env import DummyVecEnv, SubprocVecEnv\n",
    "from stable_baselines3.common.env_util import make_vec_env\n",
    "from stable_baselines3.common.utils import set_random_seed"
   ],
   "metadata": {
    "collapsed": false,
    "ExecuteTime": {
     "end_time": "2024-02-26T14:18:05.372111580Z",
     "start_time": "2024-02-26T14:17:59.647434499Z"
    }
   },
   "id": "5c43948bb11dd4d3"
  },
  {
   "cell_type": "code",
   "execution_count": 3,
   "id": "initial_id",
   "metadata": {
    "collapsed": true,
    "ExecuteTime": {
     "end_time": "2024-01-26T11:38:42.660743468Z",
     "start_time": "2024-01-26T11:38:42.596410898Z"
    }
   },
   "outputs": [
    {
     "ename": "TypeError",
     "evalue": "make_vec_env() got an unexpected keyword argument 'render_mode'",
     "output_type": "error",
     "traceback": [
      "\u001B[0;31m---------------------------------------------------------------------------\u001B[0m",
      "\u001B[0;31mTypeError\u001B[0m                                 Traceback (most recent call last)",
      "Cell \u001B[0;32mIn[3], line 4\u001B[0m\n\u001B[1;32m      1\u001B[0m env_id \u001B[38;5;241m=\u001B[39m \u001B[38;5;124m\"\u001B[39m\u001B[38;5;124mCartPole-v1\u001B[39m\u001B[38;5;124m\"\u001B[39m\n\u001B[1;32m      2\u001B[0m num_cpu \u001B[38;5;241m=\u001B[39m \u001B[38;5;241m1\u001B[39m  \u001B[38;5;66;03m# Number of processes to use\u001B[39;00m\n\u001B[0;32m----> 4\u001B[0m vec_env \u001B[38;5;241m=\u001B[39m \u001B[43mmake_vec_env\u001B[49m\u001B[43m(\u001B[49m\u001B[43menv_id\u001B[49m\u001B[43m,\u001B[49m\u001B[43m \u001B[49m\u001B[43mn_envs\u001B[49m\u001B[38;5;241;43m=\u001B[39;49m\u001B[43mnum_cpu\u001B[49m\u001B[43m,\u001B[49m\u001B[43m \u001B[49m\u001B[43mseed\u001B[49m\u001B[38;5;241;43m=\u001B[39;49m\u001B[38;5;241;43m0\u001B[39;49m\u001B[43m,\u001B[49m\u001B[43m \u001B[49m\u001B[43mvec_env_cls\u001B[49m\u001B[38;5;241;43m=\u001B[39;49m\u001B[43mSubprocVecEnv\u001B[49m\u001B[43m,\u001B[49m\u001B[43m \u001B[49m\u001B[43mrender_mode\u001B[49m\u001B[38;5;241;43m=\u001B[39;49m\u001B[38;5;124;43m\"\u001B[39;49m\u001B[38;5;124;43mhuman\u001B[39;49m\u001B[38;5;124;43m\"\u001B[39;49m\u001B[43m)\u001B[49m\n\u001B[1;32m      6\u001B[0m model \u001B[38;5;241m=\u001B[39m A2C(\u001B[38;5;124m\"\u001B[39m\u001B[38;5;124mMlpPolicy\u001B[39m\u001B[38;5;124m\"\u001B[39m, vec_env, verbose\u001B[38;5;241m=\u001B[39m\u001B[38;5;241m1\u001B[39m)\n\u001B[1;32m      7\u001B[0m model\u001B[38;5;241m.\u001B[39mlearn(total_timesteps\u001B[38;5;241m=\u001B[39m\u001B[38;5;241m500000\u001B[39m)\n",
      "\u001B[0;31mTypeError\u001B[0m: make_vec_env() got an unexpected keyword argument 'render_mode'"
     ]
    }
   ],
   "source": [
    "env_id = \"CartPole-v1\"\n",
    "num_cpu = 8  # Number of processes to use\n",
    "\n",
    "vec_env = make_vec_env(env_id, n_envs=num_cpu, seed=0, vec_env_cls=SubprocVecEnv)\n",
    "\n",
    "model = A2C(\"MlpPolicy\", vec_env, verbose=1)\n",
    "model.learn(total_timesteps=500000)\n",
    "\n",
    "model.save(\"a2c_cartpole\")\n",
    "\n",
    "obs = vec_env.reset()\n",
    "for _ in range(1000):\n",
    "    action, _states = model.predict(obs)\n",
    "    obs, rewards, dones, info = vec_env.step(action)\n",
    "    vec_env.render()"
   ]
  },
  {
   "cell_type": "code",
   "execution_count": 3,
   "outputs": [
    {
     "name": "stdout",
     "output_type": "stream",
     "text": [
      "Using cpu device\n",
      "Wrapping the env with a `Monitor` wrapper\n",
      "Wrapping the env in a DummyVecEnv.\n"
     ]
    },
    {
     "ename": "KeyboardInterrupt",
     "evalue": "",
     "output_type": "error",
     "traceback": [
      "\u001B[0;31m---------------------------------------------------------------------------\u001B[0m",
      "\u001B[0;31mKeyboardInterrupt\u001B[0m                         Traceback (most recent call last)",
      "Cell \u001B[0;32mIn[3], line 20\u001B[0m\n\u001B[1;32m     18\u001B[0m \u001B[38;5;28;01mwhile\u001B[39;00m \u001B[38;5;129;01mnot\u001B[39;00m finished:\n\u001B[1;32m     19\u001B[0m     frame \u001B[38;5;241m=\u001B[39m env\u001B[38;5;241m.\u001B[39mrender()\n\u001B[0;32m---> 20\u001B[0m     \u001B[43mtime\u001B[49m\u001B[38;5;241;43m.\u001B[39;49m\u001B[43msleep\u001B[49m\u001B[43m(\u001B[49m\u001B[38;5;241;43m0.01\u001B[39;49m\u001B[43m)\u001B[49m  \u001B[38;5;66;03m# Add a small delay to slow down rendering\u001B[39;00m\n\u001B[1;32m     21\u001B[0m     action \u001B[38;5;241m=\u001B[39m model\u001B[38;5;241m.\u001B[39mpredict(observation)[\u001B[38;5;241m0\u001B[39m]\n\u001B[1;32m     22\u001B[0m     observation, reward, terminated, truncated, info \u001B[38;5;241m=\u001B[39m env\u001B[38;5;241m.\u001B[39mstep(action)\n",
      "\u001B[0;31mKeyboardInterrupt\u001B[0m: "
     ]
    }
   ],
   "source": [
    "import gymnasium as gym\n",
    "import time\n",
    "\n",
    "env = gym.make('CartPole-v1', render_mode=\"human\")\n",
    "#model.set_parameters(\"a2c_cartpole\", env)\n",
    "model = A2C(\"MlpPolicy\", env, verbose=1)\n",
    "model.set_parameters(\"a2c_cartpole\", env)\n",
    "\n",
    "\n",
    "episodes = 10\n",
    "\n",
    "for episode in range(1, episodes+1):    \n",
    "    observation, info = env.reset(seed=42)\n",
    "    finished = False\n",
    "    accumulated_reward = 0\n",
    "    \n",
    "    \n",
    "    while not finished:\n",
    "        frame = env.render()\n",
    "        time.sleep(0.01)  # Add a small delay to slow down rendering\n",
    "        action = model.predict(observation)[0]\n",
    "        observation, reward, terminated, truncated, info = env.step(action)\n",
    "        accumulated_reward += reward\n",
    "        finished = terminated or truncated\n",
    "\n",
    "        if terminated or truncated:\n",
    "            observation, info = env.reset()\n",
    "            print(\"Episode {} terminated\".format(episode))\n",
    "            print(\"Accumulated Reward: {}\".format(accumulated_reward))\n",
    "\n",
    "env.close()"
   ],
   "metadata": {
    "collapsed": false,
    "ExecuteTime": {
     "end_time": "2024-02-26T14:18:15.920040124Z",
     "start_time": "2024-02-26T14:18:05.380652031Z"
    }
   },
   "id": "e1cff84769deb79"
  }
 ],
 "metadata": {
  "kernelspec": {
   "display_name": "Python 3",
   "language": "python",
   "name": "python3"
  },
  "language_info": {
   "codemirror_mode": {
    "name": "ipython",
    "version": 2
   },
   "file_extension": ".py",
   "mimetype": "text/x-python",
   "name": "python",
   "nbconvert_exporter": "python",
   "pygments_lexer": "ipython2",
   "version": "2.7.6"
  }
 },
 "nbformat": 4,
 "nbformat_minor": 5
}
