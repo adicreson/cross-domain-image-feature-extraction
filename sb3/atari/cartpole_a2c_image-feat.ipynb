{
 "cells": [
  {
   "cell_type": "code",
   "execution_count": 1,
   "outputs": [
    {
     "name": "stderr",
     "output_type": "stream",
     "text": [
      "2024-01-30 12:34:45.101114: E external/local_xla/xla/stream_executor/cuda/cuda_dnn.cc:9261] Unable to register cuDNN factory: Attempting to register factory for plugin cuDNN when one has already been registered\n",
      "2024-01-30 12:34:45.101239: E external/local_xla/xla/stream_executor/cuda/cuda_fft.cc:607] Unable to register cuFFT factory: Attempting to register factory for plugin cuFFT when one has already been registered\n",
      "2024-01-30 12:34:45.137072: E external/local_xla/xla/stream_executor/cuda/cuda_blas.cc:1515] Unable to register cuBLAS factory: Attempting to register factory for plugin cuBLAS when one has already been registered\n",
      "2024-01-30 12:34:45.209497: I tensorflow/core/platform/cpu_feature_guard.cc:182] This TensorFlow binary is optimized to use available CPU instructions in performance-critical operations.\n",
      "To enable the following instructions: AVX2 FMA, in other operations, rebuild TensorFlow with the appropriate compiler flags.\n",
      "2024-01-30 12:34:46.529825: W tensorflow/compiler/tf2tensorrt/utils/py_utils.cc:38] TF-TRT Warning: Could not find TensorRT\n"
     ]
    }
   ],
   "source": [
    "import gymnasium as gym\n",
    "import numpy as np\n",
    "import time\n",
    "from stable_baselines3 import A2C\n",
    "from stable_baselines3.common.torch_layers import BaseFeaturesExtractor\n",
    "from stable_baselines3.common.env_util import make_vec_env\n",
    "from stable_baselines3.common.vec_env import VecFrameStack, VecTransposeImage, DummyVecEnv\n",
    "import torch.nn as nn"
   ],
   "metadata": {
    "collapsed": false,
    "ExecuteTime": {
     "end_time": "2024-01-30T11:34:48.721526314Z",
     "start_time": "2024-01-30T11:34:41.684029562Z"
    }
   },
   "id": "5c43948bb11dd4d3"
  },
  {
   "cell_type": "code",
   "execution_count": 2,
   "id": "initial_id",
   "metadata": {
    "collapsed": true,
    "ExecuteTime": {
     "end_time": "2024-01-30T11:34:48.734126481Z",
     "start_time": "2024-01-30T11:34:48.725402096Z"
    }
   },
   "outputs": [],
   "source": [
    "\n",
    "\n",
    "class CustomObservationWrapper(gym.ObservationWrapper):\n",
    "    def __init__(self, env, feature_extractor):\n",
    "        super(CustomObservationWrapper, self).__init__(env)\n",
    "        # Define the new observation space here, e.g., an image\n",
    "        self.observation_space = gym.spaces.Box(low=0, high=255, shape=(400, 600, 3), dtype=np.uint8)\n",
    "        self.observation_space = feature_extractor.output_dim\n",
    "        self.feature_extractor = feature_extractor\n",
    "\n",
    "    def observation(self, observation):\n",
    "        # Process the observation and return it\n",
    "        # For example, capturing an image from the environment\n",
    "        #Use model to get features\n",
    "        \n",
    "        return self.feature_extractor.extract_futrea()\n",
    "        \n",
    "        return self.env.render()\n",
    "\n",
    "\n"
   ]
  },
  {
   "cell_type": "code",
   "outputs": [],
   "source": [
    "env = gym.make('CartPole-v1', render_mode=\"rgb_array\")\n",
    "env = CustomObservationWrapper(env)\n",
    "\n",
    "# Wrap it into a DummyVecEnv for compatibility with SB3\n",
    "env = DummyVecEnv([lambda: env])\n",
    "env = VecTransposeImage(env)  # Required for CNN policies in SB3\n",
    "\n",
    "model = A2C(\"CnnPolicy\", env, verbose=1)\n",
    "model.learn(total_timesteps=10000, progress_bar=True)"
   ],
   "metadata": {
    "collapsed": false
   },
   "id": "a6986260305e261b"
  },
  {
   "cell_type": "code",
   "execution_count": 4,
   "outputs": [
    {
     "name": "stdout",
     "output_type": "stream",
     "text": [
      "(4,)\n",
      "(1, 3, 400, 600)\n"
     ]
    },
    {
     "ename": "NameError",
     "evalue": "name 'model' is not defined",
     "output_type": "error",
     "traceback": [
      "\u001B[0;31m---------------------------------------------------------------------------\u001B[0m",
      "\u001B[0;31mNameError\u001B[0m                                 Traceback (most recent call last)",
      "Cell \u001B[0;32mIn[4], line 17\u001B[0m\n\u001B[1;32m     14\u001B[0m accumulated_reward \u001B[38;5;241m=\u001B[39m \u001B[38;5;241m0\u001B[39m\n\u001B[1;32m     16\u001B[0m \u001B[38;5;28;01mwhile\u001B[39;00m \u001B[38;5;129;01mnot\u001B[39;00m finished:\n\u001B[0;32m---> 17\u001B[0m     action \u001B[38;5;241m=\u001B[39m \u001B[43mmodel\u001B[49m\u001B[38;5;241m.\u001B[39mpredict(observation)[\u001B[38;5;241m0\u001B[39m]\n\u001B[1;32m     18\u001B[0m     observation, reward, terminated, truncated \u001B[38;5;241m=\u001B[39m env\u001B[38;5;241m.\u001B[39mstep(action)\n\u001B[1;32m     19\u001B[0m     accumulated_reward \u001B[38;5;241m+\u001B[39m\u001B[38;5;241m=\u001B[39m reward\n",
      "\u001B[0;31mNameError\u001B[0m: name 'model' is not defined"
     ]
    }
   ],
   "source": [
    "episodes = 1\n",
    "\n",
    "env = gym.make('CartPole-v1', render_mode=\"rgb_array\")\n",
    "env = CustomObservationWrapper(env)\n",
    "\n",
    "# Wrap it into a DummyVecEnv for compatibility with SB3\n",
    "env = DummyVecEnv([lambda: env])\n",
    "env = VecTransposeImage(env) \n",
    "\n",
    "for episode in range(1, episodes+1):    \n",
    "    observation = env.reset()\n",
    "    print(observation.shape)\n",
    "    finished = False\n",
    "    accumulated_reward = 0\n",
    "    \n",
    "    while not finished:\n",
    "        action = model.predict(observation)[0]\n",
    "        observation, reward, terminated, truncated = env.step(action)\n",
    "        accumulated_reward += reward\n",
    "\n",
    "        terminated_flag = terminated[0]\n",
    "        truncated_flag = truncated[0].get('TimeLimit.truncated', False)\n",
    "        \n",
    "        finished = terminated_flag or truncated_flag\n",
    "\n",
    "        if finished:\n",
    "            env.reset()\n",
    "            print(\"Episode {} terminated\".format(episode))\n",
    "            print(\"Accumulated Reward: {}\".format(accumulated_reward))\n",
    "\n",
    "env.close()"
   ],
   "metadata": {
    "collapsed": false,
    "ExecuteTime": {
     "end_time": "2024-01-30T11:35:23.755161184Z",
     "start_time": "2024-01-30T11:35:23.676146342Z"
    }
   },
   "id": "e1cff84769deb79"
  }
 ],
 "metadata": {
  "kernelspec": {
   "display_name": "Python 3",
   "language": "python",
   "name": "python3"
  },
  "language_info": {
   "codemirror_mode": {
    "name": "ipython",
    "version": 2
   },
   "file_extension": ".py",
   "mimetype": "text/x-python",
   "name": "python",
   "nbconvert_exporter": "python",
   "pygments_lexer": "ipython2",
   "version": "2.7.6"
  }
 },
 "nbformat": 4,
 "nbformat_minor": 5
}
