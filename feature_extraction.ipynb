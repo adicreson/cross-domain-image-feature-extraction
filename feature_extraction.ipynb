{
 "cells": [
  {
   "cell_type": "code",
   "execution_count": 26,
   "id": "2702c640",
   "metadata": {},
   "outputs": [],
   "source": [
    "import os \n",
    "from tensorflow.keras.applications.vgg16 import VGG16, preprocess_input\n",
    "from tensorflow.keras.preprocessing.image import load_img, img_to_array\n",
    "import pickle"
   ]
  },
  {
   "cell_type": "code",
   "execution_count": 11,
   "id": "12086101",
   "metadata": {},
   "outputs": [],
   "source": [
    "from tensorflow.keras.models import Model"
   ]
  },
  {
   "cell_type": "code",
   "execution_count": 10,
   "id": "7d0aced4",
   "metadata": {},
   "outputs": [
    {
     "name": "stdout",
     "output_type": "stream",
     "text": [
      "Downloading data from https://storage.googleapis.com/tensorflow/keras-applications/vgg16/vgg16_weights_tf_dim_ordering_tf_kernels.h5\n",
      "553467096/553467096 [==============================] - 77s 0us/step\n"
     ]
    }
   ],
   "source": [
    "# load model\n",
    "model = VGG16()"
   ]
  },
  {
   "cell_type": "code",
   "execution_count": 12,
   "id": "0cc45e81",
   "metadata": {},
   "outputs": [
    {
     "name": "stdout",
     "output_type": "stream",
     "text": [
      "Model: \"model\"\n",
      "_________________________________________________________________\n",
      " Layer (type)                Output Shape              Param #   \n",
      "=================================================================\n",
      " input_1 (InputLayer)        [(None, 224, 224, 3)]     0         \n",
      "                                                                 \n",
      " block1_conv1 (Conv2D)       (None, 224, 224, 64)      1792      \n",
      "                                                                 \n",
      " block1_conv2 (Conv2D)       (None, 224, 224, 64)      36928     \n",
      "                                                                 \n",
      " block1_pool (MaxPooling2D)  (None, 112, 112, 64)      0         \n",
      "                                                                 \n",
      " block2_conv1 (Conv2D)       (None, 112, 112, 128)     73856     \n",
      "                                                                 \n",
      " block2_conv2 (Conv2D)       (None, 112, 112, 128)     147584    \n",
      "                                                                 \n",
      " block2_pool (MaxPooling2D)  (None, 56, 56, 128)       0         \n",
      "                                                                 \n",
      " block3_conv1 (Conv2D)       (None, 56, 56, 256)       295168    \n",
      "                                                                 \n",
      " block3_conv2 (Conv2D)       (None, 56, 56, 256)       590080    \n",
      "                                                                 \n",
      " block3_conv3 (Conv2D)       (None, 56, 56, 256)       590080    \n",
      "                                                                 \n",
      " block3_pool (MaxPooling2D)  (None, 28, 28, 256)       0         \n",
      "                                                                 \n",
      " block4_conv1 (Conv2D)       (None, 28, 28, 512)       1180160   \n",
      "                                                                 \n",
      " block4_conv2 (Conv2D)       (None, 28, 28, 512)       2359808   \n",
      "                                                                 \n",
      " block4_conv3 (Conv2D)       (None, 28, 28, 512)       2359808   \n",
      "                                                                 \n",
      " block4_pool (MaxPooling2D)  (None, 14, 14, 512)       0         \n",
      "                                                                 \n",
      " block5_conv1 (Conv2D)       (None, 14, 14, 512)       2359808   \n",
      "                                                                 \n",
      " block5_conv2 (Conv2D)       (None, 14, 14, 512)       2359808   \n",
      "                                                                 \n",
      " block5_conv3 (Conv2D)       (None, 14, 14, 512)       2359808   \n",
      "                                                                 \n",
      " block5_pool (MaxPooling2D)  (None, 7, 7, 512)         0         \n",
      "                                                                 \n",
      " flatten (Flatten)           (None, 25088)             0         \n",
      "                                                                 \n",
      " fc1 (Dense)                 (None, 4096)              102764544 \n",
      "                                                                 \n",
      " fc2 (Dense)                 (None, 4096)              16781312  \n",
      "                                                                 \n",
      "=================================================================\n",
      "Total params: 134,260,544\n",
      "Trainable params: 134,260,544\n",
      "Non-trainable params: 0\n",
      "_________________________________________________________________\n",
      "None\n"
     ]
    }
   ],
   "source": [
    "# restructure the model  (remove prediction layer)\n",
    "model = Model(inputs=model.inputs, outputs=model.layers[-2].output)\n",
    "# model summary\n",
    "print(model.summary())"
   ]
  },
  {
   "cell_type": "code",
   "execution_count": 14,
   "id": "bbb0e626",
   "metadata": {},
   "outputs": [],
   "source": [
    "# store features in a dictionary\n",
    "features = {}\n",
    "directory = '../toAbai/'"
   ]
  },
  {
   "cell_type": "code",
   "execution_count": 15,
   "id": "82f09cf4",
   "metadata": {},
   "outputs": [],
   "source": [
    "for image in os.listdir(directory):\n",
    "    image_path = directory+image\n",
    "    # load image\n",
    "    img = load_img(image_path, target_size=(224,224))\n",
    "    # convert pixel to numpy array\n",
    "    img = img_to_array(img)\n",
    "    # reshape image for the model\n",
    "    img = img.reshape((1, img.shape[0], img.shape[1], img.shape[2]))\n",
    "    # preprocess the image\n",
    "    img = preprocess_input(img)\n",
    "    # extract features\n",
    "    feature = model.predict(img, verbose=0)\n",
    "    # store feature\n",
    "    features[image_path] = feature"
   ]
  },
  {
   "cell_type": "code",
   "execution_count": 25,
   "id": "082321e7",
   "metadata": {},
   "outputs": [
    {
     "name": "stdout",
     "output_type": "stream",
     "text": [
      "[[0.7393387 3.375596  0.        ... 0.        0.        1.7204897]]\n"
     ]
    },
    {
     "data": {
      "text/plain": [
       "(None, (1, 4096))"
      ]
     },
     "execution_count": 25,
     "metadata": {},
     "output_type": "execute_result"
    }
   ],
   "source": [
    "print(next(iter(features.values()))), feature.shape"
   ]
  },
  {
   "cell_type": "code",
   "execution_count": 36,
   "id": "cefbd981",
   "metadata": {},
   "outputs": [
    {
     "name": "stdout",
     "output_type": "stream",
     "text": [
      "Dictionary has been pickled and stored in C:\\Users\\Lenovo\\Desktop\\Thesis\\my_dict.pkl\n"
     ]
    }
   ],
   "source": [
    "# store dictionary using pickle\n",
    "current_directory = os.getcwd()\n",
    "file_path = os.path.join(os.path.expanduser(\"~\"), os.getcwd(), 'my_dict.pkl')\n",
    "\n",
    "with open(file_path, 'wb') as file:\n",
    "    pickle.dump(features, file)\n",
    "\n",
    "print(f'Dictionary has been pickled and stored in {file_path}')"
   ]
  },
  {
   "cell_type": "code",
   "execution_count": 37,
   "id": "80f2562c",
   "metadata": {},
   "outputs": [
    {
     "name": "stdout",
     "output_type": "stream",
     "text": [
      "Loaded dictionary\n"
     ]
    }
   ],
   "source": [
    "# read features\n",
    "with open(file_path, 'rb') as file:\n",
    "    features_loaded = pickle.load(file)\n",
    "\n",
    "print(f'Loaded dictionary')"
   ]
  },
  {
   "cell_type": "code",
   "execution_count": 38,
   "id": "76161af3",
   "metadata": {},
   "outputs": [
    {
     "data": {
      "text/plain": [
       "{'../toAbai/20140713_004555.jpg': array([[0.7393387, 3.375596 , 0.       , ..., 0.       , 0.       ,\n",
       "         1.7204897]], dtype=float32),\n",
       " '../toAbai/20140713_004615.jpg': array([[0.       , 0.       , 0.       , ..., 0.       , 0.       ,\n",
       "         1.1843777]], dtype=float32),\n",
       " '../toAbai/20140811_154956.jpg': array([[1.0635737, 0.       , 2.0615153, ..., 0.       , 0.       ,\n",
       "         0.6567514]], dtype=float32),\n",
       " '../toAbai/20140811_165241.jpg': array([[1.2937165, 0.       , 1.507737 , ..., 0.       , 0.       ,\n",
       "         3.5571747]], dtype=float32),\n",
       " '../toAbai/20140811_165242.jpg': array([[1.1115143, 0.       , 1.9042155, ..., 0.       , 0.       ,\n",
       "         3.8743246]], dtype=float32),\n",
       " '../toAbai/20140811_183114.jpg': array([[0.        , 0.        , 2.4152532 , ..., 0.        , 0.        ,\n",
       "         0.86019933]], dtype=float32),\n",
       " '../toAbai/20140811_183133.jpg': array([[0.       , 0.       , 0.       , ..., 0.       , 0.       ,\n",
       "         0.9978311]], dtype=float32),\n",
       " '../toAbai/20140811_183136.jpg': array([[0.        , 0.        , 0.        , ..., 0.        , 0.        ,\n",
       "         0.98432386]], dtype=float32),\n",
       " '../toAbai/20140811_183147.jpg': array([[0.       , 1.8310803, 0.       , ..., 0.       , 2.233427 ,\n",
       "         2.234611 ]], dtype=float32),\n",
       " '../toAbai/image-28eb50e9efb0ac6652846f6a929e595f08a7c35a51ab37f42ab535cabf2923c7-V.jpg': array([[2.9660363, 0.       , 0.       , ..., 0.       , 2.0046406,\n",
       "         0.       ]], dtype=float32),\n",
       " '../toAbai/image-45bb18e0cab38ccde283301e93acf4d80f01b8cfcddc8f43b3a1ac8b2265c494-V.jpg': array([[2.6963854, 0.       , 0.       , ..., 0.       , 1.3375505,\n",
       "         0.1234529]], dtype=float32),\n",
       " '../toAbai/image-4ac8236b8a2c761383cb3fe5a681c26878f3082bd4ad633799976f64d3af7171-V.jpg': array([[0.        , 0.        , 0.        , ..., 0.        , 0.21043478,\n",
       "         0.        ]], dtype=float32),\n",
       " '../toAbai/image-8a477d935da52b57aae2d1f958f97de1ccf36e8c645522cd2a0d4586105ee4e8-V.jpg': array([[0.      , 0.      , 0.      , ..., 0.      , 0.      , 1.353933]],\n",
       "       dtype=float32),\n",
       " '../toAbai/image-8af6f2e96ea29cedc99f33bdfe0eeed2fdcf8eeefe61c1213f0642a045f1e980-V.jpg': array([[0.        , 0.        , 0.        , ..., 0.        , 0.32872054,\n",
       "         0.        ]], dtype=float32)}"
      ]
     },
     "execution_count": 38,
     "metadata": {},
     "output_type": "execute_result"
    }
   ],
   "source": [
    "features_loaded"
   ]
  }
 ],
 "metadata": {
  "kernelspec": {
   "display_name": "Python 3 (ipykernel)",
   "language": "python",
   "name": "python3"
  },
  "language_info": {
   "codemirror_mode": {
    "name": "ipython",
    "version": 3
   },
   "file_extension": ".py",
   "mimetype": "text/x-python",
   "name": "python",
   "nbconvert_exporter": "python",
   "pygments_lexer": "ipython3",
   "version": "3.9.13"
  }
 },
 "nbformat": 4,
 "nbformat_minor": 5
}
